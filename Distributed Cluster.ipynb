{
 "cells": [
  {
   "cell_type": "markdown",
   "metadata": {},
   "source": [
    "# Distributed Cluster Testing"
   ]
  },
  {
   "cell_type": "code",
   "execution_count": 6,
   "metadata": {},
   "outputs": [],
   "source": [
    "import dask\n",
    "import dask.array as da\n",
    "from dask.distributed import Client\n",
    "import os\n",
    "import zarr\n",
    "import matplotlib.pyplot as plt\n",
    "import time"
   ]
  },
  {
   "cell_type": "code",
   "execution_count": 16,
   "metadata": {},
   "outputs": [],
   "source": [
    "root = zarr.open('/Users/tnonet/Documents/SNP_matrices/20K_80K.zarr/', mode='r')\n",
    "snp_zarr_array = da.from_zarr(root)"
   ]
  },
  {
   "cell_type": "code",
   "execution_count": 23,
   "metadata": {},
   "outputs": [],
   "source": [
    "client.close()"
   ]
  },
  {
   "cell_type": "code",
   "execution_count": 26,
   "metadata": {},
   "outputs": [],
   "source": [
    "def shape(v1):\n",
    "    k, p = v1.shape if v1.shape[0] < v1.shape[1] else v1.T.shape\n",
    "    return k, p"
   ]
  },
  {
   "cell_type": "code",
   "execution_count": 28,
   "metadata": {},
   "outputs": [
    {
     "data": {
      "text/plain": [
       "(20000, 80000)"
      ]
     },
     "execution_count": 28,
     "metadata": {},
     "output_type": "execute_result"
    },
    {
     "name": "stderr",
     "output_type": "stream",
     "text": [
      "tornado.application - ERROR - Exception in callback <bound method SystemMonitor.update of <SystemMonitor: cpu: 1 memory: 124 MB fds: 157>>\n",
      "Traceback (most recent call last):\n",
      "  File \"//anaconda3/lib/python3.7/site-packages/tornado/ioloop.py\", line 907, in _run\n",
      "    return self.callback()\n",
      "  File \"//anaconda3/lib/python3.7/site-packages/distributed/system_monitor.py\", line 65, in update\n",
      "    read_bytes = (ioc.bytes_recv - last.bytes_recv) / (duration or 0.5)\n",
      "AttributeError: 'NoneType' object has no attribute 'bytes_recv'\n",
      "tornado.application - ERROR - Exception in callback <bound method SystemMonitor.update of <SystemMonitor: cpu: 10 memory: 228 MB fds: 157>>\n",
      "Traceback (most recent call last):\n",
      "  File \"//anaconda3/lib/python3.7/site-packages/tornado/ioloop.py\", line 907, in _run\n",
      "    return self.callback()\n",
      "  File \"//anaconda3/lib/python3.7/site-packages/distributed/system_monitor.py\", line 65, in update\n",
      "    read_bytes = (ioc.bytes_recv - last.bytes_recv) / (duration or 0.5)\n",
      "AttributeError: 'NoneType' object has no attribute 'bytes_recv'\n"
     ]
    }
   ],
   "source": [
    "shape(snp_zarr_array.T)"
   ]
  },
  {
   "cell_type": "code",
   "execution_count": 24,
   "metadata": {},
   "outputs": [],
   "source": [
    "client = Client(n_workers=2, \n",
    "                threads_per_worker=1,\n",
    "                memory_limit='4GB')"
   ]
  },
  {
   "cell_type": "code",
   "execution_count": 20,
   "metadata": {},
   "outputs": [],
   "source": [
    "def PM(array, k=2, b=10, iters=2):\n",
    "    n, p = array.shape\n",
    "    \n",
    "    x = da.random.normal(size=(p, k+b))\n",
    "    for _ in range(iters-1):\n",
    "        xp = array.T.dot(array.dot(x))\n",
    "        x, _ = da.linalg.tsqr(xp)\n",
    "        x = x.persist()\n",
    "        \n",
    "    x = array.dot(x)\n",
    "    \n",
    "    return dask.compute(da.linalg.tsqr(x, compute_svd=True))[0]"
   ]
  },
  {
   "cell_type": "code",
   "execution_count": 25,
   "metadata": {},
   "outputs": [
    {
     "name": "stdout",
     "output_type": "stream",
     "text": [
      "17.51203989982605\n"
     ]
    }
   ],
   "source": [
    "start = time.time()\n",
    "U, S, V = PM(snp_zarr_array)\n",
    "print(time.time() - start)"
   ]
  },
  {
   "cell_type": "code",
   "execution_count": 21,
   "metadata": {},
   "outputs": [
    {
     "name": "stdout",
     "output_type": "stream",
     "text": [
      "29.52586579322815\n"
     ]
    }
   ],
   "source": [
    "start = time.time()\n",
    "U, S, V = PM(snp_zarr_array)\n",
    "print(time.time() - start)"
   ]
  },
  {
   "cell_type": "code",
   "execution_count": 55,
   "metadata": {},
   "outputs": [],
   "source": [
    "Up, Sp, Vp = da.linalg.tsqr(snp_zarr_array[:,0:5000], compute_svd=True)"
   ]
  },
  {
   "cell_type": "code",
   "execution_count": 56,
   "metadata": {},
   "outputs": [
    {
     "data": {
      "text/plain": [
       "[<matplotlib.lines.Line2D at 0x1296c8ef0>]"
      ]
     },
     "execution_count": 56,
     "metadata": {},
     "output_type": "execute_result"
    },
    {
     "data": {
      "image/png": "[encoded data removed]",
      "text/plain": [
       "<Figure size 432x288 with 1 Axes>"
      ]
     },
     "metadata": {
      "needs_background": "light"
     },
     "output_type": "display_data"
    }
   ],
   "source": [
    "plt.plot(S)\n",
    "plt.plot(Sp.compute()[0:12])"
   ]
  },
  {
   "cell_type": "code",
   "execution_count": null,
   "metadata": {},
   "outputs": [],
   "source": []
  }
 ],
 "metadata": {
  "kernelspec": {
   "display_name": "Python 3",
   "language": "python",
   "name": "python3"
  },
  "language_info": {
   "codemirror_mode": {
    "name": "ipython",
    "version": 3
   },
   "file_extension": ".py",
   "mimetype": "text/x-python",
   "name": "python",
   "nbconvert_exporter": "python",
   "pygments_lexer": "ipython3",
   "version": "3.7.3"
  }
 },
 "nbformat": 4,
 "nbformat_minor": 4
}
