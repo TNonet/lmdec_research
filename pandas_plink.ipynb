{
 "cells": [
  {
   "cell_type": "code",
   "execution_count": 6,
   "metadata": {},
   "outputs": [],
   "source": [
    "import pandas_plink\n",
    "from pandas_plink import read_plink\n",
    "from pandas_plink import example_file_prefix"
   ]
  },
  {
   "cell_type": "code",
   "execution_count": 7,
   "metadata": {},
   "outputs": [
    {
     "name": "stderr",
     "output_type": "stream",
     "text": [
      "//anaconda3/lib/python3.7/site-packages/ipykernel_launcher.py:1: DeprecationWarning: Call to deprecated function (or staticmethod) example_file_prefix. (use function :func:`get_data_folder` instead.) -- Deprecated since version 2.0.0.\n",
      "  \"\"\"Entry point for launching an IPython kernel.\n",
      "Mapping files: 100%|██████████| 3/3 [00:00<00:00, 268.12it/s]"
     ]
    },
    {
     "name": "stdout",
     "output_type": "stream",
     "text": [
      "  chrom         snp   cm    pos a0 a1  i\n",
      "0     1  rs10399749  0.0  45162  G  C  0\n",
      "1     1   rs2949420  0.0  45257  C  T  1\n",
      "2     1   rs2949421  0.0  45413  0  0  2\n",
      "3     1   rs2691310  0.0  46844  A  T  3\n",
      "4     1   rs4030303  0.0  72434  0  G  4\n",
      "        fid       iid    father    mother gender  trait  i\n",
      "0  Sample_1  Sample_1         0         0      1   -9.0  0\n",
      "1  Sample_2  Sample_2         0         0      2   -9.0  1\n",
      "2  Sample_3  Sample_3  Sample_1  Sample_2      2   -9.0  2\n",
      "dask.array<from-value, shape=(10, 3), dtype=float64, chunksize=(10, 3), chunktype=numpy.ndarray>\n"
     ]
    },
    {
     "name": "stderr",
     "output_type": "stream",
     "text": [
      "\n"
     ]
    }
   ],
   "source": [
    "(bim, fam, G) = read_plink(example_file_prefix())\n",
    "print(bim.head())\n",
    "print(fam.head())\n",
    "print(G)"
   ]
  },
  {
   "cell_type": "code",
   "execution_count": 13,
   "metadata": {},
   "outputs": [
    {
     "data": {
      "text/html": [
       "<div>\n",
       "<style scoped>\n",
       "    .dataframe tbody tr th:only-of-type {\n",
       "        vertical-align: middle;\n",
       "    }\n",
       "\n",
       "    .dataframe tbody tr th {\n",
       "        vertical-align: top;\n",
       "    }\n",
       "\n",
       "    .dataframe thead th {\n",
       "        text-align: right;\n",
       "    }\n",
       "</style>\n",
       "<table border=\"1\" class=\"dataframe\">\n",
       "  <thead>\n",
       "    <tr style=\"text-align: right;\">\n",
       "      <th></th>\n",
       "      <th>fid</th>\n",
       "      <th>iid</th>\n",
       "      <th>father</th>\n",
       "      <th>mother</th>\n",
       "      <th>gender</th>\n",
       "      <th>trait</th>\n",
       "      <th>i</th>\n",
       "    </tr>\n",
       "  </thead>\n",
       "  <tbody>\n",
       "    <tr>\n",
       "      <th>0</th>\n",
       "      <td>Sample_1</td>\n",
       "      <td>Sample_1</td>\n",
       "      <td>0</td>\n",
       "      <td>0</td>\n",
       "      <td>1</td>\n",
       "      <td>-9.00</td>\n",
       "      <td>0</td>\n",
       "    </tr>\n",
       "    <tr>\n",
       "      <th>1</th>\n",
       "      <td>Sample_2</td>\n",
       "      <td>Sample_2</td>\n",
       "      <td>0</td>\n",
       "      <td>0</td>\n",
       "      <td>2</td>\n",
       "      <td>-9.00</td>\n",
       "      <td>1</td>\n",
       "    </tr>\n",
       "    <tr>\n",
       "      <th>2</th>\n",
       "      <td>Sample_3</td>\n",
       "      <td>Sample_3</td>\n",
       "      <td>Sample_1</td>\n",
       "      <td>Sample_2</td>\n",
       "      <td>2</td>\n",
       "      <td>-9.00</td>\n",
       "      <td>2</td>\n",
       "    </tr>\n",
       "  </tbody>\n",
       "</table>\n",
       "</div>"
      ],
      "text/plain": [
       "        fid       iid    father    mother gender    trait  i\n",
       "0  Sample_1  Sample_1         0         0      1    -9.00  0\n",
       "1  Sample_2  Sample_2         0         0      2    -9.00  1\n",
       "2  Sample_3  Sample_3  Sample_1  Sample_2      2    -9.00  2"
      ]
     },
     "execution_count": 13,
     "metadata": {},
     "output_type": "execute_result"
    }
   ],
   "source": [
    "fam"
   ]
  },
  {
   "cell_type": "code",
   "execution_count": null,
   "metadata": {},
   "outputs": [],
   "source": []
  }
 ],
 "metadata": {
  "kernelspec": {
   "display_name": "Python 3",
   "language": "python",
   "name": "python3"
  },
  "language_info": {
   "codemirror_mode": {
    "name": "ipython",
    "version": 3
   },
   "file_extension": ".py",
   "mimetype": "text/x-python",
   "name": "python",
   "nbconvert_exporter": "python",
   "pygments_lexer": "ipython3",
   "version": "3.7.3"
  }
 },
 "nbformat": 4,
 "nbformat_minor": 4
}
