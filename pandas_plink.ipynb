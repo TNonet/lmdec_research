{
 "cells": [
  {
   "cell_type": "code",
   "execution_count": 1,
   "metadata": {},
   "outputs": [],
   "source": [
    "import pandas_plink\n",
    "from pandas_plink import read_plink1_bin\n",
    "from os import path\n",
    "import dask.array as da\n",
    "import numpy as np\n",
    "\n",
    "from lmdec.decomp.iter_methods import PowerMethod"
   ]
  },
  {
   "cell_type": "code",
   "execution_count": 61,
   "metadata": {},
   "outputs": [],
   "source": [
    "data_loc = '../../1000G_Pruned'\n",
    "data_dir = path.abspath(path.join(data_loc, '1KG_pruned_forPCA'))\n",
    "bed_file = path.abspath(path.join(data_loc, '1KG_pruned_forPCA.bed'))\n",
    "bim_file = path.abspath(path.join(data_loc, '1KG_pruned_forPCA.bim'))\n",
    "fam_file = path.abspath(path.join(data_loc, '1KG_pruned_forPCA.fam'))"
   ]
  },
  {
   "cell_type": "code",
   "execution_count": 62,
   "metadata": {},
   "outputs": [
    {
     "data": {
      "text/plain": [
       "str"
      ]
     },
     "execution_count": 62,
     "metadata": {},
     "output_type": "execute_result"
    }
   ],
   "source": [
    "type(fam_file)\n"
   ]
  },
  {
   "cell_type": "code",
   "execution_count": 63,
   "metadata": {},
   "outputs": [],
   "source": [
    "import pathlib"
   ]
  },
  {
   "cell_type": "code",
   "execution_count": 64,
   "metadata": {},
   "outputs": [
    {
     "data": {
      "text/plain": [
       "True"
      ]
     },
     "execution_count": 64,
     "metadata": {},
     "output_type": "execute_result"
    }
   ],
   "source": [
    "isinstance(pathlib.Path(fam_file), pathlib.Path)"
   ]
  },
  {
   "cell_type": "code",
   "execution_count": 65,
   "metadata": {},
   "outputs": [
    {
     "data": {
      "text/plain": [
       "'/Users/tnonet/Documents/1000G_Pruned/1KG_pruned_forPCA.bed'"
      ]
     },
     "execution_count": 65,
     "metadata": {},
     "output_type": "execute_result"
    }
   ],
   "source": [
    "bed_file"
   ]
  },
  {
   "cell_type": "code",
   "execution_count": 67,
   "metadata": {},
   "outputs": [
    {
     "name": "stderr",
     "output_type": "stream",
     "text": [
      "\n",
      "Mapping files:   0%|          | 0/3 [00:00<?, ?it/s]\u001b[A\n",
      "Mapping files:  33%|███▎      | 1/3 [00:00<00:00,  4.77it/s]\u001b[A\n",
      "Mapping files: 100%|██████████| 3/3 [00:00<00:00,  5.20it/s]\u001b[A\n"
     ]
    }
   ],
   "source": [
    "G = pandas_plink.read_plink1_bin(bed_file, bim_file, fam_file)"
   ]
  },
  {
   "cell_type": "code",
   "execution_count": 70,
   "metadata": {},
   "outputs": [
    {
     "data": {
      "text/html": [
       "<table>\n",
       "<tr>\n",
       "<td>\n",
       "<table>\n",
       "  <thead>\n",
       "    <tr><td> </td><th> Array </th><th> Chunk </th></tr>\n",
       "  </thead>\n",
       "  <tbody>\n",
       "    <tr><th> Bytes </th><td> 3.37 GB </td> <td> 8.39 MB </td></tr>\n",
       "    <tr><th> Shape </th><td> (2504, 168047) </td> <td> (1024, 1024) </td></tr>\n",
       "    <tr><th> Count </th><td> 2475 Tasks </td><td> 495 Chunks </td></tr>\n",
       "    <tr><th> Type </th><td> float64 </td><td> numpy.ndarray </td></tr>\n",
       "  </tbody>\n",
       "</table>\n",
       "</td>\n",
       "<td>\n",
       "<svg width=\"170\" height=\"77\" style=\"stroke:rgb(0,0,0);stroke-width:1\" >\n",
       "\n",
       "  <!-- Horizontal lines -->\n",
       "  <line x1=\"0\" y1=\"0\" x2=\"120\" y2=\"0\" style=\"stroke-width:2\" />\n",
       "  <line x1=\"0\" y1=\"11\" x2=\"120\" y2=\"11\" />\n",
       "  <line x1=\"0\" y1=\"22\" x2=\"120\" y2=\"22\" />\n",
       "  <line x1=\"0\" y1=\"27\" x2=\"120\" y2=\"27\" style=\"stroke-width:2\" />\n",
       "\n",
       "  <!-- Vertical lines -->\n",
       "  <line x1=\"0\" y1=\"0\" x2=\"0\" y2=\"27\" style=\"stroke-width:2\" />\n",
       "  <line x1=\"0\" y1=\"0\" x2=\"0\" y2=\"27\" />\n",
       "  <line x1=\"1\" y1=\"0\" x2=\"1\" y2=\"27\" />\n",
       "  <line x1=\"2\" y1=\"0\" x2=\"2\" y2=\"27\" />\n",
       "  <line x1=\"2\" y1=\"0\" x2=\"2\" y2=\"27\" />\n",
       "  <line x1=\"3\" y1=\"0\" x2=\"3\" y2=\"27\" />\n",
       "  <line x1=\"4\" y1=\"0\" x2=\"4\" y2=\"27\" />\n",
       "  <line x1=\"5\" y1=\"0\" x2=\"5\" y2=\"27\" />\n",
       "  <line x1=\"5\" y1=\"0\" x2=\"5\" y2=\"27\" />\n",
       "  <line x1=\"6\" y1=\"0\" x2=\"6\" y2=\"27\" />\n",
       "  <line x1=\"7\" y1=\"0\" x2=\"7\" y2=\"27\" />\n",
       "  <line x1=\"8\" y1=\"0\" x2=\"8\" y2=\"27\" />\n",
       "  <line x1=\"8\" y1=\"0\" x2=\"8\" y2=\"27\" />\n",
       "  <line x1=\"9\" y1=\"0\" x2=\"9\" y2=\"27\" />\n",
       "  <line x1=\"10\" y1=\"0\" x2=\"10\" y2=\"27\" />\n",
       "  <line x1=\"10\" y1=\"0\" x2=\"10\" y2=\"27\" />\n",
       "  <line x1=\"11\" y1=\"0\" x2=\"11\" y2=\"27\" />\n",
       "  <line x1=\"12\" y1=\"0\" x2=\"12\" y2=\"27\" />\n",
       "  <line x1=\"13\" y1=\"0\" x2=\"13\" y2=\"27\" />\n",
       "  <line x1=\"13\" y1=\"0\" x2=\"13\" y2=\"27\" />\n",
       "  <line x1=\"14\" y1=\"0\" x2=\"14\" y2=\"27\" />\n",
       "  <line x1=\"15\" y1=\"0\" x2=\"15\" y2=\"27\" />\n",
       "  <line x1=\"16\" y1=\"0\" x2=\"16\" y2=\"27\" />\n",
       "  <line x1=\"16\" y1=\"0\" x2=\"16\" y2=\"27\" />\n",
       "  <line x1=\"17\" y1=\"0\" x2=\"17\" y2=\"27\" />\n",
       "  <line x1=\"18\" y1=\"0\" x2=\"18\" y2=\"27\" />\n",
       "  <line x1=\"19\" y1=\"0\" x2=\"19\" y2=\"27\" />\n",
       "  <line x1=\"19\" y1=\"0\" x2=\"19\" y2=\"27\" />\n",
       "  <line x1=\"20\" y1=\"0\" x2=\"20\" y2=\"27\" />\n",
       "  <line x1=\"21\" y1=\"0\" x2=\"21\" y2=\"27\" />\n",
       "  <line x1=\"21\" y1=\"0\" x2=\"21\" y2=\"27\" />\n",
       "  <line x1=\"22\" y1=\"0\" x2=\"22\" y2=\"27\" />\n",
       "  <line x1=\"23\" y1=\"0\" x2=\"23\" y2=\"27\" />\n",
       "  <line x1=\"24\" y1=\"0\" x2=\"24\" y2=\"27\" />\n",
       "  <line x1=\"24\" y1=\"0\" x2=\"24\" y2=\"27\" />\n",
       "  <line x1=\"25\" y1=\"0\" x2=\"25\" y2=\"27\" />\n",
       "  <line x1=\"26\" y1=\"0\" x2=\"26\" y2=\"27\" />\n",
       "  <line x1=\"27\" y1=\"0\" x2=\"27\" y2=\"27\" />\n",
       "  <line x1=\"27\" y1=\"0\" x2=\"27\" y2=\"27\" />\n",
       "  <line x1=\"28\" y1=\"0\" x2=\"28\" y2=\"27\" />\n",
       "  <line x1=\"29\" y1=\"0\" x2=\"29\" y2=\"27\" />\n",
       "  <line x1=\"29\" y1=\"0\" x2=\"29\" y2=\"27\" />\n",
       "  <line x1=\"30\" y1=\"0\" x2=\"30\" y2=\"27\" />\n",
       "  <line x1=\"31\" y1=\"0\" x2=\"31\" y2=\"27\" />\n",
       "  <line x1=\"32\" y1=\"0\" x2=\"32\" y2=\"27\" />\n",
       "  <line x1=\"32\" y1=\"0\" x2=\"32\" y2=\"27\" />\n",
       "  <line x1=\"33\" y1=\"0\" x2=\"33\" y2=\"27\" />\n",
       "  <line x1=\"34\" y1=\"0\" x2=\"34\" y2=\"27\" />\n",
       "  <line x1=\"35\" y1=\"0\" x2=\"35\" y2=\"27\" />\n",
       "  <line x1=\"35\" y1=\"0\" x2=\"35\" y2=\"27\" />\n",
       "  <line x1=\"36\" y1=\"0\" x2=\"36\" y2=\"27\" />\n",
       "  <line x1=\"37\" y1=\"0\" x2=\"37\" y2=\"27\" />\n",
       "  <line x1=\"38\" y1=\"0\" x2=\"38\" y2=\"27\" />\n",
       "  <line x1=\"38\" y1=\"0\" x2=\"38\" y2=\"27\" />\n",
       "  <line x1=\"39\" y1=\"0\" x2=\"39\" y2=\"27\" />\n",
       "  <line x1=\"40\" y1=\"0\" x2=\"40\" y2=\"27\" />\n",
       "  <line x1=\"40\" y1=\"0\" x2=\"40\" y2=\"27\" />\n",
       "  <line x1=\"41\" y1=\"0\" x2=\"41\" y2=\"27\" />\n",
       "  <line x1=\"42\" y1=\"0\" x2=\"42\" y2=\"27\" />\n",
       "  <line x1=\"43\" y1=\"0\" x2=\"43\" y2=\"27\" />\n",
       "  <line x1=\"43\" y1=\"0\" x2=\"43\" y2=\"27\" />\n",
       "  <line x1=\"44\" y1=\"0\" x2=\"44\" y2=\"27\" />\n",
       "  <line x1=\"45\" y1=\"0\" x2=\"45\" y2=\"27\" />\n",
       "  <line x1=\"46\" y1=\"0\" x2=\"46\" y2=\"27\" />\n",
       "  <line x1=\"46\" y1=\"0\" x2=\"46\" y2=\"27\" />\n",
       "  <line x1=\"47\" y1=\"0\" x2=\"47\" y2=\"27\" />\n",
       "  <line x1=\"48\" y1=\"0\" x2=\"48\" y2=\"27\" />\n",
       "  <line x1=\"48\" y1=\"0\" x2=\"48\" y2=\"27\" />\n",
       "  <line x1=\"49\" y1=\"0\" x2=\"49\" y2=\"27\" />\n",
       "  <line x1=\"50\" y1=\"0\" x2=\"50\" y2=\"27\" />\n",
       "  <line x1=\"51\" y1=\"0\" x2=\"51\" y2=\"27\" />\n",
       "  <line x1=\"51\" y1=\"0\" x2=\"51\" y2=\"27\" />\n",
       "  <line x1=\"52\" y1=\"0\" x2=\"52\" y2=\"27\" />\n",
       "  <line x1=\"53\" y1=\"0\" x2=\"53\" y2=\"27\" />\n",
       "  <line x1=\"54\" y1=\"0\" x2=\"54\" y2=\"27\" />\n",
       "  <line x1=\"54\" y1=\"0\" x2=\"54\" y2=\"27\" />\n",
       "  <line x1=\"55\" y1=\"0\" x2=\"55\" y2=\"27\" />\n",
       "  <line x1=\"56\" y1=\"0\" x2=\"56\" y2=\"27\" />\n",
       "  <line x1=\"57\" y1=\"0\" x2=\"57\" y2=\"27\" />\n",
       "  <line x1=\"57\" y1=\"0\" x2=\"57\" y2=\"27\" />\n",
       "  <line x1=\"58\" y1=\"0\" x2=\"58\" y2=\"27\" />\n",
       "  <line x1=\"59\" y1=\"0\" x2=\"59\" y2=\"27\" />\n",
       "  <line x1=\"59\" y1=\"0\" x2=\"59\" y2=\"27\" />\n",
       "  <line x1=\"60\" y1=\"0\" x2=\"60\" y2=\"27\" />\n",
       "  <line x1=\"61\" y1=\"0\" x2=\"61\" y2=\"27\" />\n",
       "  <line x1=\"62\" y1=\"0\" x2=\"62\" y2=\"27\" />\n",
       "  <line x1=\"62\" y1=\"0\" x2=\"62\" y2=\"27\" />\n",
       "  <line x1=\"63\" y1=\"0\" x2=\"63\" y2=\"27\" />\n",
       "  <line x1=\"64\" y1=\"0\" x2=\"64\" y2=\"27\" />\n",
       "  <line x1=\"65\" y1=\"0\" x2=\"65\" y2=\"27\" />\n",
       "  <line x1=\"65\" y1=\"0\" x2=\"65\" y2=\"27\" />\n",
       "  <line x1=\"66\" y1=\"0\" x2=\"66\" y2=\"27\" />\n",
       "  <line x1=\"67\" y1=\"0\" x2=\"67\" y2=\"27\" />\n",
       "  <line x1=\"68\" y1=\"0\" x2=\"68\" y2=\"27\" />\n",
       "  <line x1=\"68\" y1=\"0\" x2=\"68\" y2=\"27\" />\n",
       "  <line x1=\"69\" y1=\"0\" x2=\"69\" y2=\"27\" />\n",
       "  <line x1=\"70\" y1=\"0\" x2=\"70\" y2=\"27\" />\n",
       "  <line x1=\"70\" y1=\"0\" x2=\"70\" y2=\"27\" />\n",
       "  <line x1=\"71\" y1=\"0\" x2=\"71\" y2=\"27\" />\n",
       "  <line x1=\"72\" y1=\"0\" x2=\"72\" y2=\"27\" />\n",
       "  <line x1=\"73\" y1=\"0\" x2=\"73\" y2=\"27\" />\n",
       "  <line x1=\"73\" y1=\"0\" x2=\"73\" y2=\"27\" />\n",
       "  <line x1=\"74\" y1=\"0\" x2=\"74\" y2=\"27\" />\n",
       "  <line x1=\"75\" y1=\"0\" x2=\"75\" y2=\"27\" />\n",
       "  <line x1=\"76\" y1=\"0\" x2=\"76\" y2=\"27\" />\n",
       "  <line x1=\"76\" y1=\"0\" x2=\"76\" y2=\"27\" />\n",
       "  <line x1=\"77\" y1=\"0\" x2=\"77\" y2=\"27\" />\n",
       "  <line x1=\"78\" y1=\"0\" x2=\"78\" y2=\"27\" />\n",
       "  <line x1=\"78\" y1=\"0\" x2=\"78\" y2=\"27\" />\n",
       "  <line x1=\"79\" y1=\"0\" x2=\"79\" y2=\"27\" />\n",
       "  <line x1=\"80\" y1=\"0\" x2=\"80\" y2=\"27\" />\n",
       "  <line x1=\"81\" y1=\"0\" x2=\"81\" y2=\"27\" />\n",
       "  <line x1=\"81\" y1=\"0\" x2=\"81\" y2=\"27\" />\n",
       "  <line x1=\"82\" y1=\"0\" x2=\"82\" y2=\"27\" />\n",
       "  <line x1=\"83\" y1=\"0\" x2=\"83\" y2=\"27\" />\n",
       "  <line x1=\"84\" y1=\"0\" x2=\"84\" y2=\"27\" />\n",
       "  <line x1=\"84\" y1=\"0\" x2=\"84\" y2=\"27\" />\n",
       "  <line x1=\"85\" y1=\"0\" x2=\"85\" y2=\"27\" />\n",
       "  <line x1=\"86\" y1=\"0\" x2=\"86\" y2=\"27\" />\n",
       "  <line x1=\"87\" y1=\"0\" x2=\"87\" y2=\"27\" />\n",
       "  <line x1=\"87\" y1=\"0\" x2=\"87\" y2=\"27\" />\n",
       "  <line x1=\"88\" y1=\"0\" x2=\"88\" y2=\"27\" />\n",
       "  <line x1=\"89\" y1=\"0\" x2=\"89\" y2=\"27\" />\n",
       "  <line x1=\"89\" y1=\"0\" x2=\"89\" y2=\"27\" />\n",
       "  <line x1=\"90\" y1=\"0\" x2=\"90\" y2=\"27\" />\n",
       "  <line x1=\"91\" y1=\"0\" x2=\"91\" y2=\"27\" />\n",
       "  <line x1=\"92\" y1=\"0\" x2=\"92\" y2=\"27\" />\n",
       "  <line x1=\"92\" y1=\"0\" x2=\"92\" y2=\"27\" />\n",
       "  <line x1=\"93\" y1=\"0\" x2=\"93\" y2=\"27\" />\n",
       "  <line x1=\"94\" y1=\"0\" x2=\"94\" y2=\"27\" />\n",
       "  <line x1=\"95\" y1=\"0\" x2=\"95\" y2=\"27\" />\n",
       "  <line x1=\"95\" y1=\"0\" x2=\"95\" y2=\"27\" />\n",
       "  <line x1=\"96\" y1=\"0\" x2=\"96\" y2=\"27\" />\n",
       "  <line x1=\"97\" y1=\"0\" x2=\"97\" y2=\"27\" />\n",
       "  <line x1=\"97\" y1=\"0\" x2=\"97\" y2=\"27\" />\n",
       "  <line x1=\"98\" y1=\"0\" x2=\"98\" y2=\"27\" />\n",
       "  <line x1=\"99\" y1=\"0\" x2=\"99\" y2=\"27\" />\n",
       "  <line x1=\"100\" y1=\"0\" x2=\"100\" y2=\"27\" />\n",
       "  <line x1=\"100\" y1=\"0\" x2=\"100\" y2=\"27\" />\n",
       "  <line x1=\"101\" y1=\"0\" x2=\"101\" y2=\"27\" />\n",
       "  <line x1=\"102\" y1=\"0\" x2=\"102\" y2=\"27\" />\n",
       "  <line x1=\"103\" y1=\"0\" x2=\"103\" y2=\"27\" />\n",
       "  <line x1=\"103\" y1=\"0\" x2=\"103\" y2=\"27\" />\n",
       "  <line x1=\"104\" y1=\"0\" x2=\"104\" y2=\"27\" />\n",
       "  <line x1=\"105\" y1=\"0\" x2=\"105\" y2=\"27\" />\n",
       "  <line x1=\"106\" y1=\"0\" x2=\"106\" y2=\"27\" />\n",
       "  <line x1=\"106\" y1=\"0\" x2=\"106\" y2=\"27\" />\n",
       "  <line x1=\"107\" y1=\"0\" x2=\"107\" y2=\"27\" />\n",
       "  <line x1=\"108\" y1=\"0\" x2=\"108\" y2=\"27\" />\n",
       "  <line x1=\"108\" y1=\"0\" x2=\"108\" y2=\"27\" />\n",
       "  <line x1=\"109\" y1=\"0\" x2=\"109\" y2=\"27\" />\n",
       "  <line x1=\"110\" y1=\"0\" x2=\"110\" y2=\"27\" />\n",
       "  <line x1=\"111\" y1=\"0\" x2=\"111\" y2=\"27\" />\n",
       "  <line x1=\"111\" y1=\"0\" x2=\"111\" y2=\"27\" />\n",
       "  <line x1=\"112\" y1=\"0\" x2=\"112\" y2=\"27\" />\n",
       "  <line x1=\"113\" y1=\"0\" x2=\"113\" y2=\"27\" />\n",
       "  <line x1=\"114\" y1=\"0\" x2=\"114\" y2=\"27\" />\n",
       "  <line x1=\"114\" y1=\"0\" x2=\"114\" y2=\"27\" />\n",
       "  <line x1=\"115\" y1=\"0\" x2=\"115\" y2=\"27\" />\n",
       "  <line x1=\"116\" y1=\"0\" x2=\"116\" y2=\"27\" />\n",
       "  <line x1=\"116\" y1=\"0\" x2=\"116\" y2=\"27\" />\n",
       "  <line x1=\"117\" y1=\"0\" x2=\"117\" y2=\"27\" />\n",
       "  <line x1=\"118\" y1=\"0\" x2=\"118\" y2=\"27\" />\n",
       "  <line x1=\"119\" y1=\"0\" x2=\"119\" y2=\"27\" />\n",
       "  <line x1=\"119\" y1=\"0\" x2=\"119\" y2=\"27\" />\n",
       "  <line x1=\"120\" y1=\"0\" x2=\"120\" y2=\"27\" style=\"stroke-width:2\" />\n",
       "\n",
       "  <!-- Colored Rectangle -->\n",
       "  <polygon points=\"0.000000,0.000000 120.000000,0.000000 120.000000,27.422926 0.000000,27.422926\" style=\"fill:#ECB172A0;stroke-width:0\"/>\n",
       "\n",
       "  <!-- Text -->\n",
       "  <text x=\"60.000000\" y=\"47.422926\" font-size=\"1.0rem\" font-weight=\"100\" text-anchor=\"middle\" >168047</text>\n",
       "  <text x=\"140.000000\" y=\"13.711463\" font-size=\"1.0rem\" font-weight=\"100\" text-anchor=\"middle\" transform=\"rotate(-90,140.000000,13.711463)\">2504</text>\n",
       "</svg>\n",
       "</td>\n",
       "</tr>\n",
       "</table>"
      ],
      "text/plain": [
       "dask.array<transpose, shape=(2504, 168047), dtype=float64, chunksize=(1024, 1024), chunktype=numpy.ndarray>"
      ]
     },
     "execution_count": 70,
     "metadata": {},
     "output_type": "execute_result"
    }
   ],
   "source": [
    "G.data"
   ]
  },
  {
   "cell_type": "code",
   "execution_count": 24,
   "metadata": {},
   "outputs": [],
   "source": [
    "PM = PowerMethod(k=10, tol=1e-4, scoring_method='rmse', factor='n')"
   ]
  },
  {
   "cell_type": "code",
   "execution_count": 25,
   "metadata": {},
   "outputs": [],
   "source": [
    "G_ma = da.ma.masked_invalid(G)"
   ]
  },
  {
   "cell_type": "code",
   "execution_count": 26,
   "metadata": {},
   "outputs": [],
   "source": [
    "U, S, V = PM.svd(G_ma)"
   ]
  },
  {
   "cell_type": "code",
   "execution_count": 27,
   "metadata": {},
   "outputs": [
    {
     "data": {
      "text/plain": [
       "'n'"
      ]
     },
     "execution_count": 27,
     "metadata": {},
     "output_type": "execute_result"
    }
   ],
   "source": [
    "PM._factor"
   ]
  },
  {
   "cell_type": "code",
   "execution_count": 28,
   "metadata": {},
   "outputs": [
    {
     "data": {
      "text/plain": [
       "2"
      ]
     },
     "execution_count": 28,
     "metadata": {},
     "output_type": "execute_result"
    }
   ],
   "source": [
    "PM.num_iter"
   ]
  },
  {
   "cell_type": "code",
   "execution_count": 29,
   "metadata": {},
   "outputs": [
    {
     "data": {
      "text/plain": [
       "{'q-vals': [],\n",
       " 'rmse': [0.001986638853030779, 4.0059166301446854e-05],\n",
       " 'v-subspace': []}"
      ]
     },
     "execution_count": 29,
     "metadata": {},
     "output_type": "execute_result"
    }
   ],
   "source": [
    "PM.history['acc']"
   ]
  },
  {
   "cell_type": "code",
   "execution_count": 2,
   "metadata": {},
   "outputs": [],
   "source": [
    "from lmdec.array.core.matrix_ops import svd_to_trunc_svd\n",
    "from lmdec.array.core.metrics import *\n"
   ]
  },
  {
   "cell_type": "code",
   "execution_count": 2,
   "metadata": {},
   "outputs": [
    {
     "ename": "Exception",
     "evalue": "Cannot split more than unity. p = 11.0",
     "output_type": "error",
     "traceback": [
      "\u001b[0;31m---------------------------------------------------------------------------\u001b[0m",
      "\u001b[0;31mException\u001b[0m                                 Traceback (most recent call last)",
      "\u001b[0;32m<ipython-input-2-483404128e7d>\u001b[0m in \u001b[0;36m<module>\u001b[0;34m\u001b[0m\n\u001b[1;32m      2\u001b[0m \u001b[0marray\u001b[0m \u001b[0;34m=\u001b[0m \u001b[0mnp\u001b[0m\u001b[0;34m.\u001b[0m\u001b[0mrandom\u001b[0m\u001b[0;34m.\u001b[0m\u001b[0mrand\u001b[0m\u001b[0;34m(\u001b[0m\u001b[0;36m50\u001b[0m\u001b[0;34m,\u001b[0m \u001b[0;36m50\u001b[0m\u001b[0;34m)\u001b[0m\u001b[0;34m\u001b[0m\u001b[0;34m\u001b[0m\u001b[0m\n\u001b[1;32m      3\u001b[0m \u001b[0;31m# # with pytest.raises(ValueError):\u001b[0m\u001b[0;34m\u001b[0m\u001b[0;34m\u001b[0m\u001b[0;34m\u001b[0m\u001b[0m\n\u001b[0;32m----> 4\u001b[0;31m \u001b[0m_\u001b[0m\u001b[0;34m,\u001b[0m \u001b[0m_\u001b[0m\u001b[0;34m,\u001b[0m \u001b[0m_\u001b[0m \u001b[0;34m=\u001b[0m \u001b[0mPM\u001b[0m\u001b[0;34m.\u001b[0m\u001b[0msvd\u001b[0m\u001b[0;34m(\u001b[0m\u001b[0marray\u001b[0m\u001b[0;34m)\u001b[0m\u001b[0;34m\u001b[0m\u001b[0;34m\u001b[0m\u001b[0m\n\u001b[0m",
      "\u001b[0;32m~/Documents/GitHub/lmdec/lmdec/decomp/iter_methods.py\u001b[0m in \u001b[0;36msvd\u001b[0;34m(self, array, path_to_files, bed, bim, fam, *args, **kwargs)\u001b[0m\n\u001b[1;32m    195\u001b[0m         \u001b[0mself\u001b[0m\u001b[0;34m.\u001b[0m\u001b[0mhistory\u001b[0m\u001b[0;34m[\u001b[0m\u001b[0;34m'times'\u001b[0m\u001b[0;34m]\u001b[0m\u001b[0;34m[\u001b[0m\u001b[0;34m'start'\u001b[0m\u001b[0;34m]\u001b[0m \u001b[0;34m=\u001b[0m \u001b[0mtime\u001b[0m\u001b[0;34m.\u001b[0m\u001b[0mtime\u001b[0m\u001b[0;34m(\u001b[0m\u001b[0;34m)\u001b[0m\u001b[0;34m\u001b[0m\u001b[0;34m\u001b[0m\u001b[0m\n\u001b[1;32m    196\u001b[0m \u001b[0;34m\u001b[0m\u001b[0m\n\u001b[0;32m--> 197\u001b[0;31m         \u001b[0mx_k\u001b[0m \u001b[0;34m=\u001b[0m \u001b[0mself\u001b[0m\u001b[0;34m.\u001b[0m\u001b[0m_initialization\u001b[0m\u001b[0;34m(\u001b[0m\u001b[0mdata\u001b[0m\u001b[0;34m,\u001b[0m \u001b[0;34m*\u001b[0m\u001b[0margs\u001b[0m\u001b[0;34m,\u001b[0m \u001b[0;34m**\u001b[0m\u001b[0mkwargs\u001b[0m\u001b[0;34m)\u001b[0m\u001b[0;34m\u001b[0m\u001b[0;34m\u001b[0m\u001b[0m\n\u001b[0m\u001b[1;32m    198\u001b[0m \u001b[0;34m\u001b[0m\u001b[0m\n\u001b[1;32m    199\u001b[0m         \u001b[0mconverged\u001b[0m \u001b[0;34m=\u001b[0m \u001b[0;32mFalse\u001b[0m\u001b[0;34m\u001b[0m\u001b[0;34m\u001b[0m\u001b[0m\n",
      "\u001b[0;32m~/Documents/GitHub/lmdec/lmdec/decomp/iter_methods.py\u001b[0m in \u001b[0;36m_initialization\u001b[0;34m(self, data, *args, **kwargs)\u001b[0m\n\u001b[1;32m    290\u001b[0m                                  \u001b[0mk\u001b[0m\u001b[0;34m=\u001b[0m\u001b[0mvec_t\u001b[0m\u001b[0;34m,\u001b[0m\u001b[0;34m\u001b[0m\u001b[0;34m\u001b[0m\u001b[0m\n\u001b[1;32m    291\u001b[0m                                  \u001b[0mwarm_start_row_factor\u001b[0m\u001b[0;34m=\u001b[0m\u001b[0mself\u001b[0m\u001b[0;34m.\u001b[0m\u001b[0minit_row_sampling_factor\u001b[0m\u001b[0;34m,\u001b[0m\u001b[0;34m\u001b[0m\u001b[0;34m\u001b[0m\u001b[0m\n\u001b[0;32m--> 292\u001b[0;31m                                  log=0)\n\u001b[0m\u001b[1;32m    293\u001b[0m         \u001b[0;32melse\u001b[0m\u001b[0;34m:\u001b[0m\u001b[0;34m\u001b[0m\u001b[0;34m\u001b[0m\u001b[0m\n\u001b[1;32m    294\u001b[0m             \u001b[0mx\u001b[0m \u001b[0;34m=\u001b[0m \u001b[0mrnormal_start\u001b[0m\u001b[0;34m(\u001b[0m\u001b[0mself\u001b[0m\u001b[0;34m.\u001b[0m\u001b[0mscaled_array\u001b[0m\u001b[0;34m,\u001b[0m \u001b[0mvec_t\u001b[0m\u001b[0;34m,\u001b[0m \u001b[0mlog\u001b[0m\u001b[0;34m=\u001b[0m\u001b[0;36m0\u001b[0m\u001b[0;34m)\u001b[0m\u001b[0;34m\u001b[0m\u001b[0;34m\u001b[0m\u001b[0m\n",
      "\u001b[0;32m<decorator-gen-143>\u001b[0m in \u001b[0;36msample_svd_start\u001b[0;34m(array, k, warm_start_row_factor, seed, log)\u001b[0m\n",
      "\u001b[0;32m~/Documents/GitHub/lmdec/lmdec/array/core/wrappers/time_logging.py\u001b[0m in \u001b[0;36mtime_param_log\u001b[0;34m(func, *args, **kwargs)\u001b[0m\n\u001b[1;32m     58\u001b[0m             \u001b[0;32mreturn\u001b[0m \u001b[0mreturn_object\u001b[0m\u001b[0;34m,\u001b[0m \u001b[0mflog\u001b[0m\u001b[0;34m\u001b[0m\u001b[0;34m\u001b[0m\u001b[0m\n\u001b[1;32m     59\u001b[0m     \u001b[0;32melse\u001b[0m\u001b[0;34m:\u001b[0m\u001b[0;34m\u001b[0m\u001b[0;34m\u001b[0m\u001b[0m\n\u001b[0;32m---> 60\u001b[0;31m         \u001b[0;32mreturn\u001b[0m \u001b[0mfunc\u001b[0m\u001b[0;34m(\u001b[0m\u001b[0;34m*\u001b[0m\u001b[0margs\u001b[0m\u001b[0;34m,\u001b[0m \u001b[0;34m**\u001b[0m\u001b[0mkwargs\u001b[0m\u001b[0;34m)\u001b[0m\u001b[0;34m\u001b[0m\u001b[0;34m\u001b[0m\u001b[0m\n\u001b[0m",
      "\u001b[0;32m~/Documents/GitHub/lmdec/lmdec/decomp/init_methods.py\u001b[0m in \u001b[0;36msample_svd_start\u001b[0;34m(array, k, warm_start_row_factor, seed, log)\u001b[0m\n\u001b[1;32m     75\u001b[0m                                            \u001b[0mrow_sampling_fraction\u001b[0m\u001b[0;34m=\u001b[0m\u001b[0mrow_fraction\u001b[0m\u001b[0;34m,\u001b[0m\u001b[0;34m\u001b[0m\u001b[0;34m\u001b[0m\u001b[0m\n\u001b[1;32m     76\u001b[0m                                            \u001b[0mseed\u001b[0m\u001b[0;34m=\u001b[0m\u001b[0mseed\u001b[0m\u001b[0;34m,\u001b[0m  \u001b[0;31m# seed + i -> to prevent warm starts from being identical\u001b[0m\u001b[0;34m\u001b[0m\u001b[0;34m\u001b[0m\u001b[0m\n\u001b[0;32m---> 77\u001b[0;31m                                            log=sub_log)\n\u001b[0m\u001b[1;32m     78\u001b[0m     \u001b[0;32mif\u001b[0m \u001b[0msub_log\u001b[0m\u001b[0;34m:\u001b[0m\u001b[0;34m\u001b[0m\u001b[0;34m\u001b[0m\u001b[0m\n\u001b[1;32m     79\u001b[0m         \u001b[0mU\u001b[0m\u001b[0;34m,\u001b[0m \u001b[0mS\u001b[0m\u001b[0;34m,\u001b[0m \u001b[0m_\u001b[0m\u001b[0;34m,\u001b[0m \u001b[0m_sub_svd_start_log\u001b[0m \u001b[0;34m=\u001b[0m \u001b[0m_sub_svd_start_return\u001b[0m\u001b[0;34m\u001b[0m\u001b[0;34m\u001b[0m\u001b[0m\n",
      "\u001b[0;32m<decorator-gen-144>\u001b[0m in \u001b[0;36m_sub_svd_start\u001b[0;34m(array, k, row_sampling_fraction, seed, log)\u001b[0m\n",
      "\u001b[0;32m~/Documents/GitHub/lmdec/lmdec/array/core/wrappers/time_logging.py\u001b[0m in \u001b[0;36mtime_param_log\u001b[0;34m(func, *args, **kwargs)\u001b[0m\n\u001b[1;32m     58\u001b[0m             \u001b[0;32mreturn\u001b[0m \u001b[0mreturn_object\u001b[0m\u001b[0;34m,\u001b[0m \u001b[0mflog\u001b[0m\u001b[0;34m\u001b[0m\u001b[0;34m\u001b[0m\u001b[0m\n\u001b[1;32m     59\u001b[0m     \u001b[0;32melse\u001b[0m\u001b[0;34m:\u001b[0m\u001b[0;34m\u001b[0m\u001b[0;34m\u001b[0m\u001b[0m\n\u001b[0;32m---> 60\u001b[0;31m         \u001b[0;32mreturn\u001b[0m \u001b[0mfunc\u001b[0m\u001b[0;34m(\u001b[0m\u001b[0;34m*\u001b[0m\u001b[0margs\u001b[0m\u001b[0;34m,\u001b[0m \u001b[0;34m**\u001b[0m\u001b[0mkwargs\u001b[0m\u001b[0;34m)\u001b[0m\u001b[0;34m\u001b[0m\u001b[0;34m\u001b[0m\u001b[0m\n\u001b[0m",
      "\u001b[0;32m~/Documents/GitHub/lmdec/lmdec/decomp/init_methods.py\u001b[0m in \u001b[0;36m_sub_svd_start\u001b[0;34m(array, k, row_sampling_fraction, seed, log)\u001b[0m\n\u001b[1;32m    131\u001b[0m                                      \u001b[0maxis\u001b[0m\u001b[0;34m=\u001b[0m\u001b[0;36m1\u001b[0m\u001b[0;34m,\u001b[0m\u001b[0;34m\u001b[0m\u001b[0;34m\u001b[0m\u001b[0m\n\u001b[1;32m    132\u001b[0m                                      \u001b[0mseed\u001b[0m\u001b[0;34m=\u001b[0m\u001b[0mseed\u001b[0m\u001b[0;34m,\u001b[0m\u001b[0;34m\u001b[0m\u001b[0;34m\u001b[0m\u001b[0m\n\u001b[0;32m--> 133\u001b[0;31m                                      log=sub_log)\n\u001b[0m\u001b[1;32m    134\u001b[0m \u001b[0;34m\u001b[0m\u001b[0m\n\u001b[1;32m    135\u001b[0m     \u001b[0;32mif\u001b[0m \u001b[0msub_log\u001b[0m\u001b[0;34m:\u001b[0m\u001b[0;34m\u001b[0m\u001b[0;34m\u001b[0m\u001b[0m\n",
      "\u001b[0;32m<decorator-gen-127>\u001b[0m in \u001b[0;36marray_split\u001b[0;34m(array_shape, p, axis, seed, log)\u001b[0m\n",
      "\u001b[0;32m~/Documents/GitHub/lmdec/lmdec/array/core/wrappers/time_logging.py\u001b[0m in \u001b[0;36mtime_param_log\u001b[0;34m(func, *args, **kwargs)\u001b[0m\n\u001b[1;32m     58\u001b[0m             \u001b[0;32mreturn\u001b[0m \u001b[0mreturn_object\u001b[0m\u001b[0;34m,\u001b[0m \u001b[0mflog\u001b[0m\u001b[0;34m\u001b[0m\u001b[0;34m\u001b[0m\u001b[0m\n\u001b[1;32m     59\u001b[0m     \u001b[0;32melse\u001b[0m\u001b[0;34m:\u001b[0m\u001b[0;34m\u001b[0m\u001b[0;34m\u001b[0m\u001b[0m\n\u001b[0;32m---> 60\u001b[0;31m         \u001b[0;32mreturn\u001b[0m \u001b[0mfunc\u001b[0m\u001b[0;34m(\u001b[0m\u001b[0;34m*\u001b[0m\u001b[0margs\u001b[0m\u001b[0;34m,\u001b[0m \u001b[0;34m**\u001b[0m\u001b[0mkwargs\u001b[0m\u001b[0;34m)\u001b[0m\u001b[0;34m\u001b[0m\u001b[0;34m\u001b[0m\u001b[0m\n\u001b[0m",
      "\u001b[0;32m~/Documents/GitHub/lmdec/lmdec/array/core/random.py\u001b[0m in \u001b[0;36marray_split\u001b[0;34m(array_shape, p, axis, seed, log)\u001b[0m\n\u001b[1;32m     30\u001b[0m         \u001b[0;32mpass\u001b[0m\u001b[0;34m\u001b[0m\u001b[0;34m\u001b[0m\u001b[0m\n\u001b[1;32m     31\u001b[0m     \u001b[0;32melif\u001b[0m \u001b[0maxis\u001b[0m \u001b[0;34m==\u001b[0m \u001b[0;36m1\u001b[0m\u001b[0;34m:\u001b[0m\u001b[0;34m\u001b[0m\u001b[0;34m\u001b[0m\u001b[0m\n\u001b[0;32m---> 32\u001b[0;31m         \u001b[0;32mreturn\u001b[0m \u001b[0marray_split\u001b[0m\u001b[0;34m(\u001b[0m\u001b[0;34m(\u001b[0m\u001b[0mn\u001b[0m\u001b[0;34m,\u001b[0m \u001b[0mm\u001b[0m\u001b[0;34m)\u001b[0m\u001b[0;34m,\u001b[0m \u001b[0mp\u001b[0m\u001b[0;34m=\u001b[0m\u001b[0mp\u001b[0m\u001b[0;34m,\u001b[0m \u001b[0maxis\u001b[0m\u001b[0;34m=\u001b[0m\u001b[0;36m0\u001b[0m\u001b[0;34m,\u001b[0m \u001b[0mlog\u001b[0m\u001b[0;34m=\u001b[0m\u001b[0msub_log\u001b[0m\u001b[0;34m)\u001b[0m\u001b[0;34m\u001b[0m\u001b[0;34m\u001b[0m\u001b[0m\n\u001b[0m\u001b[1;32m     33\u001b[0m     \u001b[0;32melse\u001b[0m\u001b[0;34m:\u001b[0m\u001b[0;34m\u001b[0m\u001b[0;34m\u001b[0m\u001b[0m\n\u001b[1;32m     34\u001b[0m         \u001b[0;32mraise\u001b[0m \u001b[0mException\u001b[0m\u001b[0;34m(\u001b[0m\u001b[0;34m'Can only split on axis = 0 or 1. axis = {}'\u001b[0m\u001b[0;34m.\u001b[0m\u001b[0mformat\u001b[0m\u001b[0;34m(\u001b[0m\u001b[0maxis\u001b[0m\u001b[0;34m)\u001b[0m\u001b[0;34m)\u001b[0m\u001b[0;34m\u001b[0m\u001b[0;34m\u001b[0m\u001b[0m\n",
      "\u001b[0;32m<decorator-gen-127>\u001b[0m in \u001b[0;36marray_split\u001b[0;34m(array_shape, p, axis, seed, log)\u001b[0m\n",
      "\u001b[0;32m~/Documents/GitHub/lmdec/lmdec/array/core/wrappers/time_logging.py\u001b[0m in \u001b[0;36mtime_param_log\u001b[0;34m(func, *args, **kwargs)\u001b[0m\n\u001b[1;32m     58\u001b[0m             \u001b[0;32mreturn\u001b[0m \u001b[0mreturn_object\u001b[0m\u001b[0;34m,\u001b[0m \u001b[0mflog\u001b[0m\u001b[0;34m\u001b[0m\u001b[0;34m\u001b[0m\u001b[0m\n\u001b[1;32m     59\u001b[0m     \u001b[0;32melse\u001b[0m\u001b[0;34m:\u001b[0m\u001b[0;34m\u001b[0m\u001b[0;34m\u001b[0m\u001b[0m\n\u001b[0;32m---> 60\u001b[0;31m         \u001b[0;32mreturn\u001b[0m \u001b[0mfunc\u001b[0m\u001b[0;34m(\u001b[0m\u001b[0;34m*\u001b[0m\u001b[0margs\u001b[0m\u001b[0;34m,\u001b[0m \u001b[0;34m**\u001b[0m\u001b[0mkwargs\u001b[0m\u001b[0;34m)\u001b[0m\u001b[0;34m\u001b[0m\u001b[0;34m\u001b[0m\u001b[0m\n\u001b[0m",
      "\u001b[0;32m~/Documents/GitHub/lmdec/lmdec/array/core/random.py\u001b[0m in \u001b[0;36marray_split\u001b[0;34m(array_shape, p, axis, seed, log)\u001b[0m\n\u001b[1;32m     37\u001b[0m \u001b[0;34m\u001b[0m\u001b[0m\n\u001b[1;32m     38\u001b[0m     \u001b[0;32mif\u001b[0m \u001b[0mp\u001b[0m \u001b[0;34m>\u001b[0m \u001b[0;36m1\u001b[0m\u001b[0;34m:\u001b[0m\u001b[0;34m\u001b[0m\u001b[0;34m\u001b[0m\u001b[0m\n\u001b[0;32m---> 39\u001b[0;31m         \u001b[0;32mraise\u001b[0m \u001b[0mException\u001b[0m\u001b[0;34m(\u001b[0m\u001b[0;34m'Cannot split more than unity. p = {}'\u001b[0m\u001b[0;34m.\u001b[0m\u001b[0mformat\u001b[0m\u001b[0;34m(\u001b[0m\u001b[0mp\u001b[0m\u001b[0;34m)\u001b[0m\u001b[0;34m)\u001b[0m\u001b[0;34m\u001b[0m\u001b[0;34m\u001b[0m\u001b[0m\n\u001b[0m\u001b[1;32m     40\u001b[0m     \u001b[0;32melif\u001b[0m \u001b[0mp\u001b[0m \u001b[0;34m<\u001b[0m \u001b[0;36m0\u001b[0m\u001b[0;34m:\u001b[0m\u001b[0;34m\u001b[0m\u001b[0;34m\u001b[0m\u001b[0m\n\u001b[1;32m     41\u001b[0m         \u001b[0;32mraise\u001b[0m \u001b[0mException\u001b[0m\u001b[0;34m(\u001b[0m\u001b[0;34m'Cannot split non-positive fraction. p = {}'\u001b[0m\u001b[0;34m.\u001b[0m\u001b[0mformat\u001b[0m\u001b[0;34m(\u001b[0m\u001b[0mp\u001b[0m\u001b[0;34m)\u001b[0m\u001b[0;34m)\u001b[0m\u001b[0;34m\u001b[0m\u001b[0;34m\u001b[0m\u001b[0m\n",
      "\u001b[0;31mException\u001b[0m: Cannot split more than unity. p = 11.0"
     ]
    }
   ],
   "source": [
    "\n",
    "\n",
    "PM = PowerMethod(k=100)\n",
    "array = np.random.rand(50, 50)\n",
    "# # with pytest.raises(ValueError):\n",
    "_, _, _ = PM.svd(array)\n"
   ]
  },
  {
   "cell_type": "code",
   "execution_count": 10,
   "metadata": {},
   "outputs": [
    {
     "data": {
      "text/plain": [
       "[False, True, True]"
      ]
     },
     "execution_count": 10,
     "metadata": {},
     "output_type": "execute_result"
    }
   ],
   "source": [
    "list(x not in scoring_method for x in ['q-vals', 'rmse', 'v-subspace'])"
   ]
  },
  {
   "cell_type": "code",
   "execution_count": 21,
   "metadata": {},
   "outputs": [
    {
     "name": "stdout",
     "output_type": "stream",
     "text": [
      "(7, 10) (7, 7) (10,)\n"
     ]
    }
   ],
   "source": [
    "n, p = 10, 7\n",
    "a = np.random.random((10, 7))\n",
    "aat = a.dot(a.T)\n",
    "\n",
    "U, S, _ = np.linalg.svd(aat, full_matrices=False)\n",
    "V, _, _ = np.linalg.svd(a.T.dot(U), full_matrices=False)\n",
    "np.testing.assert_almost_equal(rmse_k(a, U, S), 0)\n",
    "print(a.T.shape, V.T.shape, S.shape)\n",
    "np.testing.assert_almost_equal(rmse_k(a.T, V, S[:p]), 0)"
   ]
  },
  {
   "cell_type": "code",
   "execution_count": 2,
   "metadata": {},
   "outputs": [],
   "source": [
    "array = np.random.rand(100, 70)\n",
    "k = 10\n",
    "tol_groups = [[1e-1, 1e-1, 1e-1],\n",
    "              [1e-16, 1e-4, 1-16],\n",
    "              [1e-6, 1e-16, 1e-16],\n",
    "              [1e-16, 1e-16, 1e-6]]\n",
    "\n",
    "for tols in tol_groups:\n",
    "    PM = PowerMethod(k=k, tol=tols, scoring_method=['q-vals', 'rmse', 'v-subspace'])"
   ]
  },
  {
   "cell_type": "code",
   "execution_count": null,
   "metadata": {},
   "outputs": [],
   "source": [
    "20.051998**.5"
   ]
  },
  {
   "cell_type": "code",
   "execution_count": 4,
   "metadata": {},
   "outputs": [],
   "source": [
    "x = slice(0,10)"
   ]
  },
  {
   "cell_type": "code",
   "execution_count": 6,
   "metadata": {},
   "outputs": [
    {
     "data": {
      "text/plain": [
       "10"
      ]
     },
     "execution_count": 6,
     "metadata": {},
     "output_type": "execute_result"
    }
   ],
   "source": [
    "x.stop"
   ]
  },
  {
   "cell_type": "code",
   "execution_count": 7,
   "metadata": {},
   "outputs": [],
   "source": [
    "A = np.random.randn(10,10)"
   ]
  },
  {
   "cell_type": "code",
   "execution_count": 10,
   "metadata": {},
   "outputs": [
    {
     "data": {
      "text/plain": [
       "array([[-1.06054703e+00, -1.65028779e+00, -2.26402629e-01,\n",
       "        -8.82735743e-01,  1.09451491e+00, -6.42056228e-01,\n",
       "        -9.45006790e-03,  1.97625072e+00,  1.34739187e-01,\n",
       "        -9.01808764e-01],\n",
       "       [-6.98789207e-01, -1.20281770e+00, -4.39291441e-01,\n",
       "         9.01872605e-01, -3.68410905e-01,  1.08914915e-02,\n",
       "         7.55117164e-01,  1.64518340e+00,  4.48785141e-01,\n",
       "        -5.11339048e-01],\n",
       "       [ 2.74543044e-01,  1.73186317e+00, -6.79403622e-01,\n",
       "         8.87979234e-01, -9.10432977e-01, -1.97236811e-03,\n",
       "        -1.19858515e+00,  1.63982908e+00,  9.54948589e-01,\n",
       "         4.53823112e-01]])"
      ]
     },
     "execution_count": 10,
     "metadata": {},
     "output_type": "execute_result"
    }
   ],
   "source": [
    "A[[*[1,2],3], :]"
   ]
  },
  {
   "cell_type": "code",
   "execution_count": 19,
   "metadata": {},
   "outputs": [],
   "source": [
    "from lmdec.array.core.random import array_constant_partition, array_geometric_partition, cumulative_partition\n",
    "import numpy as np"
   ]
  },
  {
   "cell_type": "code",
   "execution_count": 32,
   "metadata": {},
   "outputs": [],
   "source": [
    "n, p = 1000, 1000\n",
    "a = np.random.randn(n, p)\n",
    "f = .1\n",
    "parts = array_constant_partition(a.shape, f=f, min_size=1, axis=1)\n",
    "cum_parts = cumulative_partition(parts)\n",
    "\n",
    "for i, cum_part in enumerate(cum_parts):\n",
    "    a_actual = a[:, 0:int((i + 1) * p * f)]\n",
    "    a_part_stack = np.hstack([a[:, p] for p in parts[:i+1]])\n",
    "    a_cum = a[:, cum_part]\n",
    "\n",
    "    #np.testing.assert_array_equal(a_actual, a_part_stack)\n",
    "    #np.testing.assert_array_equal(a_actual, a_cum)\n"
   ]
  },
  {
   "cell_type": "code",
   "execution_count": 33,
   "metadata": {},
   "outputs": [
    {
     "data": {
      "text/plain": [
       "(1000, 100)"
      ]
     },
     "execution_count": 33,
     "metadata": {},
     "output_type": "execute_result"
    }
   ],
   "source": [
    "a_actual.shape"
   ]
  },
  {
   "cell_type": "code",
   "execution_count": 24,
   "metadata": {},
   "outputs": [
    {
     "data": {
      "text/plain": [
       "(100, 1000)"
      ]
     },
     "execution_count": 24,
     "metadata": {},
     "output_type": "execute_result"
    }
   ],
   "source": [
    "a_part_stack.shape"
   ]
  },
  {
   "cell_type": "code",
   "execution_count": 16,
   "metadata": {},
   "outputs": [],
   "source": [
    "a = range(10)"
   ]
  },
  {
   "cell_type": "code",
   "execution_count": 18,
   "metadata": {},
   "outputs": [
    {
     "data": {
      "text/plain": [
       "[]"
      ]
     },
     "execution_count": 18,
     "metadata": {},
     "output_type": "execute_result"
    }
   ],
   "source": [
    "list(a[:0])"
   ]
  },
  {
   "cell_type": "code",
   "execution_count": 14,
   "metadata": {},
   "outputs": [
    {
     "data": {
      "text/plain": [
       "\u001b[0;31mSignature:\u001b[0m \u001b[0mnp\u001b[0m\u001b[0;34m.\u001b[0m\u001b[0mvstack\u001b[0m\u001b[0;34m(\u001b[0m\u001b[0mtup\u001b[0m\u001b[0;34m)\u001b[0m\u001b[0;34m\u001b[0m\u001b[0;34m\u001b[0m\u001b[0m\n",
       "\u001b[0;31mDocstring:\u001b[0m\n",
       "Stack arrays in sequence vertically (row wise).\n",
       "\n",
       "This is equivalent to concatenation along the first axis after 1-D arrays\n",
       "of shape `(N,)` have been reshaped to `(1,N)`. Rebuilds arrays divided by\n",
       "`vsplit`.\n",
       "\n",
       "This function makes most sense for arrays with up to 3 dimensions. For\n",
       "instance, for pixel-data with a height (first axis), width (second axis),\n",
       "and r/g/b channels (third axis). The functions `concatenate`, `stack` and\n",
       "`block` provide more general stacking and concatenation operations.\n",
       "\n",
       "Parameters\n",
       "----------\n",
       "tup : sequence of ndarrays\n",
       "    The arrays must have the same shape along all but the first axis.\n",
       "    1-D arrays must have the same length.\n",
       "\n",
       "Returns\n",
       "-------\n",
       "stacked : ndarray\n",
       "    The array formed by stacking the given arrays, will be at least 2-D.\n",
       "\n",
       "See Also\n",
       "--------\n",
       "stack : Join a sequence of arrays along a new axis.\n",
       "hstack : Stack arrays in sequence horizontally (column wise).\n",
       "dstack : Stack arrays in sequence depth wise (along third dimension).\n",
       "concatenate : Join a sequence of arrays along an existing axis.\n",
       "vsplit : Split array into a list of multiple sub-arrays vertically.\n",
       "block : Assemble arrays from blocks.\n",
       "\n",
       "Examples\n",
       "--------\n",
       ">>> a = np.array([1, 2, 3])\n",
       ">>> b = np.array([2, 3, 4])\n",
       ">>> np.vstack((a,b))\n",
       "array([[1, 2, 3],\n",
       "       [2, 3, 4]])\n",
       "\n",
       ">>> a = np.array([[1], [2], [3]])\n",
       ">>> b = np.array([[2], [3], [4]])\n",
       ">>> np.vstack((a,b))\n",
       "array([[1],\n",
       "       [2],\n",
       "       [3],\n",
       "       [2],\n",
       "       [3],\n",
       "       [4]])\n",
       "\u001b[0;31mFile:\u001b[0m      //anaconda3/lib/python3.7/site-packages/numpy/core/shape_base.py\n",
       "\u001b[0;31mType:\u001b[0m      function\n"
      ]
     },
     "metadata": {},
     "output_type": "display_data"
    }
   ],
   "source": [
    "np.vstack?"
   ]
  },
  {
   "cell_type": "code",
   "execution_count": null,
   "metadata": {},
   "outputs": [],
   "source": []
  }
 ],
 "metadata": {
  "kernelspec": {
   "display_name": "Python 3",
   "language": "python",
   "name": "python3"
  },
  "language_info": {
   "codemirror_mode": {
    "name": "ipython",
    "version": 3
   },
   "file_extension": ".py",
   "mimetype": "text/x-python",
   "name": "python",
   "nbconvert_exporter": "python",
   "pygments_lexer": "ipython3",
   "version": "3.7.3"
  }
 },
 "nbformat": 4,
 "nbformat_minor": 4
}
