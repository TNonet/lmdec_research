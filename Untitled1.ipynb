{
 "cells": [
  {
   "cell_type": "markdown",
   "metadata": {},
   "source": [
    "# Scaled Array"
   ]
  },
  {
   "cell_type": "code",
   "execution_count": 1,
   "metadata": {},
   "outputs": [],
   "source": [
    "from lmdec.array.core.scaled import *\n",
    "from lmdec.array.core.metrics import *\n",
    "from lmdec.decomp.init_methods import *\n",
    "from lmdec.decomp import PowerMethod\n",
    "from lmdec.array.core.matrix_ops import svd_to_trunc_svd\n",
    "import numpy as np\n",
    "from math import sqrt\n",
    "import dask.array as da\n",
    "import matplotlib.pyplot as plt"
   ]
  },
  {
   "cell_type": "code",
   "execution_count": 3,
   "metadata": {},
   "outputs": [
    {
     "name": "stdout",
     "output_type": "stream",
     "text": [
      "2.5088819910479288e-12\n",
      "2.5088819910479288e-12\n"
     ]
    }
   ],
   "source": [
    "N, P = 1000, 400\n",
    "a = da.array(np.random.randn(N, P))\n",
    "\n",
    "U, S, V = da.linalg.svd(a)\n",
    "\n",
    "print(subspace_dist(U, v_init(a, V), S))\n",
    "print(subspace_dist(U, v_init(a, V, S), S))"
   ]
  },
  {
   "cell_type": "code",
   "execution_count": 2,
   "metadata": {},
   "outputs": [
    {
     "name": "stdout",
     "output_type": "stream",
     "text": [
      "0.27579961172298484\n",
      "0.24727224312654894\n",
      "0.2158305965323125\n",
      "0.1902187273705228\n",
      "0.12966705867060635\n",
      "0.10257624225637163\n",
      "0.08105323081408333\n",
      "0.05719559906762972\n",
      "0.05158510744099165\n"
     ]
    },
    {
     "name": "stderr",
     "output_type": "stream",
     "text": [
      "/Users/tnonet/Documents/GitHub/lmdec/lmdec/array/core/random.py:54: UserWarning: Degenerate Split. Decrease p. p = 1.0 ~= 1\n",
      "  warnings.warn('Degenerate Split. Decrease p. p = {} ~= 1'.format(f))\n"
     ]
    },
    {
     "name": "stdout",
     "output_type": "stream",
     "text": [
      "5.126227220486612e-10\n"
     ]
    }
   ],
   "source": [
    " N, P = 100, 40\n",
    "k = 10\n",
    "a = da.array(np.random.randn(N, P))\n",
    "sa = ScaledArray(False, False, None)\n",
    "sa.fit(a)\n",
    "U, S, V = da.linalg.svd(a)\n",
    "Uk, Sk = svd_to_trunc_svd(u=U, s=S, k=k)\n",
    "\n",
    "for i in range(1, 11):\n",
    "    U1 = sub_svd_init(sa, k=k, warm_start_row_factor=i, log=0)\n",
    "\n",
    "    print(subspace_dist(U1, Uk, Sk))\n"
   ]
  },
  {
   "cell_type": "code",
   "execution_count": 71,
   "metadata": {},
   "outputs": [],
   "source": [
    "def v_init_2(a, s, v):\n",
    "    \"\"\"\n",
    "    Suppose SVD(a) -> usv'\n",
    "    \n",
    "    To recover u from a and v:\n",
    "    \n",
    "    av ->  usv'v\n",
    "           us\n",
    "           us*inv(s)\n",
    "    \"\"\"\n",
    "    return a.dot(v.T).dot(np.diag(1/s))\n",
    "\n",
    "def v_init(a, v):\n",
    "    U, _, _ = np.linalg.svd(a.dot(v.T), full_matrices=False)\n",
    "    return U"
   ]
  },
  {
   "cell_type": "code",
   "execution_count": 72,
   "metadata": {},
   "outputs": [
    {
     "name": "stdout",
     "output_type": "stream",
     "text": [
      "(100, 40)\n",
      "(40, 40)\n",
      "(40, 40)\n"
     ]
    }
   ],
   "source": [
    "N, P = 100, 40\n",
    "a = np.random.randn(N, P)\n",
    "aat = a.dot(a.T)\n",
    "\n",
    "U, S, V = np.linalg.svd(a, full_matrices=False)\n",
    "Us, Ss, Vs = np.linalg.svd(aat, full_matrices=False)\n",
    "\n",
    "print(U.shape)\n",
    "print(V.shape)\n",
    "\n",
    "print(a.T.dot(U).shape)\n",
    "\n",
    "np.testing.assert_array_almost_equal(a.T.dot(U), V.T.dot(np.diag(S)))\n",
    "\n",
    "np.testing.assert_almost_equal(U, v_init_2(a, S, V))\n",
    "\n",
    "\n",
    "np.testing.assert_almost_equal(subspace_dist(U, v_init(a, V), S), 0)"
   ]
  },
  {
   "cell_type": "code",
   "execution_count": 60,
   "metadata": {},
   "outputs": [],
   "source": []
  },
  {
   "cell_type": "code",
   "execution_count": null,
   "metadata": {},
   "outputs": [],
   "source": [
    "print(np.diag((V_k_PM@scaled_centered_array_other@V_k_PM.T).compute()))\n",
    "print(np.linalg.norm(V_k_PM, 2).compute())\n",
    "print(S_k_PM.compute())"
   ]
  },
  {
   "cell_type": "code",
   "execution_count": null,
   "metadata": {},
   "outputs": [],
   "source": [
    "print(np.diag((V_k@scaled_centered_array_other@V_k.T)))\n",
    "print(np.linalg.norm(V_k, 2))\n",
    "print(S_k)"
   ]
  },
  {
   "cell_type": "code",
   "execution_count": null,
   "metadata": {},
   "outputs": [],
   "source": [
    "plt.plot(S_o)\n",
    "plt.plot(S, '+')\n"
   ]
  },
  {
   "cell_type": "code",
   "execution_count": null,
   "metadata": {},
   "outputs": [],
   "source": [
    "S_k"
   ]
  },
  {
   "cell_type": "code",
   "execution_count": null,
   "metadata": {},
   "outputs": [],
   "source": [
    "print(np.mean(np.abs(scaled_centered_array_other - U_o.dot(np.diag(S_o)).dot(V_o))))\n",
    "print(np.mean(np.abs(scaled_centered_array_sym - U.dot(np.diag(S)).dot(V))))"
   ]
  },
  {
   "cell_type": "code",
   "execution_count": null,
   "metadata": {},
   "outputs": [],
   "source": [
    "L, V = np.linalg.eigh(scaled_centered_array_other)"
   ]
  },
  {
   "cell_type": "code",
   "execution_count": null,
   "metadata": {},
   "outputs": [],
   "source": [
    "U_k.shape"
   ]
  },
  {
   "cell_type": "code",
   "execution_count": null,
   "metadata": {},
   "outputs": [],
   "source": [
    "# A'.dot(U) \n",
    "U_1, S_1, V_1 = np.linalg.svd(scaled_centered_array.T.dot(U_k))"
   ]
  },
  {
   "cell_type": "code",
   "execution_count": null,
   "metadata": {},
   "outputs": [],
   "source": [
    "scaled_centered_array.T.dot(U_k).shape"
   ]
  },
  {
   "cell_type": "code",
   "execution_count": null,
   "metadata": {},
   "outputs": [],
   "source": [
    "U_1.shape"
   ]
  },
  {
   "cell_type": "code",
   "execution_count": null,
   "metadata": {},
   "outputs": [],
   "source": [
    "np.max(np.abs(scaled_centered_array_other - scaled_centered_array_other.T))"
   ]
  },
  {
   "cell_type": "code",
   "execution_count": null,
   "metadata": {},
   "outputs": [],
   "source": [
    "plt.plot(L[::-1])"
   ]
  },
  {
   "cell_type": "code",
   "execution_count": null,
   "metadata": {},
   "outputs": [],
   "source": [
    "V[:, 0]"
   ]
  },
  {
   "cell_type": "code",
   "execution_count": null,
   "metadata": {},
   "outputs": [],
   "source": [
    "plt.plot(PM.history['acc']['v-subspace']) \n",
    "plt.yscale('log')"
   ]
  },
  {
   "cell_type": "code",
   "execution_count": null,
   "metadata": {},
   "outputs": [],
   "source": [
    "plt.plot(V_k_PM.T.compute())\n",
    "plt.plot(V_k.T)\n",
    "plt.show()"
   ]
  },
  {
   "cell_type": "code",
   "execution_count": null,
   "metadata": {},
   "outputs": [],
   "source": [
    "#A'A \n",
    "#V_k eigenvector of (A'A)\n"
   ]
  },
  {
   "cell_type": "code",
   "execution_count": null,
   "metadata": {},
   "outputs": [],
   "source": []
  },
  {
   "cell_type": "code",
   "execution_count": null,
   "metadata": {},
   "outputs": [],
   "source": [
    "test_PowerMethod_case1()"
   ]
  },
  {
   "cell_type": "code",
   "execution_count": null,
   "metadata": {},
   "outputs": [],
   "source": []
  },
  {
   "cell_type": "code",
   "execution_count": 50,
   "metadata": {},
   "outputs": [
    {
     "name": "stdout",
     "output_type": "stream",
     "text": [
      "[3981.80228617] [3981.54596818]\n",
      "6.417089082333405e-14\n",
      "0.0002798897469753481\n",
      "[3981.80228617 3902.29416668] [3981.77142904 3901.38768147]\n",
      "3.26405569239796e-14\n",
      "0.0011630632237362715\n",
      "[3981.80228617 3902.29416668 3850.02264476] [3981.78054518 3902.01110684 3849.32345376]\n",
      "2.142730437526552e-14\n",
      "0.0005984416000240911\n",
      "[3981.80228617 3902.29416668 3850.02264476 3821.26097074] [3981.78457816 3902.24585525 3849.13467948 3820.70612613]\n",
      "1.6431300764452317e-14\n",
      "0.0006519215618882024\n",
      "[3981.80228617 3902.29416668 3850.02264476 3821.26097074 3815.5483137 ] [3981.79120493 3902.27200865 3849.35793247 3820.73099261 3815.10406183]\n",
      "1.3322676295501878e-14\n",
      "0.0005307105297818193\n",
      "[3981.80228617 3902.29416668 3850.02264476 3821.26097074 3815.5483137\n",
      " 3782.14370029] [3981.79184233 3902.18809593 3849.56942379 3820.54691868 3814.78229922\n",
      " 3781.80080132]\n",
      "1.0880185641326534e-14\n",
      "0.0007569293354001694\n",
      "[3981.80228617 3902.29416668 3850.02264476 3821.26097074 3815.5483137\n",
      " 3782.14370029 3742.16306485] [3981.79411951 3902.19319227 3849.59346474 3820.49406779 3814.80404503\n",
      " 3781.76122376 3741.549734  ]\n",
      "9.547918011776346e-15\n",
      "0.00256320478384231\n",
      "[3981.80228617 3902.29416668 3850.02264476 3821.26097074 3815.5483137\n",
      " 3782.14370029 3742.16306485 3738.03480855] [3981.78610664 3902.24347931 3849.59934429 3820.89073456 3815.33120915\n",
      " 3781.63484129 3741.42120868 3736.98215556]\n",
      "8.104628079763643e-15\n",
      "0.000978526047903494\n",
      "[3981.80228617 3902.29416668 3850.02264476 3821.26097074 3815.5483137\n",
      " 3782.14370029 3742.16306485 3738.03480855 3700.2674435 ] [3981.78105015 3902.22914985 3849.76572601 3820.53620842 3815.235896\n",
      " 3782.028744   3741.70455623 3736.98773179 3698.96618221]\n",
      "7.771561172376096e-15\n",
      "0.002227095439596427\n"
     ]
    }
   ],
   "source": [
    "array = np.random.rand(1000, 1000)\n",
    "mu = array.mean(axis=0)\n",
    "std = np.diag(1/array.std(axis=0))\n",
    "scaled_centered_array = (array-mu).dot(std)\n",
    "scaled_centered_array = scaled_centered_array.dot(scaled_centered_array.T)\n",
    "U, S, V = np.linalg.svd(scaled_centered_array, full_matrices=False)  # Ground Truth\n",
    "for k in range(1, 10):\n",
    "    U_k, S_k, V_k = U[:, :k], S[:k], V[:k, :]\n",
    "\n",
    "    PM = PowerMethod(k=k, tol=1e-2, scoring_method='rmse', max_iter=100, init_row_sampling_factor=1)\n",
    "    U_k_PM, S_k_PM, V_k_PM = PM.svd(array)\n",
    "\n",
    "    #np.testing.assert_array_almost_equal(S_k, S_k_PM)\n",
    "    assert V_k.shape == V_k_PM.shape\n",
    "    assert U_k.shape == U_k_PM.shape\n",
    "    print(S_k, S_k_PM.compute())\n",
    "    print(subspace_dist(V_k, V_k_PM, S_k_PM))\n",
    "    print(subspace_dist(U_k, U_k_PM, S_k_PM))\n",
    "    #np.testing.assert_almost_equal(subspace_dist(V_k, V_k_PM, S_k_PM), 0)\n",
    "    #np.testing.assert_almost_equal(subspace_dist(U_k, U_k_PM, S_k_PM), 0)"
   ]
  },
  {
   "cell_type": "code",
   "execution_count": null,
   "metadata": {},
   "outputs": [],
   "source": [
    "PM = PowerMethod(k=k, tol=1e-16, scoring_method='v-subspace', max_iter=100)\n",
    "U_k_PM, S_k_PM, V_k_PM = PM.svd(array)"
   ]
  },
  {
   "cell_type": "code",
   "execution_count": null,
   "metadata": {},
   "outputs": [],
   "source": [
    "PM.history['acc']"
   ]
  },
  {
   "cell_type": "code",
   "execution_count": null,
   "metadata": {},
   "outputs": [],
   "source": [
    "((scaled_centered_array.T.dot(V_k_PM.T)) - V_k_PM.T.dot(np.diag(S_k))).compute()"
   ]
  },
  {
   "cell_type": "code",
   "execution_count": null,
   "metadata": {},
   "outputs": [],
   "source": [
    "plt.plot(U_k[:,0])\n",
    "plt.plot(U_k_PM[:,0])"
   ]
  },
  {
   "cell_type": "code",
   "execution_count": null,
   "metadata": {},
   "outputs": [],
   "source": [
    "plt.plot(V_k.T[:,1])\n",
    "plt.plot(V_k_PM.T[:,0])"
   ]
  },
  {
   "cell_type": "code",
   "execution_count": null,
   "metadata": {},
   "outputs": [],
   "source": [
    "np.linalg.svd(U_k.T.dot(U_k_PM))"
   ]
  },
  {
   "cell_type": "code",
   "execution_count": null,
   "metadata": {},
   "outputs": [],
   "source": [
    "a = da.array(np.random.rand(100000,100))"
   ]
  },
  {
   "cell_type": "code",
   "execution_count": null,
   "metadata": {},
   "outputs": [],
   "source": [
    "Q, R = da.linalg.tsqr(a)\n",
    "Q_f, R_f = da.linalg.qr(a)"
   ]
  },
  {
   "cell_type": "code",
   "execution_count": null,
   "metadata": {},
   "outputs": [],
   "source": [
    "(np.abs(Q - Q_f)).mean().compute()"
   ]
  },
  {
   "cell_type": "code",
   "execution_count": null,
   "metadata": {},
   "outputs": [],
   "source": [
    "a = da.array(np.random.rand(1000,100))\n"
   ]
  },
  {
   "cell_type": "code",
   "execution_count": null,
   "metadata": {},
   "outputs": [],
   "source": [
    "U, S, V = da.linalg.tsqr(a, compute_svd=True)"
   ]
  },
  {
   "cell_type": "code",
   "execution_count": null,
   "metadata": {},
   "outputs": [],
   "source": [
    "U"
   ]
  },
  {
   "cell_type": "code",
   "execution_count": 175,
   "metadata": {},
   "outputs": [],
   "source": [
    "n, p, k = 1000, 1000, 100\n",
    "array = np.zeros((n, p))\n",
    "i = np.arange(0,n)\n",
    "ix = np.random.choice(i, k, replace=False)\n",
    "iy = np.random.choice(i, k, replace=False)\n",
    "iz = np.clip(1*np.random.normal(size=(k)), 0, 10)\n",
    "array[ix, iy] = iz\n",
    "array = array + .1*np.random.normal(size=(n, p))\n",
    "array = array + array.T\n"
   ]
  },
  {
   "cell_type": "code",
   "execution_count": 195,
   "metadata": {},
   "outputs": [],
   "source": [
    "U, S, V = np.linalg.svd(array)"
   ]
  },
  {
   "cell_type": "code",
   "execution_count": 211,
   "metadata": {},
   "outputs": [],
   "source": [
    "PM = PowerMethod(k=10, tol=1e-6, scoring_method='q-vals', max_iter=1000)\n",
    "U_k_PM, S_k_PM, V_k_PM = PM.svd(array)"
   ]
  },
  {
   "cell_type": "code",
   "execution_count": 212,
   "metadata": {},
   "outputs": [
    {
     "name": "stdout",
     "output_type": "stream",
     "text": [
      "[0.99703567 0.99652347 0.99534357 0.99408236 0.99336468 0.99080704\n",
      " 0.98968138 0.98273281 0.95408963 0.94644522]\n"
     ]
    }
   ],
   "source": [
    "_, L, _ = np.linalg.svd(U_k_PM.T.compute().dot(U[:, 0:10]))\n",
    "print(L)"
   ]
  },
  {
   "cell_type": "code",
   "execution_count": 213,
   "metadata": {},
   "outputs": [
    {
     "name": "stdout",
     "output_type": "stream",
     "text": [
      "[0.17916469 0.15662706 0.13227742 0.11284952 0.09082899 0.07461324\n",
      " 0.05218605 0.03684601 0.02745764 0.01108023]\n"
     ]
    }
   ],
   "source": [
    "_, L, _ = np.linalg.svd(V_k_PM.compute().dot(V[:, 0:10]))\n",
    "print(L)"
   ]
  },
  {
   "cell_type": "code",
   "execution_count": 152,
   "metadata": {},
   "outputs": [],
   "source": [
    "def test_PowerMethod_case2():\n",
    "    array = np.random.rand(100, 100)\n",
    "    mu = array.mean(axis=0)\n",
    "    std = np.diag(1/array.std(axis=0))\n",
    "    scaled_centered_array = (array-mu).dot(std)\n",
    "    scaled_centered_array = scaled_centered_array.dot(scaled_centered_array.T)\n",
    "    U, S, V = np.linalg.svd(scaled_centered_array, full_matrices=False)  # Ground Truth\n",
    "    k = 10\n",
    "    U_k, S_k, V_k = U[:, :k], S[:k], V[:k, :]\n",
    "    previous_error = float('inf')\n",
    "    for t in np.logspace(0, -12, 20):\n",
    "\n",
    "        PM = PowerMethod(k=k, tol=t, scoring_method='q-vals', max_iter=100)\n",
    "        U_k_PM, S_k_PM, V_k_PM = PM.svd(array)\n",
    "\n",
    "        assert np.linalg.norm(S_k-S_k_PM) <= previous_error\n",
    "        previous_error = np.linalg.norm(S_k-S_k_PM)"
   ]
  },
  {
   "cell_type": "code",
   "execution_count": 84,
   "metadata": {},
   "outputs": [
    {
     "name": "stdout",
     "output_type": "stream",
     "text": [
      "[3973.70470889 3911.22802025 3834.86346896 3822.59637709 3816.85008082\n",
      " 3783.82972356 3764.07030912 3733.22321992 3691.21097468 3683.09834406]\n",
      "1528.411942088105\n",
      "3292.8637086936155\n",
      "4856.703896858297\n",
      "3690.5402481335436\n",
      "2400.013931375379\n",
      "1263.5830991114924\n",
      "647.8195817207073\n",
      "361.1877727069728\n",
      "194.3577387189954\n",
      "98.4033990412142\n"
     ]
    }
   ],
   "source": [
    "test_PowerMethod_case1()"
   ]
  },
  {
   "cell_type": "code",
   "execution_count": null,
   "metadata": {},
   "outputs": [],
   "source": []
  }
 ],
 "metadata": {
  "kernelspec": {
   "display_name": "Python 3",
   "language": "python",
   "name": "python3"
  },
  "language_info": {
   "codemirror_mode": {
    "name": "ipython",
    "version": 3
   },
   "file_extension": ".py",
   "mimetype": "text/x-python",
   "name": "python",
   "nbconvert_exporter": "python",
   "pygments_lexer": "ipython3",
   "version": "3.7.3"
  }
 },
 "nbformat": 4,
 "nbformat_minor": 4
}
