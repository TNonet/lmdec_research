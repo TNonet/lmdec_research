{
 "cells": [
  {
   "cell_type": "code",
   "execution_count": 53,
   "metadata": {},
   "outputs": [],
   "source": [
    "from abc import abstractmethod, ABCMeta"
   ]
  },
  {
   "cell_type": "code",
   "execution_count": 88,
   "metadata": {},
   "outputs": [],
   "source": [
    "class Base(metaclass=ABCMeta):\n",
    "    \n",
    "    def __init__(self, a):\n",
    "        self.a = a\n",
    "        \n",
    "    @abstractmethod\n",
    "    def __update1(self, x):\n",
    "        raise NotImplementedError('Must implement __update')\n",
    "        \n",
    "    \n",
    "    @abstractmethod\n",
    "    def __update2(self, x):\n",
    "        raise NotImplementedError('Must implement __update')\n",
    "    \n",
    "    def test(self, num_iters):\n",
    "        val = 0\n",
    "        for i in range(num_iters):\n",
    "            val = self.__update1(val)\n",
    "            val = self.__update2(val)\n",
    "        return val\n",
    "\n",
    "class Inc(Base):\n",
    "        \n",
    "    def _Base__update1(self, x):\n",
    "        return x + self.a\n",
    "    \n",
    "    def _Base__update2(self, x):\n",
    "        return x + self.a\n",
    "\n",
    "    \n",
    "class Dec(Inc, Base):\n",
    "        \n",
    "    def _Base__update2(self, x):\n",
    "        return x - self.a"
   ]
  },
  {
   "cell_type": "code",
   "execution_count": 89,
   "metadata": {},
   "outputs": [
    {
     "ename": "TypeError",
     "evalue": "Can't instantiate abstract class Base with abstract methods _Base__update1, _Base__update2",
     "output_type": "error",
     "traceback": [
      "\u001b[0;31m---------------------------------------------------------------------------\u001b[0m",
      "\u001b[0;31mTypeError\u001b[0m                                 Traceback (most recent call last)",
      "\u001b[0;32m<ipython-input-89-b36cc4ffd196>\u001b[0m in \u001b[0;36m<module>\u001b[0;34m\u001b[0m\n\u001b[0;32m----> 1\u001b[0;31m \u001b[0mbase_case\u001b[0m \u001b[0;34m=\u001b[0m \u001b[0mBase\u001b[0m\u001b[0;34m(\u001b[0m\u001b[0;36m4\u001b[0m\u001b[0;34m)\u001b[0m\u001b[0;34m\u001b[0m\u001b[0;34m\u001b[0m\u001b[0m\n\u001b[0m\u001b[1;32m      2\u001b[0m \u001b[0mbase_case\u001b[0m\u001b[0;34m.\u001b[0m\u001b[0mtest\u001b[0m\u001b[0;34m(\u001b[0m\u001b[0;36m10\u001b[0m\u001b[0;34m)\u001b[0m\u001b[0;34m\u001b[0m\u001b[0;34m\u001b[0m\u001b[0m\n",
      "\u001b[0;31mTypeError\u001b[0m: Can't instantiate abstract class Base with abstract methods _Base__update1, _Base__update2"
     ]
    }
   ],
   "source": [
    "base_case = Base(4)\n",
    "base_case.test(10)"
   ]
  },
  {
   "cell_type": "code",
   "execution_count": 90,
   "metadata": {},
   "outputs": [],
   "source": [
    "inc_case = Inc(4)\n",
    "dec_case = Dec(4)"
   ]
  },
  {
   "cell_type": "code",
   "execution_count": 91,
   "metadata": {},
   "outputs": [
    {
     "data": {
      "text/plain": [
       "80"
      ]
     },
     "execution_count": 91,
     "metadata": {},
     "output_type": "execute_result"
    }
   ],
   "source": [
    "inc_case.test(10)"
   ]
  },
  {
   "cell_type": "code",
   "execution_count": 92,
   "metadata": {},
   "outputs": [
    {
     "data": {
      "text/plain": [
       "0"
      ]
     },
     "execution_count": 92,
     "metadata": {},
     "output_type": "execute_result"
    }
   ],
   "source": [
    "dec_case.test(10)"
   ]
  },
  {
   "cell_type": "code",
   "execution_count": 86,
   "metadata": {},
   "outputs": [
    {
     "data": {
      "text/plain": [
       "\u001b[0;31mSignature:\u001b[0m \u001b[0mabstractmethod\u001b[0m\u001b[0;34m(\u001b[0m\u001b[0mfuncobj\u001b[0m\u001b[0;34m)\u001b[0m\u001b[0;34m\u001b[0m\u001b[0;34m\u001b[0m\u001b[0m\n",
       "\u001b[0;31mDocstring:\u001b[0m\n",
       "A decorator indicating abstract methods.\n",
       "\n",
       "Requires that the metaclass is ABCMeta or derived from it.  A\n",
       "class that has a metaclass derived from ABCMeta cannot be\n",
       "instantiated unless all of its abstract methods are overridden.\n",
       "The abstract methods can be called using any of the normal\n",
       "'super' call mechanisms.\n",
       "\n",
       "Usage:\n",
       "\n",
       "    class C(metaclass=ABCMeta):\n",
       "        @abstractmethod\n",
       "        def my_abstract_method(self, ...):\n",
       "            ...\n",
       "\u001b[0;31mFile:\u001b[0m      //anaconda3/lib/python3.7/abc.py\n",
       "\u001b[0;31mType:\u001b[0m      function\n"
      ]
     },
     "metadata": {},
     "output_type": "display_data"
    }
   ],
   "source": [
    "abstractmethod?"
   ]
  },
  {
   "cell_type": "code",
   "execution_count": null,
   "metadata": {},
   "outputs": [],
   "source": []
  }
 ],
 "metadata": {
  "kernelspec": {
   "display_name": "Python 3",
   "language": "python",
   "name": "python3"
  },
  "language_info": {
   "codemirror_mode": {
    "name": "ipython",
    "version": 3
   },
   "file_extension": ".py",
   "mimetype": "text/x-python",
   "name": "python",
   "nbconvert_exporter": "python",
   "pygments_lexer": "ipython3",
   "version": "3.7.3"
  }
 },
 "nbformat": 4,
 "nbformat_minor": 4
}
