{
 "cells": [
  {
   "cell_type": "markdown",
   "metadata": {},
   "source": [
    "# FB PCA"
   ]
  },
  {
   "cell_type": "code",
   "execution_count": 12,
   "metadata": {},
   "outputs": [],
   "source": [
    "import fbpca\n",
    "import dask\n",
    "import dask.array as da\n",
    "from dask.distributed import Client\n",
    "import os\n",
    "import h5py\n",
    "import zarr\n",
    "from lmdec.array.core.metrics import rmse_k\n",
    "from lmdec.array.core.transform import acc_format_svd"
   ]
  },
  {
   "cell_type": "code",
   "execution_count": 5,
   "metadata": {},
   "outputs": [],
   "source": [
    "array_file_path = '/Users/tnonet/Documents/FlashPCATests/run_directory/matricies/5K_20K.h5py'\n",
    "\n",
    "assert os.path.isfile(array_file_path)\n",
    "array_file_path = os.path.abspath(array_file_path)\n",
    "f = h5py.File(array_file_path, 'r')\n",
    "snp_array = dask.array.from_array(f['/array'])\n",
    "m, n = snp_array.shape"
   ]
  },
  {
   "cell_type": "code",
   "execution_count": 39,
   "metadata": {},
   "outputs": [
    {
     "name": "stderr",
     "output_type": "stream",
     "text": [
      "//anaconda3/lib/python3.7/site-packages/dask/array/core.py:1333: FutureWarning: The `numpy.isrealobj` function is not implemented by Dask array. You may want to use the da.map_blocks function or something similar to silence this warning. Your code may stop working in a future release.\n",
      "  FutureWarning,\n"
     ]
    }
   ],
   "source": [
    "U, S, V = fbpca.pca(snp_array, k=10, n_iter=50, raw=False)"
   ]
  },
  {
   "cell_type": "code",
   "execution_count": 42,
   "metadata": {},
   "outputs": [
    {
     "data": {
      "text/plain": [
       "(2.844580446038349,\n",
       " {'start': 1582927464.643199,\n",
       "  'params': {'p': 1, 'log': 1},\n",
       "  'end': 1582927465.686165})"
      ]
     },
     "execution_count": 42,
     "metadata": {},
     "output_type": "execute_result"
    }
   ],
   "source": [
    "U_acc, S_acc = acc_format_svd(U, S, snp_array.shape, square=True)\n",
    "rmse_k(snp_array, U_acc, S_acc)"
   ]
  },
  {
   "cell_type": "code",
   "execution_count": 51,
   "metadata": {},
   "outputs": [
    {
     "data": {
      "text/plain": [
       "array([[ 4.52642212e+07, -3.97792657e+07, -1.88059138e+07,\n",
       "         6.34105778e+06,  1.77143462e+07,  3.23510513e+03,\n",
       "        -1.34743186e+04, -8.41109863e+02, -3.49372975e+04,\n",
       "         6.20081821e+02],\n",
       "       [-8.40252876e+06,  1.52855669e+07,  1.80882314e+07,\n",
       "         2.34236617e+07, -1.97968403e+07,  3.45712017e+04,\n",
       "        -2.52056387e+04,  1.99555934e+04,  6.60495762e+03,\n",
       "         1.47458940e+04],\n",
       "       [-4.05962410e+07, -1.85041244e+07, -9.42341457e+06,\n",
       "         1.48889551e+07,  2.80412672e+07, -4.90972572e+03,\n",
       "         1.21830693e+04, -1.45179939e+03, -1.19476074e+04,\n",
       "         2.09181921e+04],\n",
       "       [-3.26022906e+07,  4.25636314e+06, -1.98672832e+07,\n",
       "        -1.84996344e+07,  3.46704111e+07, -3.03318096e+04,\n",
       "         7.55868207e+03,  3.73630245e+04, -2.79123070e+04,\n",
       "        -2.21546802e+04],\n",
       "       [ 1.27207771e+07, -1.69794745e+07, -2.58966898e+07,\n",
       "        -6.96905694e+06, -7.50331764e+06, -3.93305933e+04,\n",
       "         3.02794561e+04,  9.10539702e+03, -2.60282977e+04,\n",
       "         6.51451085e+04],\n",
       "       [-2.97291053e+07, -5.99092232e+06,  1.68036399e+07,\n",
       "         1.93991456e+07, -5.54906720e+06,  2.46137602e+04,\n",
       "        -1.38936609e+04, -3.40727035e+03,  3.86460527e+04,\n",
       "         7.93995627e+03],\n",
       "       [-3.06853424e+07,  1.29154661e+07,  1.40448799e+07,\n",
       "         2.23431357e+07, -2.25156878e+07,  4.18908543e+03,\n",
       "        -6.01786162e+03, -6.89153625e+03, -1.43898721e+04,\n",
       "        -4.39934537e+04],\n",
       "       [ 3.29001568e+06,  2.85367388e+07,  3.05863987e+07,\n",
       "         7.81399484e+06,  6.65691032e+06, -1.74835435e+04,\n",
       "         8.20868800e+03,  4.92161062e+04,  4.74372895e+04,\n",
       "         6.16271448e+03],\n",
       "       [ 8.21214949e+06, -3.35374857e+06,  4.45792029e+07,\n",
       "        -1.65281199e+07,  1.35605331e+07, -8.93008012e+03,\n",
       "         1.22192903e+04,  4.84599334e+02,  3.15815964e+04,\n",
       "         1.79273430e+04],\n",
       "       [-3.93404315e+07,  1.27435992e+07, -2.01148537e+07,\n",
       "         8.10441852e+06, -3.21548646e+07, -4.23352331e+03,\n",
       "         1.29951063e+04,  2.81640216e+03, -6.41261409e+04,\n",
       "        -1.05221097e+04]])"
      ]
     },
     "execution_count": 51,
     "metadata": {},
     "output_type": "execute_result"
    }
   ],
   "source": [
    "(snp_array.dot(snp_array.T.dot(U)) - U.dot(da.diag(S*)))[0:10, 0:10].compute()"
   ]
  },
  {
   "cell_type": "code",
   "execution_count": 23,
   "metadata": {},
   "outputs": [
    {
     "data": {
      "text/plain": [
       "(2.844580472385775,\n",
       " {'start': 1582927144.161738,\n",
       "  'params': {'p': 1, 'log': 1},\n",
       "  'end': 1582927145.201239})"
      ]
     },
     "execution_count": 23,
     "metadata": {},
     "output_type": "execute_result"
    }
   ],
   "source": [
    "U_acc, S_acc = acc_format_svd(U, S, snp_array.shape, square=True)\n",
    "rmse_k(snp_array, U_acc, S_acc)"
   ]
  },
  {
   "cell_type": "code",
   "execution_count": null,
   "metadata": {},
   "outputs": [],
   "source": []
  }
 ],
 "metadata": {
  "kernelspec": {
   "display_name": "Python 3",
   "language": "python",
   "name": "python3"
  },
  "language_info": {
   "codemirror_mode": {
    "name": "ipython",
    "version": 3
   },
   "file_extension": ".py",
   "mimetype": "text/x-python",
   "name": "python",
   "nbconvert_exporter": "python",
   "pygments_lexer": "ipython3",
   "version": "3.7.3"
  }
 },
 "nbformat": 4,
 "nbformat_minor": 4
}
