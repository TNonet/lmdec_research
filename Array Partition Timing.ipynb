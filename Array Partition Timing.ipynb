{
 "cells": [
  {
   "cell_type": "code",
   "execution_count": 1,
   "metadata": {},
   "outputs": [],
   "source": [
    "import numpy as np\n",
    "import dask.array as da\n",
    "from lamade.array.core.matrix_ops import sym_mat_mult\n",
    "from lamade.array.core.random import array_constant_partition\n",
    "import matplotlib.pyplot as plt"
   ]
  },
  {
   "cell_type": "code",
   "execution_count": 14,
   "metadata": {},
   "outputs": [],
   "source": [
    "m, n, k = (10000, 40000, 10)\n",
    "a = da.random.random(size=(m,n))\n",
    "x = da.random.random(size=(n,k))"
   ]
  },
  {
   "cell_type": "code",
   "execution_count": 15,
   "metadata": {},
   "outputs": [
    {
     "data": {
      "text/html": [
       "<table>\n",
       "<tr>\n",
       "<td>\n",
       "<table>\n",
       "  <thead>\n",
       "    <tr><td> </td><th> Array </th><th> Chunk </th></tr>\n",
       "  </thead>\n",
       "  <tbody>\n",
       "    <tr><th> Bytes </th><td> 3.20 GB </td> <td> 80.00 MB </td></tr>\n",
       "    <tr><th> Shape </th><td> (10000, 40000) </td> <td> (2500, 4000) </td></tr>\n",
       "    <tr><th> Count </th><td> 40 Tasks </td><td> 40 Chunks </td></tr>\n",
       "    <tr><th> Type </th><td> float64 </td><td> numpy.ndarray </td></tr>\n",
       "  </tbody>\n",
       "</table>\n",
       "</td>\n",
       "<td>\n",
       "<svg width=\"170\" height=\"92\" style=\"stroke:rgb(0,0,0);stroke-width:1\" >\n",
       "\n",
       "  <!-- Horizontal lines -->\n",
       "  <line x1=\"0\" y1=\"0\" x2=\"120\" y2=\"0\" style=\"stroke-width:2\" />\n",
       "  <line x1=\"0\" y1=\"10\" x2=\"120\" y2=\"10\" />\n",
       "  <line x1=\"0\" y1=\"21\" x2=\"120\" y2=\"21\" />\n",
       "  <line x1=\"0\" y1=\"32\" x2=\"120\" y2=\"32\" />\n",
       "  <line x1=\"0\" y1=\"42\" x2=\"120\" y2=\"42\" style=\"stroke-width:2\" />\n",
       "\n",
       "  <!-- Vertical lines -->\n",
       "  <line x1=\"0\" y1=\"0\" x2=\"0\" y2=\"42\" style=\"stroke-width:2\" />\n",
       "  <line x1=\"12\" y1=\"0\" x2=\"12\" y2=\"42\" />\n",
       "  <line x1=\"24\" y1=\"0\" x2=\"24\" y2=\"42\" />\n",
       "  <line x1=\"36\" y1=\"0\" x2=\"36\" y2=\"42\" />\n",
       "  <line x1=\"48\" y1=\"0\" x2=\"48\" y2=\"42\" />\n",
       "  <line x1=\"60\" y1=\"0\" x2=\"60\" y2=\"42\" />\n",
       "  <line x1=\"72\" y1=\"0\" x2=\"72\" y2=\"42\" />\n",
       "  <line x1=\"84\" y1=\"0\" x2=\"84\" y2=\"42\" />\n",
       "  <line x1=\"96\" y1=\"0\" x2=\"96\" y2=\"42\" />\n",
       "  <line x1=\"108\" y1=\"0\" x2=\"108\" y2=\"42\" />\n",
       "  <line x1=\"120\" y1=\"0\" x2=\"120\" y2=\"42\" style=\"stroke-width:2\" />\n",
       "\n",
       "  <!-- Colored Rectangle -->\n",
       "  <polygon points=\"0.000000,0.000000 120.000000,0.000000 120.000000,42.898796 0.000000,42.898796\" style=\"fill:#ECB172A0;stroke-width:0\"/>\n",
       "\n",
       "  <!-- Text -->\n",
       "  <text x=\"60.000000\" y=\"62.898796\" font-size=\"1.0rem\" font-weight=\"100\" text-anchor=\"middle\" >40000</text>\n",
       "  <text x=\"140.000000\" y=\"21.449398\" font-size=\"1.0rem\" font-weight=\"100\" text-anchor=\"middle\" transform=\"rotate(-90,140.000000,21.449398)\">10000</text>\n",
       "</svg>\n",
       "</td>\n",
       "</tr>\n",
       "</table>"
      ],
      "text/plain": [
       "dask.array<random_sample, shape=(10000, 40000), dtype=float64, chunksize=(2500, 4000), chunktype=numpy.ndarray>"
      ]
     },
     "execution_count": 15,
     "metadata": {},
     "output_type": "execute_result"
    }
   ],
   "source": [
    "a"
   ]
  },
  {
   "cell_type": "code",
   "execution_count": 16,
   "metadata": {},
   "outputs": [],
   "source": [
    "p_values = np.linspace(1, 0.01, 20)\n",
    "run_times = []\n",
    "for p in p_values:\n",
    "    _, log = sym_mat_mult(a, x, log=10, p=p, compute = True)\n",
    "    run_times.append(log['end']-log['start'])"
   ]
  },
  {
   "cell_type": "code",
   "execution_count": 17,
   "metadata": {},
   "outputs": [
    {
     "data": {
      "text/plain": [
       "[<matplotlib.lines.Line2D at 0x120c19dd8>]"
      ]
     },
     "execution_count": 17,
     "metadata": {},
     "output_type": "execute_result"
    },
    {
     "data": {
      "image/png": "[encoded data removed]",
      "text/plain": [
       "<Figure size 432x288 with 1 Axes>"
      ]
     },
     "metadata": {
      "needs_background": "light"
     },
     "output_type": "display_data"
    }
   ],
   "source": [
    "plt.plot(p_values, run_times)"
   ]
  },
  {
   "cell_type": "code",
   "execution_count": 18,
   "metadata": {},
   "outputs": [
    {
     "data": {
      "text/plain": [
       "{'array_split': {'start': 1580242630.348233,\n",
       "  'params': {'axis': 1, 'seed': 42, 'log': 8},\n",
       "  'end': 1580242630.349531},\n",
       " 'wrapped_f': {'dot': [{'start': 1580242630.350234, 'end': 1580242631.578479}],\n",
       "  'T.dot': [{'start': 1580242631.5784802, 'end': 1580242632.627209}],\n",
       "  'start': 1580242630.350176,\n",
       "  'params': {'p': 1, 'seed': 42, 'compute': True, 'log': 8},\n",
       "  'end': 1580242632.627219},\n",
       " 'start': 1580242630.348078,\n",
       " 'params': {'p': 0.1, 'seed': 42, 'compute': True, 'log': 10},\n",
       " 'end': 1580242632.6330082}"
      ]
     },
     "execution_count": 18,
     "metadata": {},
     "output_type": "execute_result"
    }
   ],
   "source": [
    "_, log = sym_mat_mult(a, x, p=.1, compute=True, log=10)\n",
    "log"
   ]
  },
  {
   "cell_type": "code",
   "execution_count": 28,
   "metadata": {},
   "outputs": [],
   "source": [
    "p_values = np.linspace(.49, 0.01, 20)\n",
    "run_times = []\n",
    "for p in p_values:\n",
    "    parts = array_constant_partition(a.shape, p=.1)\n",
    "    _, log = sym_mat_mult(a, x, log=10, p=parts[0], compute = True)\n",
    "    run_times.append(log['end']-log['start'])\n",
    "    \n",
    "p_values = np.hstack([1, p_values])\n",
    "_, log = sym_mat_mult(a, x, log=10, p=1, compute = True)\n",
    "run_times.insert(0, log['end']-log['start'])"
   ]
  },
  {
   "cell_type": "code",
   "execution_count": 29,
   "metadata": {},
   "outputs": [
    {
     "data": {
      "text/plain": [
       "[<matplotlib.lines.Line2D at 0x12131a668>]"
      ]
     },
     "execution_count": 29,
     "metadata": {},
     "output_type": "execute_result"
    },
    {
     "data": {
      "image/png": "[encoded data removed]",
      "text/plain": [
       "<Figure size 432x288 with 1 Axes>"
      ]
     },
     "metadata": {
      "needs_background": "light"
     },
     "output_type": "display_data"
    }
   ],
   "source": [
    "plt.plot(p_values, run_times)"
   ]
  },
  {
   "cell_type": "code",
   "execution_count": 20,
   "metadata": {},
   "outputs": [
    {
     "data": {
      "text/plain": [
       "[<matplotlib.lines.Line2D at 0x117308588>]"
      ]
     },
     "execution_count": 20,
     "metadata": {},
     "output_type": "execute_result"
    },
    {
     "data": {
      "image/png": "[encoded data removed]",
      "text/plain": [
       "<Figure size 432x288 with 1 Axes>"
      ]
     },
     "metadata": {
      "needs_background": "light"
     },
     "output_type": "display_data"
    }
   ],
   "source": [
    "plt.plot(p_values, run_times)"
   ]
  },
  {
   "cell_type": "code",
   "execution_count": 24,
   "metadata": {},
   "outputs": [
    {
     "data": {
      "text/plain": [
       "array([0.49      , 0.46473684, 0.43947368, 0.41421053, 0.38894737,\n",
       "       0.36368421, 0.33842105, 0.31315789, 0.28789474, 0.26263158,\n",
       "       0.23736842, 0.21210526, 0.18684211, 0.16157895, 0.13631579,\n",
       "       0.11105263, 0.08578947, 0.06052632, 0.03526316, 0.01      ,\n",
       "       1.        ])"
      ]
     },
     "execution_count": 24,
     "metadata": {},
     "output_type": "execute_result"
    }
   ],
   "source": [
    "np.hstack([p_values, 1])"
   ]
  },
  {
   "cell_type": "code",
   "execution_count": 28,
   "metadata": {},
   "outputs": [],
   "source": [
    "# Axis 1 Testing\n",
    "for p in [.001, .1, .2, .5]:\n",
    "    a_test = np.random.rand(1000, 1000)\n",
    "    parts = array_constant_partition(a_test.shape, p=.1)\n",
    "    a_copy = np.zeros_like(a_test)\n",
    "    for part in parts:\n",
    "        a_copy[part, :] = a_test[part, :]\n",
    "    np.testing.assert_almost_equal(a_copy, a_test)"
   ]
  },
  {
   "cell_type": "code",
   "execution_count": 29,
   "metadata": {},
   "outputs": [],
   "source": [
    "# Axis 2 Testing\n",
    "for p in [.001, .1, .2, .5]:\n",
    "    a_test = np.random.rand(1000, 1000)\n",
    "    parts = array_constant_partition(a_test.shape, p=.1, axis=2)\n",
    "    a_copy = np.zeros_like(a_test)\n",
    "    for part in parts:\n",
    "        a_copy[:, part] = a_test[:, part]\n",
    "    np.testing.assert_almost_equal(a_copy, a_test)"
   ]
  },
  {
   "cell_type": "code",
   "execution_count": 24,
   "metadata": {},
   "outputs": [
    {
     "data": {
      "text/plain": [
       "array([[0., 0., 0., ..., 0., 0., 0.],\n",
       "       [0., 0., 0., ..., 0., 0., 0.],\n",
       "       [0., 0., 0., ..., 0., 0., 0.],\n",
       "       ...,\n",
       "       [0., 0., 0., ..., 0., 0., 0.],\n",
       "       [0., 0., 0., ..., 0., 0., 0.],\n",
       "       [0., 0., 0., ..., 0., 0., 0.]])"
      ]
     },
     "execution_count": 24,
     "metadata": {},
     "output_type": "execute_result"
    }
   ],
   "source": []
  },
  {
   "cell_type": "code",
   "execution_count": null,
   "metadata": {},
   "outputs": [],
   "source": []
  }
 ],
 "metadata": {
  "kernelspec": {
   "display_name": "Python 3",
   "language": "python",
   "name": "python3"
  },
  "language_info": {
   "codemirror_mode": {
    "name": "ipython",
    "version": 3
   },
   "file_extension": ".py",
   "mimetype": "text/x-python",
   "name": "python",
   "nbconvert_exporter": "python",
   "pygments_lexer": "ipython3",
   "version": "3.7.3"
  }
 },
 "nbformat": 4,
 "nbformat_minor": 4
}
