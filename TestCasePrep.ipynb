{
 "cells": [
  {
   "cell_type": "code",
   "execution_count": 1,
   "metadata": {},
   "outputs": [],
   "source": [
    "import lamade\n",
    "import dask.array as da\n",
    "import numpy as np"
   ]
  },
  {
   "cell_type": "code",
   "execution_count": 2,
   "metadata": {},
   "outputs": [],
   "source": [
    "from lamade.array.core import matrix_ops"
   ]
  },
  {
   "cell_type": "code",
   "execution_count": 7,
   "metadata": {},
   "outputs": [],
   "source": [
    "m, n, k = 10, 10, 2\n",
    "A_np = np.random.rand(m,n)\n",
    "A_da = da.array(A_np)\n",
    "x = np.random.rand(n, k)"
   ]
  },
  {
   "cell_type": "code",
   "execution_count": 10,
   "metadata": {},
   "outputs": [
    {
     "data": {
      "text/plain": [
       "(array([[11.78872635, 12.41422861],\n",
       "        [11.14789637, 11.92598153],\n",
       "        [ 8.94015074,  9.74142448],\n",
       "        [13.92228226, 14.89699966],\n",
       "        [12.53600526, 13.54584114],\n",
       "        [ 9.21496663, 10.01696791],\n",
       "        [11.56873186, 12.39269052],\n",
       "        [14.65743274, 16.22573379],\n",
       "        [10.4858017 , 11.80697917],\n",
       "        [10.23681043, 10.92069913]]),\n",
       " {'start': 1579309609.00779,\n",
       "  'params': {'p': 1, 'seed': 42, 'compute': False, 'log': 1},\n",
       "  'end': 1579309609.007831})"
      ]
     },
     "execution_count": 10,
     "metadata": {},
     "output_type": "execute_result"
    }
   ],
   "source": [
    "matrix_ops.sym_mat_mult(A, x, compute=False)"
   ]
  },
  {
   "cell_type": "code",
   "execution_count": 11,
   "metadata": {},
   "outputs": [
    {
     "data": {
      "text/plain": [
       "(dask.array<sum-aggregate, shape=(10, 2), dtype=float64, chunksize=(10, 2), chunktype=numpy.ndarray>,\n",
       " {'start': 1579309613.938797,\n",
       "  'params': {'p': 1, 'seed': 42, 'compute': True, 'log': 1},\n",
       "  'end': 1579309614.125459})"
      ]
     },
     "execution_count": 11,
     "metadata": {},
     "output_type": "execute_result"
    }
   ],
   "source": [
    "matrix_ops.sym_mat_mult(A_da, x, compute=True)"
   ]
  },
  {
   "cell_type": "code",
   "execution_count": null,
   "metadata": {},
   "outputs": [],
   "source": []
  }
 ],
 "metadata": {
  "kernelspec": {
   "display_name": "Python 3",
   "language": "python",
   "name": "python3"
  },
  "language_info": {
   "codemirror_mode": {
    "name": "ipython",
    "version": 3
   },
   "file_extension": ".py",
   "mimetype": "text/x-python",
   "name": "python",
   "nbconvert_exporter": "python",
   "pygments_lexer": "ipython3",
   "version": "3.7.3"
  }
 },
 "nbformat": 4,
 "nbformat_minor": 4
}
