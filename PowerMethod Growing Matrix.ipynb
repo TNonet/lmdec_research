{
 "cells": [
  {
   "cell_type": "code",
   "execution_count": 4,
   "metadata": {},
   "outputs": [],
   "source": [
    "from lmdec.decomp.iter_methods import PowerMethod, SuccessiveStochasticPowerMethod\n",
    "from lmdec.array.core import rmse_k\n",
    "from lmdec.array.core.transform import acc_format_svd\n",
    "import dask.array as da\n",
    "import dask\n",
    "import matplotlib.pyplot as plt\n",
    "import numpy as np\n",
    "import os\n",
    "import h5py"
   ]
  },
  {
   "cell_type": "code",
   "execution_count": 5,
   "metadata": {},
   "outputs": [],
   "source": [
    "array_file_path = '/Users/tnonet/Documents/SVD_Matricies/data/10K_40K.h5py'\n",
    "\n",
    "assert os.path.isfile(array_file_path)\n",
    "array_file_path = os.path.abspath(array_file_path)\n",
    "f = h5py.File(array_file_path, 'r')\n",
    "snp_array = dask.array.from_array(f['/array'])\n",
    "m, n = snp_array.shape"
   ]
  },
  {
   "cell_type": "markdown",
   "metadata": {},
   "source": [
    "# Power Method vs Successive Stochastic Power Method"
   ]
  },
  {
   "cell_type": "code",
   "execution_count": 10,
   "metadata": {},
   "outputs": [
    {
     "name": "stdout",
     "output_type": "stream",
     "text": [
      "U.shape:  (10000, 10)\n",
      "S.shape:  (10,)\n",
      "V.shape:  (10, 40000)\n"
     ]
    }
   ],
   "source": [
    "PM1 = PowerMethod(max_iter = 50, k=10, buffer = 20, tol=1e-4, scoring_method='rmse')\n",
    "U, S, V = PM1.svd(snp_array)\n",
    "print('U.shape: ', U.shape)\n",
    "print('S.shape: ', S.shape)\n",
    "print('V.shape: ', V.shape)"
   ]
  },
  {
   "cell_type": "code",
   "execution_count": 20,
   "metadata": {},
   "outputs": [
    {
     "name": "stdout",
     "output_type": "stream",
     "text": [
      "212.46601605415344\n"
     ]
    },
    {
     "data": {
      "text/plain": [
       "[0.001050026329940678,\n",
       " 0.000819724344970943,\n",
       " 0.0006784319726017507,\n",
       " 0.0005806203835288418,\n",
       " 0.0005083459801725906,\n",
       " 0.00045109634652719735,\n",
       " 0.0004041977328223736,\n",
       " 0.00036553371177377807,\n",
       " 0.00033366944475163833,\n",
       " 0.0003070286896507536,\n",
       " 0.0002837506432160364,\n",
       " 0.00026306230204116383,\n",
       " 0.0002447192888795756,\n",
       " 0.00022849142150123202,\n",
       " 0.00021413643572115067,\n",
       " 0.0002014174094272473,\n",
       " 0.000190111158642062,\n",
       " 0.00018001224238583163,\n",
       " 0.0001709365574362639,\n",
       " 0.0001627243482428108,\n",
       " 0.00015524054663850295,\n",
       " 0.00014837262073682714,\n",
       " 0.0001420281092081437,\n",
       " 0.0001361328565196834,\n",
       " 0.00013062924271346096,\n",
       " 0.0001254736632449676,\n",
       " 0.00012063338689088518,\n",
       " 0.00011608339651276417,\n",
       " 0.00011180369499552615,\n",
       " 0.00010777724566167473,\n",
       " 0.00010398850854376703,\n",
       " 0.00010042247515469785,\n",
       " 9.706412642734649e-05]"
      ]
     },
     "execution_count": 20,
     "metadata": {},
     "output_type": "execute_result"
    }
   ],
   "source": [
    "print(PM1.time)\n",
    "PM1.tol_iterations"
   ]
  },
  {
   "cell_type": "code",
   "execution_count": 13,
   "metadata": {},
   "outputs": [],
   "source": [
    "SSPM = SuccessiveStochasticPowerMethod(k = 6,\n",
    "                                       max_sub_iter=15,\n",
    "                                       buffer = 20,\n",
    "                                       scoring_method='rmse',\n",
    "                                       sub_start='warm',\n",
    "                                       tol=1e-4,\n",
    "                                       f=.5,\n",
    "                                       p=1)"
   ]
  },
  {
   "cell_type": "code",
   "execution_count": 14,
   "metadata": {},
   "outputs": [],
   "source": [
    "Us, Ss, Vs = SSPM.svd(snp_array)"
   ]
  },
  {
   "cell_type": "code",
   "execution_count": 19,
   "metadata": {},
   "outputs": [
    {
     "name": "stdout",
     "output_type": "stream",
     "text": [
      "152.68358898162842\n"
     ]
    },
    {
     "data": {
      "text/plain": [
       "[[0.004372556515235249,\n",
       "  0.0007755700414574764,\n",
       "  0.0006367489089352777,\n",
       "  0.0005385914392172224,\n",
       "  0.00046777293721068924,\n",
       "  0.0004157006188853364,\n",
       "  0.00037718187390401467,\n",
       "  0.00034860899342804006,\n",
       "  0.00032445032023058635,\n",
       "  0.00030070211427734857,\n",
       "  0.0002782104424288385,\n",
       "  0.0002579637806083059,\n",
       "  0.00024007512585308164,\n",
       "  0.0002243082112585698,\n",
       "  0.00021034961065694835],\n",
       " [0.005680879789294797,\n",
       "  0.00036346546744927497,\n",
       "  0.00029388415478141594,\n",
       "  0.0002461894776076532,\n",
       "  0.00021281070617994556,\n",
       "  0.00018777792243466714,\n",
       "  0.0001680942043263104,\n",
       "  0.00015209346111292167,\n",
       "  0.00013877920391378552,\n",
       "  0.0001275437376253366,\n",
       "  0.00011808593320407221,\n",
       "  0.00011057579470296017,\n",
       "  0.00010559207419815686,\n",
       "  0.00010140424259559759,\n",
       "  9.669191960208849e-05]]"
      ]
     },
     "execution_count": 19,
     "metadata": {},
     "output_type": "execute_result"
    }
   ],
   "source": [
    "print(SSPM.time)\n",
    "SSPM.tol_iterations"
   ]
  },
  {
   "cell_type": "code",
   "execution_count": 41,
   "metadata": {},
   "outputs": [],
   "source": [
    "tol_plt_inter = []\n",
    "for sub_list in SSPM.tol_iterations:\n",
    "    tol_plt_inter += sub_list[-1:]"
   ]
  },
  {
   "cell_type": "code",
   "execution_count": 42,
   "metadata": {},
   "outputs": [
    {
     "data": {
      "text/plain": [
       "[<matplotlib.lines.Line2D at 0x1542cd0f0>]"
      ]
     },
     "execution_count": 42,
     "metadata": {},
     "output_type": "execute_result"
    },
    {
     "data": {
      "image/png": "[encoded data removed]",
      "text/plain": [
       "<Figure size 432x288 with 1 Axes>"
      ]
     },
     "metadata": {
      "needs_background": "light"
     },
     "output_type": "display_data"
    }
   ],
   "source": [
    "plt.plot(tol_plt_inter)"
   ]
  },
  {
   "cell_type": "raw",
   "metadata": {},
   "source": [
    "values = []\n",
    "for i in range(len(SSPM.value_iterations)):\n",
    "    sub_values = [SSPM.value_scalers[i]*j for j in SSPM.value_iterations[i]]\n",
    "    values.append(sub_values)"
   ]
  },
  {
   "cell_type": "markdown",
   "metadata": {},
   "source": [
    "# Ratio of SubArray Eigenvalues vs Array Eigenvalues"
   ]
  },
  {
   "cell_type": "code",
   "execution_count": 21,
   "metadata": {},
   "outputs": [],
   "source": [
    "PM3 = PowerMethod(max_iter = 50, k=10, buffer = 10, tol=1e-5, scoring_method='rmse')\n",
    "U, S, V = PM3.svd(snp_array)"
   ]
  },
  {
   "cell_type": "code",
   "execution_count": 22,
   "metadata": {},
   "outputs": [
    {
     "name": "stdout",
     "output_type": "stream",
     "text": [
      "8.939044624950755\n",
      "7.027253444641417\n",
      "5.763308873866308\n",
      "4.939867252145988\n",
      "4.348466437248159\n",
      "4.012670940032613\n",
      "3.6112762860327896\n",
      "3.2957604878043583\n"
     ]
    }
   ],
   "source": [
    "SSPM = SuccessiveStochasticPowerMethod(k = 6,\n",
    "                                       max_sub_iter=15,\n",
    "                                       buffer = 20,\n",
    "                                       scoring_method='rmse',\n",
    "                                       sub_start='warm',\n",
    "                                       tol=1e-4,\n",
    "                                       f=.1,\n",
    "                                       p=1)\n",
    "Us, Ss, Vs = SSPM.svd(snp_array)"
   ]
  },
  {
   "cell_type": "code",
   "execution_count": null,
   "metadata": {},
   "outputs": [],
   "source": []
  },
  {
   "cell_type": "code",
   "execution_count": 23,
   "metadata": {},
   "outputs": [],
   "source": [
    "ratios = []\n",
    "try:\n",
    "    S = S.compute()\n",
    "except:\n",
    "    S = S\n",
    "    \n",
    "p = len(SSPM.value_iterations)\n",
    "k = len(SSPM.value_iterations[0][0])\n",
    "for i in range(p):\n",
    "    sub_ratios = [SSPM.value_iterations[p-1][-1][j]/\n",
    "                  SSPM.value_iterations[i][-1][j] for j in range(k)]\n",
    "    ratios.append(sub_ratios)"
   ]
  },
  {
   "cell_type": "code",
   "execution_count": 24,
   "metadata": {},
   "outputs": [
    {
     "data": {
      "text/plain": [
       "<matplotlib.legend.Legend at 0x13ddd6278>"
      ]
     },
     "execution_count": 24,
     "metadata": {},
     "output_type": "execute_result"
    },
    {
     "data": {
      "image/png": "[encoded data removed]",
      "text/plain": [
       "<Figure size 432x288 with 1 Axes>"
      ]
     },
     "metadata": {
      "needs_background": "light"
     },
     "output_type": "display_data"
    }
   ],
   "source": [
    "for i, r in enumerate(ratios):\n",
    "    plt.plot(r[0:5], label=SSPM.value_scalers[i])\n",
    "plt.legend(loc=(1,0))"
   ]
  },
  {
   "cell_type": "code",
   "execution_count": 36,
   "metadata": {},
   "outputs": [
    {
     "data": {
      "text/plain": [
       "[<matplotlib.lines.Line2D at 0x153c5b550>]"
      ]
     },
     "execution_count": 36,
     "metadata": {},
     "output_type": "execute_result"
    },
    {
     "data": {
      "image/png": "[encoded data removed]",
      "text/plain": [
       "<Figure size 432x288 with 1 Axes>"
      ]
     },
     "metadata": {
      "needs_background": "light"
     },
     "output_type": "display_data"
    }
   ],
   "source": [
    "avg_ratio = [np.mean(r[0:5]) for r in ratios]\n",
    "\n",
    "plt.plot(SSPM.value_scalers, avg_ratio)\n",
    "\n",
    "def eigen_scaler_sqrt(x):\n",
    "    return .321*np.sqrt(np.array(x)-1) + 1\n",
    "\n",
    "def eigen_scaler_ln(x):\n",
    "    return .365*np.log(x) + 1\n",
    "\n",
    "plt.plot(SSPM.value_scalers, eigen_scaler_sqrt(SSPM.value_scalers))"
   ]
  },
  {
   "cell_type": "code",
   "execution_count": null,
   "metadata": {},
   "outputs": [],
   "source": []
  },
  {
   "cell_type": "code",
   "execution_count": null,
   "metadata": {},
   "outputs": [],
   "source": []
  }
 ],
 "metadata": {
  "kernelspec": {
   "display_name": "Python 3",
   "language": "python",
   "name": "python3"
  },
  "language_info": {
   "codemirror_mode": {
    "name": "ipython",
    "version": 3
   },
   "file_extension": ".py",
   "mimetype": "text/x-python",
   "name": "python",
   "nbconvert_exporter": "python",
   "pygments_lexer": "ipython3",
   "version": "3.7.3"
  }
 },
 "nbformat": 4,
 "nbformat_minor": 4
}
