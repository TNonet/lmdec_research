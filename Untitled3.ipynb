{
 "cells": [
  {
   "cell_type": "markdown",
   "metadata": {},
   "source": [
    "# SuccessiveStochasticPowerMethod"
   ]
  },
  {
   "cell_type": "code",
   "execution_count": 1,
   "metadata": {},
   "outputs": [],
   "source": [
    "from lmdec.decomp import SuccessiveStochasticPowerMethod2, PowerMethod, SuccessiveStochasticPowerMethod\n",
    "from lmdec.array.core.scaled import ScaledArray\n",
    "from lmdec.array.core.random import cumulative_partition, array_constant_partition\n",
    "from os import path\n",
    "import numpy as np\n",
    "import dask.array as da"
   ]
  },
  {
   "cell_type": "code",
   "execution_count": 2,
   "metadata": {},
   "outputs": [],
   "source": [
    "data_loc = '../../1000G_Pruned'\n",
    "data_dir = path.abspath(path.join(data_loc, '1KG_pruned_forPCA'))\n",
    "bed_file = path.abspath(path.join(data_loc, '1KG_pruned_forPCA.bed'))\n",
    "bim_file = path.abspath(path.join(data_loc, '1KG_pruned_forPCA.bim'))\n",
    "fam_file = path.abspath(path.join(data_loc, '1KG_pruned_forPCA.fam'))"
   ]
  },
  {
   "cell_type": "code",
   "execution_count": 3,
   "metadata": {},
   "outputs": [],
   "source": [
    "SSPM2 = SuccessiveStochasticPowerMethod2(sub_svd_start=False)\n",
    "PM = PowerMethod(max_iter=2)"
   ]
  },
  {
   "cell_type": "code",
   "execution_count": 4,
   "metadata": {},
   "outputs": [
    {
     "name": "stderr",
     "output_type": "stream",
     "text": [
      "Mapping files: 100%|██████████| 3/3 [00:00<00:00,  8.54it/s]\n"
     ]
    }
   ],
   "source": [
    "U, S, V = SSPM2.svd(path_to_files=data_dir)"
   ]
  },
  {
   "cell_type": "code",
   "execution_count": 5,
   "metadata": {},
   "outputs": [
    {
     "data": {
      "text/plain": [
       "{'times': {'start': 1587490556.178428,\n",
       "  'stop': 1587490787.0685241,\n",
       "  'iter': [{'start': 1587490563.586197,\n",
       "    'stop': 1587490568.1836212,\n",
       "    'iter': [1.4684479236602783, 1.207265853881836, 1.3280360698699951],\n",
       "    'step': [0.7886488437652588, 0.6963908672332764, 0.7585558891296387],\n",
       "    'acc': [0.6797890663146973,\n",
       "     0.5108668804168701,\n",
       "     0.5694713592529297,\n",
       "     0.5285050868988037]},\n",
       "   {'start': 1587490569.527425,\n",
       "    'stop': 1587490575.420842,\n",
       "    'iter': [2.873857021331787, 2.061704158782959],\n",
       "    'step': [1.501507043838501, 1.110673189163208],\n",
       "    'acc': [1.3723409175872803, 0.9510231018066406, 0.9276809692382812]},\n",
       "   {'start': 1587490577.2952142,\n",
       "    'stop': 1587490587.051626,\n",
       "    'iter': [4.790062665939331, 3.456374168395996],\n",
       "    'step': [2.6324758529663086, 1.9190359115600586],\n",
       "    'acc': [2.1575779914855957, 1.5373289585113525, 1.4685039520263672]},\n",
       "   {'start': 1587490589.725025,\n",
       "    'stop': 1587490601.833264,\n",
       "    'iter': [6.228600025177002, 4.01866602897644],\n",
       "    'step': [3.201903820037842, 2.2128758430480957],\n",
       "    'acc': [3.026686906814575, 1.8057808876037598, 1.8106458187103271]},\n",
       "   {'start': 1587490605.339827,\n",
       "    'stop': 1587490620.763247,\n",
       "    'iter': [7.8969080448150635, 5.213079214096069],\n",
       "    'step': [4.1350417137146, 2.883942127227783],\n",
       "    'acc': [3.761857032775879, 2.3291289806365967, 2.275635242462158]},\n",
       "   {'start': 1587490625.30515,\n",
       "    'stop': 1587490649.792842,\n",
       "    'iter': [11.938902854919434, 8.216038703918457],\n",
       "    'step': [6.514024972915649, 4.753837823867798],\n",
       "    'acc': [5.424864768981934, 3.462191104888916, 4.285319805145264]},\n",
       "   {'start': 1587490656.644023,\n",
       "    'stop': 1587490679.337871,\n",
       "    'iter': [12.11345386505127, 7.070621967315674],\n",
       "    'step': [5.767937183380127, 4.089124917984009],\n",
       "    'acc': [6.345505714416504, 2.981487989425659, 3.4132869243621826]},\n",
       "   {'start': 1587490684.987168,\n",
       "    'stop': 1587490712.1416519,\n",
       "    'iter': [14.375232934951782, 9.14499831199646],\n",
       "    'step': [7.217687129974365, 5.242110013961792],\n",
       "    'acc': [7.157536029815674, 3.902879238128662, 3.5929272174835205]},\n",
       "   {'start': 1587490717.937901,\n",
       "    'stop': 1587490746.358151,\n",
       "    'iter': [15.520916938781738, 8.676177740097046],\n",
       "    'step': [7.750327110290527, 5.166722059249878],\n",
       "    'acc': [7.770580053329468, 3.5094478130340576, 4.140922784805298]},\n",
       "   {'start': 1587490753.575296,\n",
       "    'stop': 1587490787.021942,\n",
       "    'iter': [18.811518907546997, 10.43025016784668],\n",
       "    'step': [9.734299898147583, 6.097147226333618],\n",
       "    'acc': [9.077208995819092, 4.333092927932739, 4.16215181350708]}]},\n",
       " 'acc': [{'q-vals': [inf,\n",
       "    1.669718446545954,\n",
       "    0.10148687200105586,\n",
       "    0.01987702948321833],\n",
       "   'rmse': [],\n",
       "   'v-subspace': []},\n",
       "  {'q-vals': [inf, 1.998865881560215, 0.0021705954679927175],\n",
       "   'rmse': [],\n",
       "   'v-subspace': []},\n",
       "  {'q-vals': [inf, 1.999137973060457, 0.000312421623276466],\n",
       "   'rmse': [],\n",
       "   'v-subspace': []},\n",
       "  {'q-vals': [inf, 1.9992757345460563, 0.0003957761079573966],\n",
       "   'rmse': [],\n",
       "   'v-subspace': []},\n",
       "  {'q-vals': [inf, 1.9993629285476229, 0.0001506380149926294],\n",
       "   'rmse': [],\n",
       "   'v-subspace': []},\n",
       "  {'q-vals': [inf, 1.9994230062297609, 3.5689567275277896e-05],\n",
       "   'rmse': [],\n",
       "   'v-subspace': []},\n",
       "  {'q-vals': [inf, 1.9994704903552283, 3.457934942435757e-05],\n",
       "   'rmse': [],\n",
       "   'v-subspace': []},\n",
       "  {'q-vals': [inf, 1.9995067191135147, 1.8124013039494527e-05],\n",
       "   'rmse': [],\n",
       "   'v-subspace': []},\n",
       "  {'q-vals': [inf, 1.9995357908711602, 1.3402563188991441e-05],\n",
       "   'rmse': [],\n",
       "   'v-subspace': []},\n",
       "  {'q-vals': [inf, 1.9995610431246078, 1.1090100173459218e-05],\n",
       "   'rmse': [],\n",
       "   'v-subspace': []}],\n",
       " 'iter': {'U': [],\n",
       "  'S': [array([25.62073526, 12.02798779,  8.72314369,  4.75438371,  3.96499159,\n",
       "           1.8535417 ,  1.68457604,  1.63980553,  1.38064316,  1.33867341]),\n",
       "   array([25.59066974, 12.19819696,  8.66467979,  4.73740292,  3.96164095,\n",
       "           1.83731982,  1.8243718 ,  1.70896921,  1.57363554,  1.37672313]),\n",
       "   array([25.58817378, 12.19732111,  8.58804338,  4.66146609,  3.93296035,\n",
       "           1.81998388,  1.75391234,  1.65557334,  1.53029812,  1.3800129 ]),\n",
       "   array([25.59188401, 12.16242841,  8.50673159,  4.62422652,  3.91450592,\n",
       "           1.82066632,  1.74887992,  1.65268871,  1.52948274,  1.38134014]),\n",
       "   array([25.55106513, 12.17586723,  8.48974037,  4.62245293,  3.90706844,\n",
       "           1.81183161,  1.73882608,  1.64763359,  1.51473599,  1.38922354]),\n",
       "   array([25.57479309, 12.14662697,  8.50219976,  4.61679567,  3.90123779,\n",
       "           1.80653962,  1.72880595,  1.63979796,  1.5122114 ,  1.37458832]),\n",
       "   array([25.54846659, 12.12535616,  8.49526042,  4.62736088,  3.9130511 ,\n",
       "           1.8024464 ,  1.73136309,  1.64356879,  1.50167617,  1.36492112]),\n",
       "   array([25.51014522, 12.09943788,  8.51478899,  4.62228226,  3.93458912,\n",
       "           1.80706317,  1.72378787,  1.64353008,  1.48692711,  1.35863414]),\n",
       "   array([25.50350759, 12.0947313 ,  8.49719906,  4.62946057,  3.93227747,\n",
       "           1.80796105,  1.73288821,  1.64533231,  1.49616183,  1.35912154]),\n",
       "   array([25.50228588, 12.05621986,  8.47779354,  4.61641634,  3.92891596,\n",
       "           1.80945576,  1.72882631,  1.64077399,  1.50992977,  1.35922629])],\n",
       "  'V': []}}"
      ]
     },
     "execution_count": 5,
     "metadata": {},
     "output_type": "execute_result"
    }
   ],
   "source": [
    "SSPM2.history"
   ]
  },
  {
   "cell_type": "code",
   "execution_count": 6,
   "metadata": {},
   "outputs": [
    {
     "data": {
      "text/plain": [
       "168047"
      ]
     },
     "execution_count": 6,
     "metadata": {},
     "output_type": "execute_result"
    }
   ],
   "source": [
    "SSPM2.factor"
   ]
  },
  {
   "cell_type": "code",
   "execution_count": 7,
   "metadata": {},
   "outputs": [
    {
     "name": "stderr",
     "output_type": "stream",
     "text": [
      "Mapping files: 100%|██████████| 3/3 [00:00<00:00,  7.15it/s]\n",
      "/Users/tnonet/Documents/GitHub/lmdec/lmdec/decomp/iter_methods.py:248: UserWarning: Did not converge. \n",
      "Time Usage : 32.99s of 1000s (Time Limit) \n",
      "Iteration Usage : 2 of 2 (Iteration Limit)\n",
      "  .format(self.time, self.time_limit, self.num_iter, self.max_iter))\n"
     ]
    }
   ],
   "source": [
    "U, S, V = PM.svd(path_to_files=data_dir)"
   ]
  },
  {
   "cell_type": "code",
   "execution_count": 8,
   "metadata": {},
   "outputs": [
    {
     "data": {
      "text/plain": [
       "168047"
      ]
     },
     "execution_count": 8,
     "metadata": {},
     "output_type": "execute_result"
    }
   ],
   "source": [
    "PM.factor"
   ]
  },
  {
   "cell_type": "code",
   "execution_count": 9,
   "metadata": {},
   "outputs": [
    {
     "data": {
      "text/plain": [
       "array([25.50228588, 12.05621981,  8.47779268,  4.6163581 ,  3.92868736,\n",
       "        1.75156243,  1.54781871,  1.4313895 ,  1.11034457,  1.05465711])"
      ]
     },
     "execution_count": 9,
     "metadata": {},
     "output_type": "execute_result"
    }
   ],
   "source": [
    "S.compute()"
   ]
  },
  {
   "cell_type": "code",
   "execution_count": null,
   "metadata": {},
   "outputs": [],
   "source": [
    "a = da.random.random(size=(168047, 2504))\n",
    "sa = ScaledArray()\n",
    "sa.fit(a)"
   ]
  },
  {
   "cell_type": "code",
   "execution_count": null,
   "metadata": {},
   "outputs": [],
   "source": [
    "x = da.random.random(size=(2504, 100000))\n",
    "y = da.random.random(size=(168047, 2))"
   ]
  },
  {
   "cell_type": "code",
   "execution_count": null,
   "metadata": {},
   "outputs": [],
   "source": [
    "U, S, V = da.linalg.tsqr(a, compute_svd=True)"
   ]
  },
  {
   "cell_type": "code",
   "execution_count": null,
   "metadata": {},
   "outputs": [],
   "source": [
    "def test__getitem_T_subset_chunks():\n",
    "    a = da.random.random(size=(100, 200))\n",
    "    sa = ScaledArray()\n",
    "    sa.fit(a)\n",
    "    \n",
    "    np.testing.assert_array_equal(sa.T[0:10, :].chunks, a.T[0:10, :].chunks)\n",
    "    np.testing.assert_array_equal(sa.T[:, 0:8].chunks, a.T[:, 0:8].chunks)\n",
    "    np.testing.assert_array_equal(sa.T[0:10, 0:8].chunks, a.T[0:10, 0:8].chunks)\n",
    "    \n",
    "    np.testing.assert_array_equal(sa[0:10, :].chunks, a[0:10, :].chunks)\n",
    "    np.testing.assert_array_equal(sa.T[:, 0:8].chunks, a.T[:, 0:8].chunks)\n",
    "    np.testing.assert_array_equal(sa.T[0:10, 0:8].chunks, a.T[0:10, 0:8].chunks)\n",
    "    \n",
    "    np.testing.assert_array_equal(sa[0:50, 0:40].T[0:20, 0:30].chunks, a[0:50, 0:40].T[0:20, 0:30].chunks)"
   ]
  },
  {
   "cell_type": "code",
   "execution_count": null,
   "metadata": {},
   "outputs": [],
   "source": [
    "a = da.random.random(size=(100, 200))\n",
    "sa = ScaledArray()\n",
    "sa.fit(a)"
   ]
  },
  {
   "cell_type": "code",
   "execution_count": null,
   "metadata": {},
   "outputs": [],
   "source": [
    "sa[0:50, :].T.scale_vector.shape"
   ]
  },
  {
   "cell_type": "code",
   "execution_count": null,
   "metadata": {},
   "outputs": [],
   "source": [
    "sa[0:50, :].T.shape"
   ]
  },
  {
   "cell_type": "code",
   "execution_count": null,
   "metadata": {},
   "outputs": [],
   "source": []
  }
 ],
 "metadata": {
  "kernelspec": {
   "display_name": "Python 3",
   "language": "python",
   "name": "python3"
  },
  "language_info": {
   "codemirror_mode": {
    "name": "ipython",
    "version": 3
   },
   "file_extension": ".py",
   "mimetype": "text/x-python",
   "name": "python",
   "nbconvert_exporter": "python",
   "pygments_lexer": "ipython3",
   "version": "3.7.3"
  }
 },
 "nbformat": 4,
 "nbformat_minor": 4
}
