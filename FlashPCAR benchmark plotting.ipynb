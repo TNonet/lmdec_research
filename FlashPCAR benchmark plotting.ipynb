{
 "cells": [
  {
   "cell_type": "code",
   "execution_count": 99,
   "metadata": {},
   "outputs": [],
   "source": [
    "import os\n",
    "import numpy as np\n",
    "import matplotlib.pyplot as plt\n",
    "\n",
    "import dask\n",
    "import dask.array as da\n",
    "import h5py\n",
    "import pandas as pd"
   ]
  },
  {
   "cell_type": "code",
   "execution_count": 38,
   "metadata": {},
   "outputs": [],
   "source": [
    "f = h5py.File('/Users/tnonet/Documents/FlashPCATests/run_directory/matricies/5000_20000.h5py', 'r')\n",
    "\n",
    "array = dask.array.from_array(f['/array'])"
   ]
  },
  {
   "cell_type": "code",
   "execution_count": 39,
   "metadata": {},
   "outputs": [
    {
     "data": {
      "text/plain": [
       "array([[0, 1, 0, 0, 0, 0, 0, 0, 1, 1],\n",
       "       [0, 0, 1, 0, 0, 1, 0, 1, 0, 0],\n",
       "       [0, 0, 0, 1, 0, 0, 0, 0, 0, 0],\n",
       "       [1, 0, 0, 1, 0, 0, 0, 0, 1, 0],\n",
       "       [1, 1, 1, 1, 1, 1, 0, 0, 1, 2],\n",
       "       [1, 1, 1, 1, 0, 0, 0, 0, 0, 0],\n",
       "       [0, 1, 1, 1, 1, 0, 0, 0, 1, 0],\n",
       "       [0, 1, 0, 0, 0, 1, 1, 2, 1, 0],\n",
       "       [2, 1, 0, 1, 0, 1, 1, 1, 0, 2],\n",
       "       [1, 0, 0, 0, 0, 0, 0, 0, 1, 0]], dtype=int8)"
      ]
     },
     "execution_count": 39,
     "metadata": {},
     "output_type": "execute_result"
    }
   ],
   "source": [
    "array[0:10,0:10].compute()"
   ]
  },
  {
   "cell_type": "code",
   "execution_count": 105,
   "metadata": {},
   "outputs": [],
   "source": [
    "run_dir = '../../../Documents/FlashPCATests/results/runs_Feb19/'"
   ]
  },
  {
   "cell_type": "code",
   "execution_count": 113,
   "metadata": {},
   "outputs": [],
   "source": [
    "def get_data(run_dir):\n",
    "    text_file = os.path.join(run_dir, 'info.txt')\n",
    "    file1 = open(text_file,\"r\") \n",
    "    lines = file1.readlines() \n",
    "    file1.close()\n",
    "    \n",
    "    return [line.rstrip() for line in lines]\n",
    "\n",
    "def parse_grid(lines):    \n",
    "    keys = ['matrix_list', 'k_list', 'maxiter_list', 'tol_list']\n",
    "    \n",
    "    \n",
    "    grid = dict(zip(keys, [[],[],[],[]]))\n",
    "    \n",
    "    key_counter = 0\n",
    "    for line in lines:\n",
    "        try:\n",
    "            k = keys[key_counter]\n",
    "        except:\n",
    "            break\n",
    "        if line.startswith(k):\n",
    "            k_line = True\n",
    "        elif k_line and not line:\n",
    "            k_line = False\n",
    "            key_counter += 1\n",
    "        elif k_line:\n",
    "            grid[k].append(line)\n",
    "            \n",
    "    grid['k_list'] = [int(i) for i in grid['k_list']]\n",
    "    grid['maxiter_list'] = [int(i) for i in grid['maxiter_list']]\n",
    "    grid['tol_list'] = [float(i) for i in grid['tol_list']]\n",
    "    \n",
    "    return grid\n",
    "\n",
    "def get_run_data(lines, grid):    \n",
    "    run_finder = {}\n",
    "    start_run = False\n",
    "    for i, line in enumerate(lines):\n",
    "        if not line:\n",
    "            start_run = True\n",
    "        elif start_run:\n",
    "            try:\n",
    "                run_number = int(line)\n",
    "                run_finder[run_number] = (i, i+11)\n",
    "            except:\n",
    "                start_run = False\n",
    "                \n",
    "    run_data = []\n",
    "    for run_number, v in run_finder.items():\n",
    "        start, end = v\n",
    "        matrix = lines[start+2]\n",
    "        tol = float(lines[start+4])\n",
    "        k = int(lines[start+6])\n",
    "        maxiter = int(lines[start+8])\n",
    "        time = float(lines[start+10])\n",
    "        \n",
    "        \n",
    "        run_data.append([matrix, tol, k, maxiter,time,run_number])\n",
    "      \n",
    "    run_data = pd.DataFrame(run_data)\n",
    "    run_data.columns = ['Matrix', 'tol', 'k', 'maxiter', 'time', 'run']\n",
    "    run_data.set_index('run', inplace=True)\n",
    "    \n",
    "    return run_data"
   ]
  },
  {
   "cell_type": "markdown",
   "metadata": {},
   "source": [
    "# Inspect Data"
   ]
  },
  {
   "cell_type": "code",
   "execution_count": 138,
   "metadata": {},
   "outputs": [
    {
     "data": {
      "text/html": [
       "<div>\n",
       "<style scoped>\n",
       "    .dataframe tbody tr th:only-of-type {\n",
       "        vertical-align: middle;\n",
       "    }\n",
       "\n",
       "    .dataframe tbody tr th {\n",
       "        vertical-align: top;\n",
       "    }\n",
       "\n",
       "    .dataframe thead th {\n",
       "        text-align: right;\n",
       "    }\n",
       "</style>\n",
       "<table border=\"1\" class=\"dataframe\">\n",
       "  <thead>\n",
       "    <tr style=\"text-align: right;\">\n",
       "      <th></th>\n",
       "      <th>Matrix</th>\n",
       "      <th>tol</th>\n",
       "      <th>k</th>\n",
       "      <th>maxiter</th>\n",
       "      <th>time</th>\n",
       "    </tr>\n",
       "    <tr>\n",
       "      <th>run</th>\n",
       "      <th></th>\n",
       "      <th></th>\n",
       "      <th></th>\n",
       "      <th></th>\n",
       "      <th></th>\n",
       "    </tr>\n",
       "  </thead>\n",
       "  <tbody>\n",
       "    <tr>\n",
       "      <th>1</th>\n",
       "      <td>5K_20K</td>\n",
       "      <td>0.010000</td>\n",
       "      <td>10</td>\n",
       "      <td>100</td>\n",
       "      <td>16.258906</td>\n",
       "    </tr>\n",
       "    <tr>\n",
       "      <th>2</th>\n",
       "      <td>5K_20K</td>\n",
       "      <td>0.003594</td>\n",
       "      <td>10</td>\n",
       "      <td>100</td>\n",
       "      <td>26.405412</td>\n",
       "    </tr>\n",
       "    <tr>\n",
       "      <th>3</th>\n",
       "      <td>5K_20K</td>\n",
       "      <td>0.001292</td>\n",
       "      <td>10</td>\n",
       "      <td>100</td>\n",
       "      <td>34.323761</td>\n",
       "    </tr>\n",
       "    <tr>\n",
       "      <th>4</th>\n",
       "      <td>5K_20K</td>\n",
       "      <td>0.000464</td>\n",
       "      <td>10</td>\n",
       "      <td>100</td>\n",
       "      <td>36.478796</td>\n",
       "    </tr>\n",
       "    <tr>\n",
       "      <th>5</th>\n",
       "      <td>5K_20K</td>\n",
       "      <td>0.000167</td>\n",
       "      <td>10</td>\n",
       "      <td>100</td>\n",
       "      <td>37.964726</td>\n",
       "    </tr>\n",
       "  </tbody>\n",
       "</table>\n",
       "</div>"
      ],
      "text/plain": [
       "     Matrix       tol   k  maxiter       time\n",
       "run                                          \n",
       "1    5K_20K  0.010000  10      100  16.258906\n",
       "2    5K_20K  0.003594  10      100  26.405412\n",
       "3    5K_20K  0.001292  10      100  34.323761\n",
       "4    5K_20K  0.000464  10      100  36.478796\n",
       "5    5K_20K  0.000167  10      100  37.964726"
      ]
     },
     "execution_count": 138,
     "metadata": {},
     "output_type": "execute_result"
    }
   ],
   "source": [
    "lines = get_data(run_dir)\n",
    "grid = parse_grid(lines)\n",
    "get_run_data(lines, grid).head()"
   ]
  },
  {
   "cell_type": "markdown",
   "metadata": {},
   "source": [
    "# Checking Real Accuracy vs FlashPCA Accuracy"
   ]
  },
  {
   "cell_type": "code",
   "execution_count": 141,
   "metadata": {},
   "outputs": [],
   "source": [
    "def rmse_k(array, u, s):\n",
    "    n, m = array.shape\n",
    "    _, k = u.shape\n",
    "\n",
    "    flog = {}\n",
    "\n",
    "    acc = da.linalg.norm((1/n) * (array.dot(array.T.dot(u)) - u.dot(s)), ord='fro')\n",
    "    acc = da.sqrt(acc**2/(m*k)).compute()\n",
    "    \n",
    "    return acc\n",
    "\n",
    "def find_accuracy(run_dir, matrix_dir='../run_directory/matricies'):\n",
    "    lines = get_data(run_dir)\n",
    "    grid = parse_grid(lines)\n",
    "    run_data = get_run_data(lines, grid)\n",
    "    \n",
    "    for run_number in run_data.index:\n",
    "        vec_values_dir = os.path.join(run_dir, str(run_number))\n",
    "        try:\n",
    "            values = np.load(os.path.join(vec_values_dir, 'values'))\n",
    "            values = da.diag(values)\n",
    "            \n",
    "            vectors = np.load(os.path.join(vec_values_dir, 'vectors'))\n",
    "        except FileNotFoundError:\n",
    "            break\n",
    "            \n",
    "            \n",
    "        array_file_path = os.path.abspath(\n",
    "            os.path.join(run_dir, '../../run_directory/matricies', str(run_data.iloc[run_number]['Matrix'])) + '.h5py')\n",
    "        f = h5py.File(array_file_path, 'r')\n",
    "        \n",
    "        array = dask.array.from_array(f['/array']).T\n",
    "        \n",
    "        print(array[0:10,0:10].compute())\n",
    "        \n",
    "        print((array.dot(array.T.dot(vectors)) - vectors.dot(values))[0:3, 0:10].compute())\n",
    "        \n",
    "        \n",
    "        #print(rmse_k(array, vectors, values))"
   ]
  },
  {
   "cell_type": "code",
   "execution_count": 142,
   "metadata": {},
   "outputs": [
    {
     "name": "stdout",
     "output_type": "stream",
     "text": [
      "[[0 0 0 1 1 1 0 0 2 1]\n",
      " [1 0 0 0 1 1 1 1 1 0]\n",
      " [0 1 0 0 1 1 1 0 0 0]\n",
      " [0 0 1 1 1 1 1 0 1 0]\n",
      " [0 0 0 0 1 0 1 0 0 0]\n",
      " [0 1 0 0 1 0 0 1 1 0]\n",
      " [0 0 0 0 0 0 0 1 1 0]\n",
      " [0 1 0 0 0 0 0 2 1 0]\n",
      " [1 0 0 1 1 0 1 1 0 1]\n",
      " [1 0 0 0 2 0 0 0 2 0]]\n",
      "[[ 4.73622506e+03  3.90737786e+03  1.84356087e+04  9.96469508e+02\n",
      "   3.52974254e+01 -1.71047587e+02  3.66985792e+01  1.03735132e+01\n",
      "   3.71212391e+01  1.56747643e+00]\n",
      " [ 4.77565972e+03  2.79083483e+03  1.68016515e+04 -5.18446563e+01\n",
      "   1.26043510e+02 -1.09233958e+02  1.75880212e+02 -4.59785027e+01\n",
      "   1.94634453e+01  1.81062296e+02]\n",
      " [ 6.28639626e+03  3.95305050e+03  1.90443764e+04 -4.72651184e+02\n",
      "   3.60566879e+01 -1.66145986e+02  1.22108912e+02 -6.49339901e+01\n",
      "  -8.56678381e+00  1.36012573e+02]]\n",
      "[[0 0 0 1 1 1 0 0 2 1]\n",
      " [1 0 0 0 1 1 1 1 1 0]\n",
      " [0 1 0 0 1 1 1 0 0 0]\n",
      " [0 0 1 1 1 1 1 0 1 0]\n",
      " [0 0 0 0 1 0 1 0 0 0]\n",
      " [0 1 0 0 1 0 0 1 1 0]\n",
      " [0 0 0 0 0 0 0 1 1 0]\n",
      " [0 1 0 0 0 0 0 2 1 0]\n",
      " [1 0 0 1 1 0 1 1 0 1]\n",
      " [1 0 0 0 2 0 0 0 2 0]]\n",
      "[[ 4.73622506e+03  3.90737786e+03  1.84356087e+04  9.96469508e+02\n",
      "   3.53710042e+01  1.48582265e+02  1.45807504e+02  6.01508910e+00\n",
      "   9.97086060e+00 -1.76668939e+01]\n",
      " [ 4.77565972e+03  2.79083483e+03  1.68016515e+04 -5.18446563e+01\n",
      "   1.26039069e+02  9.83602986e+01  6.39513824e+01 -1.39645345e+02\n",
      "   1.19340963e+02  4.78951274e+00]\n",
      " [ 6.28639626e+03  3.95305050e+03  1.90443764e+04 -4.72651184e+02\n",
      "   3.63339687e+01  1.52999103e+02  1.63515955e+01 -1.66430361e+02\n",
      "   1.07726819e+01 -1.19988078e+01]]\n",
      "[[0 0 0 1 1 1 0 0 2 1]\n",
      " [1 0 0 0 1 1 1 1 1 0]\n",
      " [0 1 0 0 1 1 1 0 0 0]\n",
      " [0 0 1 1 1 1 1 0 1 0]\n",
      " [0 0 0 0 1 0 1 0 0 0]\n",
      " [0 1 0 0 1 0 0 1 1 0]\n",
      " [0 0 0 0 0 0 0 1 1 0]\n",
      " [0 1 0 0 0 0 0 2 1 0]\n",
      " [1 0 0 1 1 0 1 1 0 1]\n",
      " [1 0 0 0 2 0 0 0 2 0]]\n",
      "[[ 4736.22506299  3907.37785696 18435.60873749   996.46950848\n",
      "     35.36657592   149.04807058  -132.35520791   -46.42716062\n",
      "   -191.20127582  -136.41813167]\n",
      " [ 4775.65972435  2790.83483202 16801.65146797   -51.84465625\n",
      "    126.03383507    98.99377004   -47.02165131  -189.9297251\n",
      "   -166.02070795  -282.76315866]\n",
      " [ 6286.39626317  3953.0505011  19044.37644513  -472.65118447\n",
      "     36.33948083   152.38785644   -28.06058658  -114.37855261\n",
      "    206.81180059    88.43552897]]\n",
      "[[0 0 0 1 1 1 0 0 2 1]\n",
      " [1 0 0 0 1 1 1 1 1 0]\n",
      " [0 1 0 0 1 1 1 0 0 0]\n",
      " [0 0 1 1 1 1 1 0 1 0]\n",
      " [0 0 0 0 1 0 1 0 0 0]\n",
      " [0 1 0 0 1 0 0 1 1 0]\n",
      " [0 0 0 0 0 0 0 1 1 0]\n",
      " [0 1 0 0 0 0 0 2 1 0]\n",
      " [1 0 0 1 1 0 1 1 0 1]\n",
      " [1 0 0 0 2 0 0 0 2 0]]\n",
      "[[ 4736.22506299  3907.37785696 18435.60873749   996.46950848\n",
      "     35.36657475  -149.04844061   132.33655063   -46.62036193\n",
      "   -192.14701448  -136.84497588]\n",
      " [ 4775.65972435  2790.83483202 16801.65146797   -51.84465625\n",
      "    126.03383526   -98.99377531    47.01778476  -190.02073228\n",
      "   -166.52685197  -282.5128206 ]\n",
      " [ 6286.39626317  3953.0505011  19044.37644513  -472.65118447\n",
      "     36.33947889  -152.38840198    28.03762036  -114.50053063\n",
      "    205.7563312     86.56556623]]\n",
      "[[0 0 0 1 1 1 0 0 2 1]\n",
      " [1 0 0 0 1 1 1 1 1 0]\n",
      " [0 1 0 0 1 1 1 0 0 0]\n",
      " [0 0 1 1 1 1 1 0 1 0]\n",
      " [0 0 0 0 1 0 1 0 0 0]\n",
      " [0 1 0 0 1 0 0 1 1 0]\n",
      " [0 0 0 0 0 0 0 1 1 0]\n",
      " [0 1 0 0 0 0 0 2 1 0]\n",
      " [1 0 0 1 1 0 1 1 0 1]\n",
      " [1 0 0 0 2 0 0 0 2 0]]\n",
      "[[ 4736.22506299  3907.37785696 18435.60873749  -996.46950848\n",
      "    -35.36657307   149.04901493  -132.30665734   -46.92301686\n",
      "   -193.87512661  -138.2079306 ]\n",
      " [ 4775.65972435  2790.83483202 16801.65146797    51.84465626\n",
      "   -126.03383699    98.99327682   -47.03801801  -189.92181792\n",
      "   -165.86250431  -280.79758726]\n",
      " [ 6286.39626317  3953.0505011  19044.37644513   472.65118447\n",
      "    -36.33947626   152.38924875   -27.99743481  -114.78766377\n",
      "    203.53425338    83.08849466]]\n",
      "[[0 0 0 1 1 1 0 0 2 1]\n",
      " [1 0 0 0 1 1 1 1 1 0]\n",
      " [0 1 0 0 1 1 1 0 0 0]\n",
      " [0 0 1 1 1 1 1 0 1 0]\n",
      " [0 0 0 0 1 0 1 0 0 0]\n",
      " [0 1 0 0 1 0 0 1 1 0]\n",
      " [0 0 0 0 0 0 0 1 1 0]\n",
      " [0 1 0 0 0 0 0 2 1 0]\n",
      " [1 0 0 1 1 0 1 1 0 1]\n",
      " [1 0 0 0 2 0 0 0 2 0]]\n",
      "[[ 4736.22506299  3907.37785696 18435.60873749  -996.46950848\n",
      "    -35.36657306   149.0490221   -132.30617142   -46.92958121\n",
      "   -193.91976606  -138.25143994]\n",
      " [ 4775.65972435  2790.83483202 16801.65146797    51.84465625\n",
      "   -126.03383713    98.9932205    -47.04110013  -189.89361587\n",
      "   -165.66204678  -280.50429341]\n",
      " [ 6286.39626317  3953.0505011  19044.37644513   472.65118447\n",
      "    -36.33947617   152.3892886    -27.99512749  -114.81015475\n",
      "    203.35889642    82.82173627]]\n",
      "[[0 0 0 1 1 1 0 0 2 1]\n",
      " [1 0 0 0 1 1 1 1 1 0]\n",
      " [0 1 0 0 1 1 1 0 0 0]\n",
      " [0 0 1 1 1 1 1 0 1 0]\n",
      " [0 0 0 0 1 0 1 0 0 0]\n",
      " [0 1 0 0 1 0 0 1 1 0]\n",
      " [0 0 0 0 0 0 0 1 1 0]\n",
      " [0 1 0 0 0 0 0 2 1 0]\n",
      " [1 0 0 1 1 0 1 1 0 1]\n",
      " [1 0 0 0 2 0 0 0 2 0]]\n",
      "[[ 4736.22506299  3907.37785696 18435.60873749  -996.46950848\n",
      "    -35.36657305   149.04902489  -132.30597532    46.93245852\n",
      "   -193.94117688  -138.27511479]\n",
      " [ 4775.65972435  2790.83483202 16801.65146797    51.84465625\n",
      "   -126.03383715    98.99321268   -47.04162065   189.88791258\n",
      "   -165.61556808  -280.41775403]\n",
      " [ 6286.39626317  3953.0505011  19044.37644513   472.65118447\n",
      "    -36.33947611   152.38931553   -27.9933379    114.83101598\n",
      "    203.18421972    82.53826467]]\n",
      "[[0 0 0 1 1 1 0 0 2 1]\n",
      " [1 0 0 0 1 1 1 1 1 0]\n",
      " [0 1 0 0 1 1 1 0 0 0]\n",
      " [0 0 1 1 1 1 1 0 1 0]\n",
      " [0 0 0 0 1 0 1 0 0 0]\n",
      " [0 1 0 0 1 0 0 1 1 0]\n",
      " [0 0 0 0 0 0 0 1 1 0]\n",
      " [0 1 0 0 0 0 0 2 1 0]\n",
      " [1 0 0 1 1 0 1 1 0 1]\n",
      " [1 0 0 0 2 0 0 0 2 0]]\n",
      "[[ 4736.22506299  3907.37785696 18435.60873749  -996.46950848\n",
      "    -35.36657305   149.04902339  -132.30609381    46.93081684\n",
      "   -193.92630485  -138.24891751]\n",
      " [ 4775.65972435  2790.83483202 16801.65146797    51.84465626\n",
      "   -126.03383714    98.99321323   -47.04158831   189.88822766\n",
      "   -165.61749411  -280.41781148]\n",
      " [ 6286.39626317  3953.0505011  19044.37644513   472.65118447\n",
      "    -36.33947611   152.38931727   -27.99317841   114.83370239\n",
      "    203.15644368    82.48170218]]\n",
      "[[0 0 0 1 1 1 0 0 2 1]\n",
      " [1 0 0 0 1 1 1 1 1 0]\n",
      " [0 1 0 0 1 1 1 0 0 0]\n",
      " [0 0 1 1 1 1 1 0 1 0]\n",
      " [0 0 0 0 1 0 1 0 0 0]\n",
      " [0 1 0 0 1 0 0 1 1 0]\n",
      " [0 0 0 0 0 0 0 1 1 0]\n",
      " [0 1 0 0 0 0 0 2 1 0]\n",
      " [1 0 0 1 1 0 1 1 0 1]\n",
      " [1 0 0 0 2 0 0 0 2 0]]\n"
     ]
    },
    {
     "ename": "KeyboardInterrupt",
     "evalue": "",
     "output_type": "error",
     "traceback": [
      "\u001b[0;31m---------------------------------------------------------------------------\u001b[0m",
      "\u001b[0;31mKeyboardInterrupt\u001b[0m                         Traceback (most recent call last)",
      "\u001b[0;32m<ipython-input-142-260e3624b25a>\u001b[0m in \u001b[0;36m<module>\u001b[0;34m\u001b[0m\n\u001b[0;32m----> 1\u001b[0;31m \u001b[0mfind_accuracy\u001b[0m\u001b[0;34m(\u001b[0m\u001b[0mrun_dir\u001b[0m\u001b[0;34m)\u001b[0m\u001b[0;34m\u001b[0m\u001b[0;34m\u001b[0m\u001b[0m\n\u001b[0m",
      "\u001b[0;32m<ipython-input-141-acae1727eec8>\u001b[0m in \u001b[0;36mfind_accuracy\u001b[0;34m(run_dir, matrix_dir)\u001b[0m\n\u001b[1;32m     34\u001b[0m         \u001b[0mprint\u001b[0m\u001b[0;34m(\u001b[0m\u001b[0marray\u001b[0m\u001b[0;34m[\u001b[0m\u001b[0;36m0\u001b[0m\u001b[0;34m:\u001b[0m\u001b[0;36m10\u001b[0m\u001b[0;34m,\u001b[0m\u001b[0;36m0\u001b[0m\u001b[0;34m:\u001b[0m\u001b[0;36m10\u001b[0m\u001b[0;34m]\u001b[0m\u001b[0;34m.\u001b[0m\u001b[0mcompute\u001b[0m\u001b[0;34m(\u001b[0m\u001b[0;34m)\u001b[0m\u001b[0;34m)\u001b[0m\u001b[0;34m\u001b[0m\u001b[0;34m\u001b[0m\u001b[0m\n\u001b[1;32m     35\u001b[0m \u001b[0;34m\u001b[0m\u001b[0m\n\u001b[0;32m---> 36\u001b[0;31m         \u001b[0mprint\u001b[0m\u001b[0;34m(\u001b[0m\u001b[0;34m(\u001b[0m\u001b[0marray\u001b[0m\u001b[0;34m.\u001b[0m\u001b[0mdot\u001b[0m\u001b[0;34m(\u001b[0m\u001b[0marray\u001b[0m\u001b[0;34m.\u001b[0m\u001b[0mT\u001b[0m\u001b[0;34m.\u001b[0m\u001b[0mdot\u001b[0m\u001b[0;34m(\u001b[0m\u001b[0mvectors\u001b[0m\u001b[0;34m)\u001b[0m\u001b[0;34m)\u001b[0m \u001b[0;34m-\u001b[0m \u001b[0mvectors\u001b[0m\u001b[0;34m.\u001b[0m\u001b[0mdot\u001b[0m\u001b[0;34m(\u001b[0m\u001b[0mvalues\u001b[0m\u001b[0;34m)\u001b[0m\u001b[0;34m)\u001b[0m\u001b[0;34m[\u001b[0m\u001b[0;36m0\u001b[0m\u001b[0;34m:\u001b[0m\u001b[0;36m3\u001b[0m\u001b[0;34m,\u001b[0m \u001b[0;36m0\u001b[0m\u001b[0;34m:\u001b[0m\u001b[0;36m10\u001b[0m\u001b[0;34m]\u001b[0m\u001b[0;34m.\u001b[0m\u001b[0mcompute\u001b[0m\u001b[0;34m(\u001b[0m\u001b[0;34m)\u001b[0m\u001b[0;34m)\u001b[0m\u001b[0;34m\u001b[0m\u001b[0;34m\u001b[0m\u001b[0m\n\u001b[0m\u001b[1;32m     37\u001b[0m \u001b[0;34m\u001b[0m\u001b[0m\n\u001b[1;32m     38\u001b[0m \u001b[0;34m\u001b[0m\u001b[0m\n",
      "\u001b[0;32m//anaconda3/lib/python3.7/site-packages/dask/base.py\u001b[0m in \u001b[0;36mcompute\u001b[0;34m(self, **kwargs)\u001b[0m\n\u001b[1;32m    163\u001b[0m         \u001b[0mdask\u001b[0m\u001b[0;34m.\u001b[0m\u001b[0mbase\u001b[0m\u001b[0;34m.\u001b[0m\u001b[0mcompute\u001b[0m\u001b[0;34m\u001b[0m\u001b[0;34m\u001b[0m\u001b[0m\n\u001b[1;32m    164\u001b[0m         \"\"\"\n\u001b[0;32m--> 165\u001b[0;31m         \u001b[0;34m(\u001b[0m\u001b[0mresult\u001b[0m\u001b[0;34m,\u001b[0m\u001b[0;34m)\u001b[0m \u001b[0;34m=\u001b[0m \u001b[0mcompute\u001b[0m\u001b[0;34m(\u001b[0m\u001b[0mself\u001b[0m\u001b[0;34m,\u001b[0m \u001b[0mtraverse\u001b[0m\u001b[0;34m=\u001b[0m\u001b[0;32mFalse\u001b[0m\u001b[0;34m,\u001b[0m \u001b[0;34m**\u001b[0m\u001b[0mkwargs\u001b[0m\u001b[0;34m)\u001b[0m\u001b[0;34m\u001b[0m\u001b[0;34m\u001b[0m\u001b[0m\n\u001b[0m\u001b[1;32m    166\u001b[0m         \u001b[0;32mreturn\u001b[0m \u001b[0mresult\u001b[0m\u001b[0;34m\u001b[0m\u001b[0;34m\u001b[0m\u001b[0m\n\u001b[1;32m    167\u001b[0m \u001b[0;34m\u001b[0m\u001b[0m\n",
      "\u001b[0;32m//anaconda3/lib/python3.7/site-packages/dask/base.py\u001b[0m in \u001b[0;36mcompute\u001b[0;34m(*args, **kwargs)\u001b[0m\n\u001b[1;32m    434\u001b[0m     \u001b[0mkeys\u001b[0m \u001b[0;34m=\u001b[0m \u001b[0;34m[\u001b[0m\u001b[0mx\u001b[0m\u001b[0;34m.\u001b[0m\u001b[0m__dask_keys__\u001b[0m\u001b[0;34m(\u001b[0m\u001b[0;34m)\u001b[0m \u001b[0;32mfor\u001b[0m \u001b[0mx\u001b[0m \u001b[0;32min\u001b[0m \u001b[0mcollections\u001b[0m\u001b[0;34m]\u001b[0m\u001b[0;34m\u001b[0m\u001b[0;34m\u001b[0m\u001b[0m\n\u001b[1;32m    435\u001b[0m     \u001b[0mpostcomputes\u001b[0m \u001b[0;34m=\u001b[0m \u001b[0;34m[\u001b[0m\u001b[0mx\u001b[0m\u001b[0;34m.\u001b[0m\u001b[0m__dask_postcompute__\u001b[0m\u001b[0;34m(\u001b[0m\u001b[0;34m)\u001b[0m \u001b[0;32mfor\u001b[0m \u001b[0mx\u001b[0m \u001b[0;32min\u001b[0m \u001b[0mcollections\u001b[0m\u001b[0;34m]\u001b[0m\u001b[0;34m\u001b[0m\u001b[0;34m\u001b[0m\u001b[0m\n\u001b[0;32m--> 436\u001b[0;31m     \u001b[0mresults\u001b[0m \u001b[0;34m=\u001b[0m \u001b[0mschedule\u001b[0m\u001b[0;34m(\u001b[0m\u001b[0mdsk\u001b[0m\u001b[0;34m,\u001b[0m \u001b[0mkeys\u001b[0m\u001b[0;34m,\u001b[0m \u001b[0;34m**\u001b[0m\u001b[0mkwargs\u001b[0m\u001b[0;34m)\u001b[0m\u001b[0;34m\u001b[0m\u001b[0;34m\u001b[0m\u001b[0m\n\u001b[0m\u001b[1;32m    437\u001b[0m     \u001b[0;32mreturn\u001b[0m \u001b[0mrepack\u001b[0m\u001b[0;34m(\u001b[0m\u001b[0;34m[\u001b[0m\u001b[0mf\u001b[0m\u001b[0;34m(\u001b[0m\u001b[0mr\u001b[0m\u001b[0;34m,\u001b[0m \u001b[0;34m*\u001b[0m\u001b[0ma\u001b[0m\u001b[0;34m)\u001b[0m \u001b[0;32mfor\u001b[0m \u001b[0mr\u001b[0m\u001b[0;34m,\u001b[0m \u001b[0;34m(\u001b[0m\u001b[0mf\u001b[0m\u001b[0;34m,\u001b[0m \u001b[0ma\u001b[0m\u001b[0;34m)\u001b[0m \u001b[0;32min\u001b[0m \u001b[0mzip\u001b[0m\u001b[0;34m(\u001b[0m\u001b[0mresults\u001b[0m\u001b[0;34m,\u001b[0m \u001b[0mpostcomputes\u001b[0m\u001b[0;34m)\u001b[0m\u001b[0;34m]\u001b[0m\u001b[0;34m)\u001b[0m\u001b[0;34m\u001b[0m\u001b[0;34m\u001b[0m\u001b[0m\n\u001b[1;32m    438\u001b[0m \u001b[0;34m\u001b[0m\u001b[0m\n",
      "\u001b[0;32m//anaconda3/lib/python3.7/site-packages/dask/threaded.py\u001b[0m in \u001b[0;36mget\u001b[0;34m(dsk, result, cache, num_workers, pool, **kwargs)\u001b[0m\n\u001b[1;32m     79\u001b[0m         \u001b[0mget_id\u001b[0m\u001b[0;34m=\u001b[0m\u001b[0m_thread_get_id\u001b[0m\u001b[0;34m,\u001b[0m\u001b[0;34m\u001b[0m\u001b[0;34m\u001b[0m\u001b[0m\n\u001b[1;32m     80\u001b[0m         \u001b[0mpack_exception\u001b[0m\u001b[0;34m=\u001b[0m\u001b[0mpack_exception\u001b[0m\u001b[0;34m,\u001b[0m\u001b[0;34m\u001b[0m\u001b[0;34m\u001b[0m\u001b[0m\n\u001b[0;32m---> 81\u001b[0;31m         \u001b[0;34m**\u001b[0m\u001b[0mkwargs\u001b[0m\u001b[0;34m\u001b[0m\u001b[0;34m\u001b[0m\u001b[0m\n\u001b[0m\u001b[1;32m     82\u001b[0m     )\n\u001b[1;32m     83\u001b[0m \u001b[0;34m\u001b[0m\u001b[0m\n",
      "\u001b[0;32m//anaconda3/lib/python3.7/site-packages/dask/local.py\u001b[0m in \u001b[0;36mget_async\u001b[0;34m(apply_async, num_workers, dsk, result, cache, get_id, rerun_exceptions_locally, pack_exception, raise_exception, callbacks, dumps, loads, **kwargs)\u001b[0m\n\u001b[1;32m    473\u001b[0m             \u001b[0;31m# Main loop, wait on tasks to finish, insert new ones\u001b[0m\u001b[0;34m\u001b[0m\u001b[0;34m\u001b[0m\u001b[0;34m\u001b[0m\u001b[0m\n\u001b[1;32m    474\u001b[0m             \u001b[0;32mwhile\u001b[0m \u001b[0mstate\u001b[0m\u001b[0;34m[\u001b[0m\u001b[0;34m\"waiting\"\u001b[0m\u001b[0;34m]\u001b[0m \u001b[0;32mor\u001b[0m \u001b[0mstate\u001b[0m\u001b[0;34m[\u001b[0m\u001b[0;34m\"ready\"\u001b[0m\u001b[0;34m]\u001b[0m \u001b[0;32mor\u001b[0m \u001b[0mstate\u001b[0m\u001b[0;34m[\u001b[0m\u001b[0;34m\"running\"\u001b[0m\u001b[0;34m]\u001b[0m\u001b[0;34m:\u001b[0m\u001b[0;34m\u001b[0m\u001b[0;34m\u001b[0m\u001b[0m\n\u001b[0;32m--> 475\u001b[0;31m                 \u001b[0mkey\u001b[0m\u001b[0;34m,\u001b[0m \u001b[0mres_info\u001b[0m\u001b[0;34m,\u001b[0m \u001b[0mfailed\u001b[0m \u001b[0;34m=\u001b[0m \u001b[0mqueue_get\u001b[0m\u001b[0;34m(\u001b[0m\u001b[0mqueue\u001b[0m\u001b[0;34m)\u001b[0m\u001b[0;34m\u001b[0m\u001b[0;34m\u001b[0m\u001b[0m\n\u001b[0m\u001b[1;32m    476\u001b[0m                 \u001b[0;32mif\u001b[0m \u001b[0mfailed\u001b[0m\u001b[0;34m:\u001b[0m\u001b[0;34m\u001b[0m\u001b[0;34m\u001b[0m\u001b[0m\n\u001b[1;32m    477\u001b[0m                     \u001b[0mexc\u001b[0m\u001b[0;34m,\u001b[0m \u001b[0mtb\u001b[0m \u001b[0;34m=\u001b[0m \u001b[0mloads\u001b[0m\u001b[0;34m(\u001b[0m\u001b[0mres_info\u001b[0m\u001b[0;34m)\u001b[0m\u001b[0;34m\u001b[0m\u001b[0;34m\u001b[0m\u001b[0m\n",
      "\u001b[0;32m//anaconda3/lib/python3.7/site-packages/dask/local.py\u001b[0m in \u001b[0;36mqueue_get\u001b[0;34m(q)\u001b[0m\n\u001b[1;32m    131\u001b[0m \u001b[0;34m\u001b[0m\u001b[0m\n\u001b[1;32m    132\u001b[0m     \u001b[0;32mdef\u001b[0m \u001b[0mqueue_get\u001b[0m\u001b[0;34m(\u001b[0m\u001b[0mq\u001b[0m\u001b[0;34m)\u001b[0m\u001b[0;34m:\u001b[0m\u001b[0;34m\u001b[0m\u001b[0;34m\u001b[0m\u001b[0m\n\u001b[0;32m--> 133\u001b[0;31m         \u001b[0;32mreturn\u001b[0m \u001b[0mq\u001b[0m\u001b[0;34m.\u001b[0m\u001b[0mget\u001b[0m\u001b[0;34m(\u001b[0m\u001b[0;34m)\u001b[0m\u001b[0;34m\u001b[0m\u001b[0;34m\u001b[0m\u001b[0m\n\u001b[0m\u001b[1;32m    134\u001b[0m \u001b[0;34m\u001b[0m\u001b[0m\n\u001b[1;32m    135\u001b[0m \u001b[0;34m\u001b[0m\u001b[0m\n",
      "\u001b[0;32m//anaconda3/lib/python3.7/queue.py\u001b[0m in \u001b[0;36mget\u001b[0;34m(self, block, timeout)\u001b[0m\n\u001b[1;32m    168\u001b[0m             \u001b[0;32melif\u001b[0m \u001b[0mtimeout\u001b[0m \u001b[0;32mis\u001b[0m \u001b[0;32mNone\u001b[0m\u001b[0;34m:\u001b[0m\u001b[0;34m\u001b[0m\u001b[0;34m\u001b[0m\u001b[0m\n\u001b[1;32m    169\u001b[0m                 \u001b[0;32mwhile\u001b[0m \u001b[0;32mnot\u001b[0m \u001b[0mself\u001b[0m\u001b[0;34m.\u001b[0m\u001b[0m_qsize\u001b[0m\u001b[0;34m(\u001b[0m\u001b[0;34m)\u001b[0m\u001b[0;34m:\u001b[0m\u001b[0;34m\u001b[0m\u001b[0;34m\u001b[0m\u001b[0m\n\u001b[0;32m--> 170\u001b[0;31m                     \u001b[0mself\u001b[0m\u001b[0;34m.\u001b[0m\u001b[0mnot_empty\u001b[0m\u001b[0;34m.\u001b[0m\u001b[0mwait\u001b[0m\u001b[0;34m(\u001b[0m\u001b[0;34m)\u001b[0m\u001b[0;34m\u001b[0m\u001b[0;34m\u001b[0m\u001b[0m\n\u001b[0m\u001b[1;32m    171\u001b[0m             \u001b[0;32melif\u001b[0m \u001b[0mtimeout\u001b[0m \u001b[0;34m<\u001b[0m \u001b[0;36m0\u001b[0m\u001b[0;34m:\u001b[0m\u001b[0;34m\u001b[0m\u001b[0;34m\u001b[0m\u001b[0m\n\u001b[1;32m    172\u001b[0m                 \u001b[0;32mraise\u001b[0m \u001b[0mValueError\u001b[0m\u001b[0;34m(\u001b[0m\u001b[0;34m\"'timeout' must be a non-negative number\"\u001b[0m\u001b[0;34m)\u001b[0m\u001b[0;34m\u001b[0m\u001b[0;34m\u001b[0m\u001b[0m\n",
      "\u001b[0;32m//anaconda3/lib/python3.7/threading.py\u001b[0m in \u001b[0;36mwait\u001b[0;34m(self, timeout)\u001b[0m\n\u001b[1;32m    294\u001b[0m         \u001b[0;32mtry\u001b[0m\u001b[0;34m:\u001b[0m    \u001b[0;31m# restore state no matter what (e.g., KeyboardInterrupt)\u001b[0m\u001b[0;34m\u001b[0m\u001b[0;34m\u001b[0m\u001b[0m\n\u001b[1;32m    295\u001b[0m             \u001b[0;32mif\u001b[0m \u001b[0mtimeout\u001b[0m \u001b[0;32mis\u001b[0m \u001b[0;32mNone\u001b[0m\u001b[0;34m:\u001b[0m\u001b[0;34m\u001b[0m\u001b[0;34m\u001b[0m\u001b[0m\n\u001b[0;32m--> 296\u001b[0;31m                 \u001b[0mwaiter\u001b[0m\u001b[0;34m.\u001b[0m\u001b[0macquire\u001b[0m\u001b[0;34m(\u001b[0m\u001b[0;34m)\u001b[0m\u001b[0;34m\u001b[0m\u001b[0;34m\u001b[0m\u001b[0m\n\u001b[0m\u001b[1;32m    297\u001b[0m                 \u001b[0mgotit\u001b[0m \u001b[0;34m=\u001b[0m \u001b[0;32mTrue\u001b[0m\u001b[0;34m\u001b[0m\u001b[0;34m\u001b[0m\u001b[0m\n\u001b[1;32m    298\u001b[0m             \u001b[0;32melse\u001b[0m\u001b[0;34m:\u001b[0m\u001b[0;34m\u001b[0m\u001b[0;34m\u001b[0m\u001b[0m\n",
      "\u001b[0;31mKeyboardInterrupt\u001b[0m: "
     ]
    }
   ],
   "source": [
    "find_accuracy(run_dir)"
   ]
  },
  {
   "cell_type": "code",
   "execution_count": 15,
   "metadata": {},
   "outputs": [],
   "source": [
    "values = np.load(os.path.join(run_dir, '1', 'values'))\n",
    "vectors =np.load(os.path.join(run_dir, '1', 'vectors'))\n",
    "scale = np.load(os.path.join(run_dir, '1', 'scale'))\n",
    "center = np.load(os.path.join(run_dir, '1', 'center'))"
   ]
  },
  {
   "cell_type": "code",
   "execution_count": 14,
   "metadata": {},
   "outputs": [
    {
     "data": {
      "text/html": [
       "<table>\n",
       "<tr>\n",
       "<td>\n",
       "<table>\n",
       "  <thead>\n",
       "    <tr><td> </td><th> Array </th><th> Chunk </th></tr>\n",
       "  </thead>\n",
       "  <tbody>\n",
       "    <tr><th> Bytes </th><td> 100.00 MB </td> <td> 100.00 MB </td></tr>\n",
       "    <tr><th> Shape </th><td> (5000, 20000) </td> <td> (5000, 20000) </td></tr>\n",
       "    <tr><th> Count </th><td> 4 Tasks </td><td> 1 Chunks </td></tr>\n",
       "    <tr><th> Type </th><td> int8 </td><td> numpy.ndarray </td></tr>\n",
       "  </tbody>\n",
       "</table>\n",
       "</td>\n",
       "<td>\n",
       "<svg width=\"170\" height=\"92\" style=\"stroke:rgb(0,0,0);stroke-width:1\" >\n",
       "\n",
       "  <!-- Horizontal lines -->\n",
       "  <line x1=\"0\" y1=\"0\" x2=\"120\" y2=\"0\" style=\"stroke-width:2\" />\n",
       "  <line x1=\"0\" y1=\"42\" x2=\"120\" y2=\"42\" style=\"stroke-width:2\" />\n",
       "\n",
       "  <!-- Vertical lines -->\n",
       "  <line x1=\"0\" y1=\"0\" x2=\"0\" y2=\"42\" style=\"stroke-width:2\" />\n",
       "  <line x1=\"120\" y1=\"0\" x2=\"120\" y2=\"42\" style=\"stroke-width:2\" />\n",
       "\n",
       "  <!-- Colored Rectangle -->\n",
       "  <polygon points=\"0.000000,0.000000 120.000000,0.000000 120.000000,42.898796 0.000000,42.898796\" style=\"fill:#ECB172A0;stroke-width:0\"/>\n",
       "\n",
       "  <!-- Text -->\n",
       "  <text x=\"60.000000\" y=\"62.898796\" font-size=\"1.0rem\" font-weight=\"100\" text-anchor=\"middle\" >20000</text>\n",
       "  <text x=\"140.000000\" y=\"21.449398\" font-size=\"1.0rem\" font-weight=\"100\" text-anchor=\"middle\" transform=\"rotate(-90,140.000000,21.449398)\">5000</text>\n",
       "</svg>\n",
       "</td>\n",
       "</tr>\n",
       "</table>"
      ],
      "text/plain": [
       "dask.array<transpose, shape=(5000, 20000), dtype=int8, chunksize=(5000, 20000), chunktype=numpy.ndarray>"
      ]
     },
     "execution_count": 14,
     "metadata": {},
     "output_type": "execute_result"
    }
   ],
   "source": [
    "def rmse_k_scale(array, u, s, scale, center):\n",
    "    n, m = array.shape\n",
    "    _, k = u.shape\n",
    "\n",
    "    flog = {}\n",
    "\n",
    "    acc = da.linalg.norm((1/n) * (array.dot(array.T.dot(u)) - u.dot(s)), ord='fro')\n",
    "    acc = da.sqrt(acc**2/(m*k)).compute()\n",
    "    \n",
    "    return acc"
   ]
  },
  {
   "cell_type": "code",
   "execution_count": 50,
   "metadata": {},
   "outputs": [
    {
     "data": {
      "text/html": [
       "<table>\n",
       "<tr>\n",
       "<td>\n",
       "<table>\n",
       "  <thead>\n",
       "    <tr><td> </td><th> Array </th><th> Chunk </th></tr>\n",
       "  </thead>\n",
       "  <tbody>\n",
       "    <tr><th> Bytes </th><td> 800.00 MB </td> <td> 100.00 MB </td></tr>\n",
       "    <tr><th> Shape </th><td> (5000, 20000) </td> <td> (5000, 2500) </td></tr>\n",
       "    <tr><th> Count </th><td> 40010 Tasks </td><td> 8 Chunks </td></tr>\n",
       "    <tr><th> Type </th><td> float64 </td><td> numpy.ndarray </td></tr>\n",
       "  </tbody>\n",
       "</table>\n",
       "</td>\n",
       "<td>\n",
       "<svg width=\"170\" height=\"92\" style=\"stroke:rgb(0,0,0);stroke-width:1\" >\n",
       "\n",
       "  <!-- Horizontal lines -->\n",
       "  <line x1=\"0\" y1=\"0\" x2=\"120\" y2=\"0\" style=\"stroke-width:2\" />\n",
       "  <line x1=\"0\" y1=\"42\" x2=\"120\" y2=\"42\" style=\"stroke-width:2\" />\n",
       "\n",
       "  <!-- Vertical lines -->\n",
       "  <line x1=\"0\" y1=\"0\" x2=\"0\" y2=\"42\" style=\"stroke-width:2\" />\n",
       "  <line x1=\"15\" y1=\"0\" x2=\"15\" y2=\"42\" />\n",
       "  <line x1=\"30\" y1=\"0\" x2=\"30\" y2=\"42\" />\n",
       "  <line x1=\"45\" y1=\"0\" x2=\"45\" y2=\"42\" />\n",
       "  <line x1=\"60\" y1=\"0\" x2=\"60\" y2=\"42\" />\n",
       "  <line x1=\"75\" y1=\"0\" x2=\"75\" y2=\"42\" />\n",
       "  <line x1=\"90\" y1=\"0\" x2=\"90\" y2=\"42\" />\n",
       "  <line x1=\"105\" y1=\"0\" x2=\"105\" y2=\"42\" />\n",
       "  <line x1=\"120\" y1=\"0\" x2=\"120\" y2=\"42\" style=\"stroke-width:2\" />\n",
       "\n",
       "  <!-- Colored Rectangle -->\n",
       "  <polygon points=\"0.000000,0.000000 120.000000,0.000000 120.000000,42.898796 0.000000,42.898796\" style=\"fill:#ECB172A0;stroke-width:0\"/>\n",
       "\n",
       "  <!-- Text -->\n",
       "  <text x=\"60.000000\" y=\"62.898796\" font-size=\"1.0rem\" font-weight=\"100\" text-anchor=\"middle\" >20000</text>\n",
       "  <text x=\"140.000000\" y=\"21.449398\" font-size=\"1.0rem\" font-weight=\"100\" text-anchor=\"middle\" transform=\"rotate(-90,140.000000,21.449398)\">5000</text>\n",
       "</svg>\n",
       "</td>\n",
       "</tr>\n",
       "</table>"
      ],
      "text/plain": [
       "dask.array<rechunk-merge, shape=(5000, 20000), dtype=float64, chunksize=(5000, 2500), chunktype=numpy.ndarray>"
      ]
     },
     "execution_count": 50,
     "metadata": {},
     "output_type": "execute_result"
    }
   ],
   "source": [
    "da.rechunk(da.tile(center, (20000, 1)).T, 'auto')"
   ]
  },
  {
   "cell_type": "code",
   "execution_count": 56,
   "metadata": {},
   "outputs": [
    {
     "data": {
      "text/html": [
       "<table>\n",
       "<tr>\n",
       "<td>\n",
       "<table>\n",
       "  <thead>\n",
       "    <tr><td> </td><th> Array </th><th> Chunk </th></tr>\n",
       "  </thead>\n",
       "  <tbody>\n",
       "    <tr><th> Bytes </th><td> 1.60 MB </td> <td> 1.60 MB </td></tr>\n",
       "    <tr><th> Shape </th><td> (20000, 10) </td> <td> (20000, 10) </td></tr>\n",
       "    <tr><th> Count </th><td> 29 Tasks </td><td> 1 Chunks </td></tr>\n",
       "    <tr><th> Type </th><td> float64 </td><td> numpy.ndarray </td></tr>\n",
       "  </tbody>\n",
       "</table>\n",
       "</td>\n",
       "<td>\n",
       "<svg width=\"75\" height=\"170\" style=\"stroke:rgb(0,0,0);stroke-width:1\" >\n",
       "\n",
       "  <!-- Horizontal lines -->\n",
       "  <line x1=\"0\" y1=\"0\" x2=\"25\" y2=\"0\" style=\"stroke-width:2\" />\n",
       "  <line x1=\"0\" y1=\"120\" x2=\"25\" y2=\"120\" style=\"stroke-width:2\" />\n",
       "\n",
       "  <!-- Vertical lines -->\n",
       "  <line x1=\"0\" y1=\"0\" x2=\"0\" y2=\"120\" style=\"stroke-width:2\" />\n",
       "  <line x1=\"25\" y1=\"0\" x2=\"25\" y2=\"120\" style=\"stroke-width:2\" />\n",
       "\n",
       "  <!-- Colored Rectangle -->\n",
       "  <polygon points=\"0.000000,0.000000 25.412617,0.000000 25.412617,120.000000 0.000000,120.000000\" style=\"fill:#ECB172A0;stroke-width:0\"/>\n",
       "\n",
       "  <!-- Text -->\n",
       "  <text x=\"12.706308\" y=\"140.000000\" font-size=\"1.0rem\" font-weight=\"100\" text-anchor=\"middle\" >10</text>\n",
       "  <text x=\"45.412617\" y=\"60.000000\" font-size=\"1.0rem\" font-weight=\"100\" text-anchor=\"middle\" transform=\"rotate(-90,45.412617,60.000000)\">20000</text>\n",
       "</svg>\n",
       "</td>\n",
       "</tr>\n",
       "</table>"
      ],
      "text/plain": [
       "dask.array<rechunk-merge, shape=(20000, 10), dtype=float64, chunksize=(20000, 10), chunktype=numpy.ndarray>"
      ]
     },
     "execution_count": 56,
     "metadata": {},
     "output_type": "execute_result"
    }
   ],
   "source": [
    "da.rechunk(da.tile(array.T.dot(center), (10, 1)).T, 'auto')"
   ]
  },
  {
   "cell_type": "code",
   "execution_count": 71,
   "metadata": {},
   "outputs": [
    {
     "data": {
      "text/plain": [
       "(20000, 10)"
      ]
     },
     "execution_count": 71,
     "metadata": {},
     "output_type": "execute_result"
    }
   ],
   "source": [
    "da.tile(center.dot(da.ones(array.shape)), (10,1)).T.shape"
   ]
  },
  {
   "cell_type": "code",
   "execution_count": 73,
   "metadata": {},
   "outputs": [],
   "source": [
    "test = array.T.dot(array.dot(vectors)) - da.tile(center.dot(da.ones(array.shape)), (10,1)).T"
   ]
  },
  {
   "cell_type": "code",
   "execution_count": 95,
   "metadata": {},
   "outputs": [
    {
     "data": {
      "text/plain": [
       "(5000,)"
      ]
     },
     "execution_count": 95,
     "metadata": {},
     "output_type": "execute_result"
    }
   ],
   "source": [
    "center.shape"
   ]
  },
  {
   "cell_type": "code",
   "execution_count": 91,
   "metadata": {},
   "outputs": [
    {
     "data": {
      "text/plain": [
       "array([[ 1993.80954658,  1164.21660978, 15700.18792732, -1747.26577076,\n",
       "        -2709.27655305, -2915.6281077 , -2707.86095488, -2734.19085078,\n",
       "        -2707.43454498, -2743.02412749],\n",
       "       [ 2033.24941786,    47.24713535, 14065.40978049, -2796.16946505,\n",
       "        -2618.50250523, -2853.78630111, -2568.62996687, -2790.5611995 ,\n",
       "        -2725.0983873 , -2563.46618051],\n",
       "       [ 3544.72326951,  1210.01989041, 16309.25140993, -3217.16441582,\n",
       "        -2708.51489467, -2910.72265271, -2622.43491035, -2809.52266782,\n",
       "        -2753.1396259 , -2608.52516222],\n",
       "       [ 3970.81497863,   710.39620778, 15416.96181264, -2216.35873151,\n",
       "        -2598.12371354, -2937.30256589, -2671.12713516, -2658.44106005,\n",
       "        -2914.54498829, -2615.28072733],\n",
       "       [ 2633.6465234 ,   678.43465303, 16882.74209855, -3014.20737275,\n",
       "        -2824.21290829, -2901.76724949, -2690.58775419, -2924.35977653,\n",
       "        -2669.40200333, -2624.4676759 ],\n",
       "       [ 2558.70724545,  1096.43029176, 15010.58929596, -2128.0744048 ,\n",
       "        -2630.47056761, -2851.51577845, -2859.42826318, -2565.88258888,\n",
       "        -2665.65542821, -2763.07866055],\n",
       "       [ 2689.43564022,  1151.58303212, 16223.72839548, -2953.70037109,\n",
       "        -3024.31791102, -3062.9362918 , -2658.52267825, -2587.29793868,\n",
       "        -2657.61196155, -2625.61691872],\n",
       "       [ 3165.69220013,  1195.58826964, 17319.51583204, -1849.3451037 ,\n",
       "        -2705.9313119 , -2736.76081414, -2927.18974724, -2717.604941  ,\n",
       "        -2745.88204741, -2755.88534624],\n",
       "       [  928.39545795,  1278.92881088, 15939.75304887, -3808.43850057,\n",
       "        -2542.54446085, -2689.96047249, -2642.07125939, -2682.27781021,\n",
       "        -2606.20788563, -2777.33354775],\n",
       "       [ 2401.80265011,  1191.06842518, 16191.40374272, -3133.1209341 ,\n",
       "        -2755.05180825, -2871.48611319, -2637.65864027, -2614.37428321,\n",
       "        -2717.54873609, -2817.80383079]])"
      ]
     },
     "execution_count": 91,
     "metadata": {},
     "output_type": "execute_result"
    }
   ],
   "source": [
    "(test - vectors.dot(da.diag(values**.5)))[0:10,0:10].compute()"
   ]
  },
  {
   "cell_type": "code",
   "execution_count": null,
   "metadata": {},
   "outputs": [],
   "source": []
  },
  {
   "cell_type": "code",
   "execution_count": null,
   "metadata": {},
   "outputs": [],
   "source": []
  }
 ],
 "metadata": {
  "kernelspec": {
   "display_name": "Python 3",
   "language": "python",
   "name": "python3"
  },
  "language_info": {
   "codemirror_mode": {
    "name": "ipython",
    "version": 3
   },
   "file_extension": ".py",
   "mimetype": "text/x-python",
   "name": "python",
   "nbconvert_exporter": "python",
   "pygments_lexer": "ipython3",
   "version": "3.7.3"
  }
 },
 "nbformat": 4,
 "nbformat_minor": 4
}
