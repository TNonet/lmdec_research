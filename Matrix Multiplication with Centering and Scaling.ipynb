{
 "cells": [
  {
   "cell_type": "markdown",
   "metadata": {},
   "source": [
    "# Matrix Multipliation with Scaling and Centering "
   ]
  },
  {
   "cell_type": "code",
   "execution_count": null,
   "metadata": {},
   "outputs": [],
   "source": []
  },
  {
   "cell_type": "code",
   "execution_count": 1,
   "metadata": {},
   "outputs": [],
   "source": [
    "import numpy as np\n",
    "from numpy import newaxis\n",
    "from lmdec.array.core.matrix_ops import MatrixMultiplier, diag_dot, sym_mat_mult\n",
    "from dask.array import broadcast_to, blockwise\n",
    "import dask.array as da"
   ]
  },
  {
   "cell_type": "code",
   "execution_count": 2,
   "metadata": {},
   "outputs": [
    {
     "name": "stdout",
     "output_type": "stream",
     "text": [
      "[[  0.   1.   2.   4.   4.   5.   6.   7.   8.   9.]\n",
      " [  8.   7.   9.   4.   3.   2.   1.   5.   7.   9.]\n",
      " [ -1.  -5.   1.   4.  -3.  -5.  10.   1. -12. -10.]\n",
      " [ 30.  31.  32.   5.  34.  35.  36.  37.  38.  39.]\n",
      " [ 40.  41.  42.   4.  44.  45.  46.  47.  48.  49.]\n",
      " [ 50.  51.  52.   4.  54.  55.  56.  57.  58.  59.]]\n",
      "5\n",
      "[21.16666667 21.         23.          4.16666667 22.66666667 22.83333333\n",
      " 25.83333333 25.66666667 24.5        25.83333333]\n"
     ]
    }
   ],
   "source": [
    "n, p = 6, 10\n",
    "k = 3\n",
    "A = np.arange(n*p).reshape(n,p).astype(float)\n",
    "A[1, :] = np.random.randint(1,10, size=p)\n",
    "A[2, :] = (10*np.random.randn(p)).astype(int)\n",
    "A[:,3] = 4\n",
    "A[3,3] = 5\n",
    "x = np.random.randn(n, k)\n",
    "print(A)\n",
    "print(np.linalg.matrix_rank(A))\n",
    "A = da.array(A)\n",
    "mu = A.mean(axis=0).compute()\n",
    "std = A.std(axis=0).compute()\n",
    "print(mu)"
   ]
  },
  {
   "cell_type": "code",
   "execution_count": 3,
   "metadata": {},
   "outputs": [
    {
     "data": {
      "text/plain": [
       "array([19.90323815, 21.10292239, 20.01665973,  0.372678  , 22.20860694,\n",
       "       23.0970176 , 21.13777556, 22.1710522 , 25.05826544, 24.70098963])"
      ]
     },
     "execution_count": 3,
     "metadata": {},
     "output_type": "execute_result"
    }
   ],
   "source": [
    "std"
   ]
  },
  {
   "cell_type": "code",
   "execution_count": 4,
   "metadata": {},
   "outputs": [],
   "source": [
    "dotter = MatrixMultiplier(scale=True, center=True)\n",
    "dotter.fit(A)"
   ]
  },
  {
   "cell_type": "code",
   "execution_count": 5,
   "metadata": {},
   "outputs": [
    {
     "data": {
      "text/plain": [
       "array([[-1.42011431,  0.84835846, -2.40872334],\n",
       "       [-0.84205094,  0.59753467, -1.84791952],\n",
       "       [-1.8833617 ,  1.98440701, -3.23611781],\n",
       "       [-2.42022831,  1.29077703,  5.46633713],\n",
       "       [ 2.76032297, -2.00399447,  0.63299676],\n",
       "       [ 3.80543229, -2.71708271,  1.39342678]])"
      ]
     },
     "execution_count": 5,
     "metadata": {},
     "output_type": "execute_result"
    }
   ],
   "source": [
    "dotter.sym_mat_mult(x).compute()"
   ]
  },
  {
   "cell_type": "code",
   "execution_count": 6,
   "metadata": {},
   "outputs": [],
   "source": [
    "for N in range(2, 5):\n",
    "    for P in range(2, 5):\n",
    "        array = np.random.rand(N, P) + 1\n",
    "        std = np.diag(1/np.std(array, axis=0))\n",
    "        mu = np.mean(array, axis=0)\n",
    "        for K in range(1, 5):\n",
    "            for squeeze in [True, False]:\n",
    "                x = np.random.rand(N, K)\n",
    "                if squeeze:\n",
    "                    x = np.squeeze(x)\n",
    "\n",
    "                # With No Scale or Center\n",
    "                # x = A'Ax\n",
    "                result = array.dot(array.T.dot(x))\n",
    "                assert result.shape == x.shape\n",
    "                dotter = MatrixMultiplier(scale=False, center=False)\n",
    "                dotter.fit(da.array(array))\n",
    "                np.testing.assert_array_equal(result, dotter.sym_mat_mult(x))\n",
    "\n",
    "                # With Scale but No Center\n",
    "                # B = AD\n",
    "                b_array = array.dot(std)\n",
    "                result = b_array.dot(b_array.T.dot(x))\n",
    "                assert result.shape == x.shape\n",
    "                dotter = MatrixMultiplier(scale=True, center=False)\n",
    "                dotter.fit(da.array(array))\n",
    "                np.testing.assert_array_almost_equal(result, dotter.sym_mat_mult(x))\n",
    "\n",
    "                # With Center but No Scale:\n",
    "                # B = (A - U)\n",
    "                b_array = array - mu\n",
    "                result = b_array.dot(b_array.T.dot(x))\n",
    "                dotter = MatrixMultiplier(scale=False, center=True)\n",
    "                dotter.fit(da.array(array))\n",
    "                np.testing.assert_array_almost_equal(result, dotter.sym_mat_mult(x))\n",
    "\n",
    "                # With Center and  Scale:\n",
    "                # (A - U)'D'D(A - U)x\n",
    "                result = (array - mu).dot(std).dot(std).dot((array - mu).T.dot(x))\n",
    "                dotter = MatrixMultiplier(scale=True, center=True)\n",
    "                dotter.fit(da.array(array))\n",
    "                np.testing.assert_array_almost_equal(result, dotter.sym_mat_mult(x))"
   ]
  },
  {
   "cell_type": "markdown",
   "metadata": {},
   "source": [
    "# Time Testing"
   ]
  },
  {
   "cell_type": "code",
   "execution_count": 7,
   "metadata": {},
   "outputs": [
    {
     "name": "stdout",
     "output_type": "stream",
     "text": [
      "(10000, 40000)\n",
      "(10000, 40)\n"
     ]
    }
   ],
   "source": [
    "N, P, K = 10000, 40000, 40\n",
    "array = da.random.random((N, P))\n",
    "print(array.shape)\n",
    "x = da.random.normal(size=(N, K))\n",
    "print(x.shape)"
   ]
  },
  {
   "cell_type": "code",
   "execution_count": 8,
   "metadata": {},
   "outputs": [
    {
     "name": "stdout",
     "output_type": "stream",
     "text": [
      "1.8 s ± 97.7 ms per loop (mean ± std. dev. of 7 runs, 1 loop each)\n"
     ]
    }
   ],
   "source": [
    "%timeit sym_mat_mult(array.T, x, log=0).compute()"
   ]
  },
  {
   "cell_type": "code",
   "execution_count": 9,
   "metadata": {},
   "outputs": [],
   "source": [
    "dotter = MatrixMultiplier(scale=True, center=True)\n",
    "dotter.fit(array)"
   ]
  },
  {
   "cell_type": "code",
   "execution_count": 10,
   "metadata": {},
   "outputs": [
    {
     "name": "stdout",
     "output_type": "stream",
     "text": [
      "2.15 s ± 70.1 ms per loop (mean ± std. dev. of 7 runs, 1 loop each)\n"
     ]
    }
   ],
   "source": [
    "%timeit dotter.sym_mat_mult(x).compute()"
   ]
  },
  {
   "cell_type": "code",
   "execution_count": 11,
   "metadata": {},
   "outputs": [],
   "source": [
    "dotter = MatrixMultiplier(scale=True, center=True)\n",
    "dotter.fit(array, x)"
   ]
  },
  {
   "cell_type": "code",
   "execution_count": 12,
   "metadata": {},
   "outputs": [
    {
     "name": "stdout",
     "output_type": "stream",
     "text": [
      "2.21 s ± 103 ms per loop (mean ± std. dev. of 7 runs, 1 loop each)\n"
     ]
    }
   ],
   "source": [
    "%timeit dotter.sym_mat_mult(x).compute()"
   ]
  },
  {
   "cell_type": "code",
   "execution_count": 13,
   "metadata": {},
   "outputs": [],
   "source": [
    "dotter = MatrixMultiplier(scale=True, center=True, factor='n')\n",
    "dotter.fit(array, x)"
   ]
  },
  {
   "cell_type": "code",
   "execution_count": 15,
   "metadata": {},
   "outputs": [
    {
     "data": {
      "text/plain": [
       "array([[ 8.29104071, -3.92924563, -5.7148464 , ...,  0.83622793,\n",
       "         3.01799054, -1.38628175],\n",
       "       [ 2.53218333, -2.52837632,  0.68656853, ...,  0.26579153,\n",
       "         8.44176736,  3.67734918],\n",
       "       [-4.17830276,  6.2991281 ,  3.34098754, ..., -1.63121347,\n",
       "        -3.53299901,  3.13479579],\n",
       "       ...,\n",
       "       [-1.41816037, -2.04978041,  2.63308465, ...,  3.9189425 ,\n",
       "         3.29796815, -3.16182578],\n",
       "       [ 7.48106712,  6.60029325, -2.4488373 , ...,  7.67188935,\n",
       "         0.74780379,  3.44678434],\n",
       "       [-0.74315391,  4.57247133, -1.58825693, ..., -8.2200507 ,\n",
       "         3.0037218 , -0.9391271 ]])"
      ]
     },
     "execution_count": 15,
     "metadata": {},
     "output_type": "execute_result"
    }
   ],
   "source": [
    "dotter.sym_mat_mult(x).compute()"
   ]
  },
  {
   "cell_type": "code",
   "execution_count": null,
   "metadata": {},
   "outputs": [],
   "source": []
  }
 ],
 "metadata": {
  "kernelspec": {
   "display_name": "Python 3",
   "language": "python",
   "name": "python3"
  },
  "language_info": {
   "codemirror_mode": {
    "name": "ipython",
    "version": 3
   },
   "file_extension": ".py",
   "mimetype": "text/x-python",
   "name": "python",
   "nbconvert_exporter": "python",
   "pygments_lexer": "ipython3",
   "version": "3.7.3"
  }
 },
 "nbformat": 4,
 "nbformat_minor": 4
}
