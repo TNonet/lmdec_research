{
 "cells": [
  {
   "cell_type": "code",
   "execution_count": 1,
   "metadata": {},
   "outputs": [],
   "source": [
    "import numpy as np\n",
    "import matplotlib.pyplot as plt"
   ]
  },
  {
   "cell_type": "markdown",
   "metadata": {},
   "source": [
    "# R - Test"
   ]
  },
  {
   "cell_type": "code",
   "execution_count": 120,
   "metadata": {},
   "outputs": [],
   "source": [
    "n, p, k = 100, 80, 2\n",
    "A = np.random.normal(size=(n,p))\n",
    "\n",
    "AtA = A.T.dot(A)\n",
    "o1 = np.linalg.svd(AtA, full_matrices=False)\n",
    "right1 = o1[0] # Right Singular Values of A\n",
    "right1k = right1[:,0:k]\n",
    "\n",
    "AAt = A.dot(A.T)\n",
    "o2 = np.linalg.svd(AAt, full_matrices=False)\n",
    "left1 = o2[0]\n",
    "left1k = left1[:, 0:k]\n",
    "\n",
    "dummy = A.T.dot(left1k)\n",
    "o3 = np.linalg.svd(dummy, full_matrices=False)\n",
    "\n",
    "right1k_hat = o3[0] "
   ]
  },
  {
   "cell_type": "code",
   "execution_count": 121,
   "metadata": {},
   "outputs": [
    {
     "data": {
      "text/plain": [
       "array([[-0.02845228, -0.02320476,  0.02845228, -0.02320476],\n",
       "       [-0.10077903, -0.07596711,  0.10077903, -0.07596711],\n",
       "       [-0.08210666,  0.08679381,  0.08210666,  0.08679381],\n",
       "       [-0.2465222 , -0.10998417,  0.2465222 , -0.10998417],\n",
       "       [-0.03657501, -0.03240287,  0.03657501, -0.03240287],\n",
       "       [-0.16550437,  0.22217335,  0.16550437,  0.22217335],\n",
       "       [-0.10368956,  0.20851498,  0.10368956,  0.20851498],\n",
       "       [ 0.03880272, -0.00089454, -0.03880272, -0.00089454],\n",
       "       [-0.13816724, -0.23832052,  0.13816724, -0.23832052],\n",
       "       [ 0.04487119, -0.15155082, -0.04487119, -0.15155082]])"
      ]
     },
     "execution_count": 121,
     "metadata": {},
     "output_type": "execute_result"
    }
   ],
   "source": [
    "np.hstack([right1k_hat, right1k])[0:10,:]"
   ]
  },
  {
   "cell_type": "code",
   "execution_count": null,
   "metadata": {},
   "outputs": [],
   "source": []
  },
  {
   "cell_type": "code",
   "execution_count": 224,
   "metadata": {},
   "outputs": [],
   "source": [
    "def subspace_dist(vi,\n",
    "                  vj,\n",
    "                  s,\n",
    "                  power: float = 2,\n",
    "                  epsilon: float = 1e-6,\n",
    "                  log: int = 0):\n",
    "    \"\"\"Returns Weighted Distance between two subspaces\n",
    "\n",
    "    =  1 - <l, s**pow>/sum(s**pow)\n",
    "\n",
    "    Let:\n",
    "        S(A) returns ordered vector of singular values, [l_1, l_2, ..., l_m] of A.\n",
    "            where dim(A) = (p, q) and m = min(p, q).\n",
    "\n",
    "    Parameters\n",
    "    ----------\n",
    "    vi : array_like, shape (N, K)\n",
    "         V subspace 1\n",
    "    vj : array_like, shape (N, K)\n",
    "         V Subspace 2\n",
    "    s : array_list, shape (K,)\n",
    "        Singular Values corresponding to V Subspace 1\n",
    "    power : Numeric\n",
    "            Power to raise Singular Values, s, to weight larger values more.\n",
    "\n",
    "    log\n",
    "\n",
    "    Returns\n",
    "    -------\n",
    "    d : float\n",
    "        The distance between vi and vj weighted by s\n",
    "    \"\"\"\n",
    "    (ni, ki) = vi.shape\n",
    "    (nj, kj) = vj.shape\n",
    "\n",
    "    if ni == len(s):\n",
    "        vi = vi.T\n",
    "    if nj == len(s):\n",
    "        vj = vj.T\n",
    "\n",
    "    if vi.shape[0] != vj.shape[0]:\n",
    "        raise ValueError(\"Shape Error between vi, {},  and vj, {}\".format(vi.shape, vj.shape))\n",
    "\n",
    "    _, l, _ = np.linalg.svd(vi.T.dot(vj))\n",
    "\n",
    "    if power in [np.float('inf'), -1]:\n",
    "        # Special cases\n",
    "        s_index = np.argmin(s) if power == -1 else np.argmax(s)\n",
    "        s_value = s[s_index]\n",
    "        s = np.zeros_like(s)\n",
    "        s[s_index] = s_value\n",
    "        power = 1\n",
    "\n",
    "    weighted_cos_dist = np.squeeze((s**power).dot(l))\n",
    "    d = 1 - weighted_cos_dist/(np.sum(s**power) + epsilon)\n",
    "\n",
    "    try:\n",
    "        d = d.compute()\n",
    "    except AttributeError:\n",
    "        pass\n",
    "\n",
    "    if log > 0:\n",
    "        return d, {}\n",
    "    else:\n",
    "        return d\n",
    "\n",
    "def test_direct_method(n=100, p=30, k=5):\n",
    "    a = np.random.rand(n,p)\n",
    "    aat = a.dot(a.T)\n",
    "    ata = a.T.dot(a)\n",
    "    \n",
    "    U, S, V = np.linalg.svd(a, full_matrices=False) # Correct Values\n",
    "    U_k, S_k = U[:, :k], S[:k] # Correct Truncated Values\n",
    "    print(np.linalg.norm(a - U_k.dot(np.diag(S_k).dot(V[:k, :])), 2))\n",
    "    print(np.linalg.norm(a - U_k.dot(np.diag(S_k).dot(V[:, :k].T)), 2))\n",
    "    V_k = V[:k, :]\n",
    "    \n",
    "    \n",
    "    U1, S1, V1 = np.linalg.svd(aat, full_matrices=False)\n",
    "#     vals, vects = np.linalg.eigh(aat)\n",
    "#     print(\"SVD(AA') = USV'\")\n",
    "#     print(\"U == V since AA' is Symmetric!\")\n",
    "#     print('\\t', subspace_dist(U1, V1, np.ones(n)))\n",
    "#     print(\"U from SVD(AA') == U from SVD(A)\")\n",
    "#     print('\\t', subspace_dist(U1[:, 0:min(n,p)], U, np.ones(n)))\n",
    "    \n",
    "    \n",
    "    U1, S1, V1 = U[:, :k], S[:k], V[:k, :]\n",
    "    \n",
    "    U2, _, _ = np.linalg.svd(a.T.dot(U1), full_matrices=False)\n",
    "\n",
    "    print(V_k.shape)\n",
    "    print(U2.shape)\n",
    "    \n",
    "    print(subspace_dist(U_k, U1, S[0:k]))\n",
    "    print(subspace_dist(V_k, U2, S[0:k]))"
   ]
  },
  {
   "cell_type": "code",
   "execution_count": 225,
   "metadata": {},
   "outputs": [
    {
     "name": "stdout",
     "output_type": "stream",
     "text": [
      "3.1613780098472857\n",
      "40.99449442712815\n",
      "(11, 30)\n",
      "(30, 11)\n",
      "1.0883131063010865e-09\n",
      "1.0883135503902963e-09\n"
     ]
    }
   ],
   "source": [
    "test_direct_method(k=11)"
   ]
  },
  {
   "cell_type": "code",
   "execution_count": 221,
   "metadata": {},
   "outputs": [],
   "source": [
    "def PM(a, N = 10000):\n",
    "    x = np.random.rand(n, k)\n",
    "    for _ in range(N):\n",
    "        x, _ = np.linalg.qr(x)\n",
    "        x = a.dot(x)\n",
    "    \n",
    "    return x\n",
    "\n",
    "def subspace_to_svd(array, x):\n",
    "    U, S, _ = np.linalg.svd(x, full_matrices=False)\n",
    "    V, _, _ = np.linalg.svd(array.T.dot(U), full_matrices=False)\n",
    "    \n",
    "    return U, S, V.T"
   ]
  },
  {
   "cell_type": "code",
   "execution_count": 117,
   "metadata": {},
   "outputs": [
    {
     "name": "stdout",
     "output_type": "stream",
     "text": [
      "(20, 5) (5,) (5, 15)\n",
      "Cos disance of U and U_PM\n",
      "[1. 1. 1. 1. 1.]\n",
      "Cos disance of V and V_PM\n",
      "[1.00000000e+00 1.00000000e+00 1.00000000e+00 1.00000000e+00\n",
      " 1.00000000e+00 1.85203119e-16 1.55889114e-16 1.27252287e-16\n",
      " 1.15497162e-16 9.37248610e-17 6.49776411e-17 5.22041354e-17\n",
      " 3.39923837e-17 3.28071088e-17 2.77785957e-17]\n",
      "         S         S_PM          diff\n",
      "[[ 7.90085928e+01  7.90085928e+01  1.42108547e-14]\n",
      " [ 5.89048535e+00  5.89048535e+00 -3.55271368e-15]\n",
      " [ 3.64049036e+00  3.64049036e+00 -3.99680289e-15]\n",
      " [ 3.30696789e+00  3.30696789e+00 -8.88178420e-16]\n",
      " [ 2.35024702e+00  2.35024702e+00 -1.33226763e-15]]\n",
      "(20, 5) (20, 5)\n",
      "(5, 20) (5, 15)\n"
     ]
    },
    {
     "ename": "ValueError",
     "evalue": "matmul: Input operand 1 has a mismatch in its core dimension 0, with gufunc signature (n?,k),(k,m?)->(n?,m?) (size 15 is different from 5)",
     "output_type": "error",
     "traceback": [
      "\u001b[0;31m---------------------------------------------------------------------------\u001b[0m",
      "\u001b[0;31mValueError\u001b[0m                                Traceback (most recent call last)",
      "\u001b[0;32m<ipython-input-117-fe1e8639a64b>\u001b[0m in \u001b[0;36m<module>\u001b[0;34m\u001b[0m\n\u001b[1;32m     11\u001b[0m \u001b[0mprint\u001b[0m\u001b[0;34m(\u001b[0m\u001b[0mU_k\u001b[0m\u001b[0;34m.\u001b[0m\u001b[0mshape\u001b[0m\u001b[0;34m,\u001b[0m \u001b[0mU_PM\u001b[0m\u001b[0;34m.\u001b[0m\u001b[0mshape\u001b[0m\u001b[0;34m)\u001b[0m\u001b[0;34m\u001b[0m\u001b[0;34m\u001b[0m\u001b[0m\n\u001b[1;32m     12\u001b[0m \u001b[0mprint\u001b[0m\u001b[0;34m(\u001b[0m\u001b[0mV_k\u001b[0m\u001b[0;34m.\u001b[0m\u001b[0mshape\u001b[0m\u001b[0;34m,\u001b[0m \u001b[0mV_PM\u001b[0m\u001b[0;34m.\u001b[0m\u001b[0mshape\u001b[0m\u001b[0;34m)\u001b[0m\u001b[0;34m\u001b[0m\u001b[0;34m\u001b[0m\u001b[0m\n\u001b[0;32m---> 13\u001b[0;31m \u001b[0mprint\u001b[0m\u001b[0;34m(\u001b[0m\u001b[0mnp\u001b[0m\u001b[0;34m.\u001b[0m\u001b[0mdiag\u001b[0m\u001b[0;34m(\u001b[0m\u001b[0mV_k\u001b[0m\u001b[0;34m.\u001b[0m\u001b[0mT\u001b[0m\u001b[0;34m@\u001b[0m\u001b[0mata\u001b[0m\u001b[0;34m@\u001b[0m\u001b[0mV_k\u001b[0m\u001b[0;34m)\u001b[0m\u001b[0;34m)\u001b[0m\u001b[0;34m\u001b[0m\u001b[0;34m\u001b[0m\u001b[0m\n\u001b[0m\u001b[1;32m     14\u001b[0m \u001b[0mprint\u001b[0m\u001b[0;34m(\u001b[0m\u001b[0mnp\u001b[0m\u001b[0;34m.\u001b[0m\u001b[0mdiag\u001b[0m\u001b[0;34m(\u001b[0m\u001b[0mV_PM\u001b[0m\u001b[0;34m.\u001b[0m\u001b[0mT\u001b[0m\u001b[0;34m@\u001b[0m\u001b[0mata\u001b[0m\u001b[0;34m@\u001b[0m\u001b[0mV_PM\u001b[0m\u001b[0;34m)\u001b[0m\u001b[0;34m)\u001b[0m\u001b[0;34m\u001b[0m\u001b[0;34m\u001b[0m\u001b[0m\n\u001b[1;32m     15\u001b[0m \u001b[0mprint\u001b[0m\u001b[0;34m(\u001b[0m\u001b[0mnp\u001b[0m\u001b[0;34m.\u001b[0m\u001b[0mdiag\u001b[0m\u001b[0;34m(\u001b[0m\u001b[0mU_k\u001b[0m\u001b[0;34m.\u001b[0m\u001b[0mT\u001b[0m\u001b[0;34m@\u001b[0m\u001b[0maat\u001b[0m\u001b[0;34m@\u001b[0m\u001b[0mU_k\u001b[0m\u001b[0;34m)\u001b[0m\u001b[0;34m)\u001b[0m\u001b[0;34m\u001b[0m\u001b[0;34m\u001b[0m\u001b[0m\n",
      "\u001b[0;31mValueError\u001b[0m: matmul: Input operand 1 has a mismatch in its core dimension 0, with gufunc signature (n?,k),(k,m?)->(n?,m?) (size 15 is different from 5)"
     ]
    }
   ],
   "source": [
    "U_PM, S_PM, V_PM = subspace_to_svd(a, PM(aat))\n",
    "print(U_PM.shape, S_PM.shape, V_PM.shape)\n",
    "_, L, _ = np.linalg.svd(U_PM.T.dot(U_k), full_matrices=False)\n",
    "print('Cos disance of U and U_PM')\n",
    "print(L)\n",
    "_, L, _ = np.linalg.svd(V_PM.T.dot(V_k), full_matrices=False)\n",
    "print('Cos disance of V and V_PM')\n",
    "print(L)\n",
    "print('         S         S_PM          diff')\n",
    "print(np.hstack([S_k.reshape(-1,1), S_PM.reshape(-1,1), (S_k-S_PM).reshape(-1,1)]))\n",
    "print(U_k.shape, U_PM.shape)\n",
    "print(V_k.shape, V_PM.shape)\n",
    "print(np.diag(V_k.T@ata@V_k))\n",
    "print(np.diag(V_PM.T@ata@V_PM))\n",
    "print(np.diag(U_k.T@aat@U_k))\n",
    "print(np.diag(U_PM.T@aat@U_PM))"
   ]
  },
  {
   "cell_type": "markdown",
   "metadata": {},
   "source": [
    "## R-Test"
   ]
  },
  {
   "cell_type": "code",
   "execution_count": null,
   "metadata": {},
   "outputs": [],
   "source": []
  }
 ],
 "metadata": {
  "kernelspec": {
   "display_name": "Python 3",
   "language": "python",
   "name": "python3"
  },
  "language_info": {
   "codemirror_mode": {
    "name": "ipython",
    "version": 3
   },
   "file_extension": ".py",
   "mimetype": "text/x-python",
   "name": "python",
   "nbconvert_exporter": "python",
   "pygments_lexer": "ipython3",
   "version": "3.7.3"
  }
 },
 "nbformat": 4,
 "nbformat_minor": 4
}
