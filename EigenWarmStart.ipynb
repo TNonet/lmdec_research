{
 "cells": [
  {
   "cell_type": "code",
   "execution_count": 1,
   "metadata": {},
   "outputs": [],
   "source": [
    "import os\n",
    "os.environ[\"OMP_NUM_THREADS\"] = \"1\" # export OMP_NUM_THREADS=4\n",
    "os.environ[\"OPENBLAS_NUM_THREADS\"] = \"1\" # export OPENBLAS_NUM_THREADS=4 \n",
    "os.environ[\"MKL_NUM_THREADS\"] = \"1\" # export MKL_NUM_THREADS=6\n"
   ]
  },
  {
   "cell_type": "code",
   "execution_count": 2,
   "metadata": {},
   "outputs": [],
   "source": [
    "import dask\n",
    "import numpy as np\n",
    "import dask.array as da\n",
    "import lmdec\n",
    "from lmdec.decomp.svd_init import *\n",
    "from lmdec.decomp.iter_methods import PowerMethod\n",
    "import h5py\n",
    "import matplotlib.pyplot as plt"
   ]
  },
  {
   "cell_type": "code",
   "execution_count": 3,
   "metadata": {},
   "outputs": [],
   "source": [
    "array_file_path = '/Users/tnonet/Documents/SVD_Matricies/data/20K_80K.h5py'\n",
    "\n",
    "assert os.path.isfile(array_file_path)\n",
    "array_file_path = os.path.abspath(array_file_path)\n",
    "f = h5py.File(array_file_path, 'r')\n",
    "snp_array = dask.array.from_array(f['/array'])"
   ]
  },
  {
   "cell_type": "code",
   "execution_count": 4,
   "metadata": {},
   "outputs": [],
   "source": [
    "PM = PowerMethod(max_iter=200, k=10, buffer=10, tol=1e-4, p=1,\n",
    "                 sub_svd_start=True, scoring_method='q-vals')\n",
    "U, S, V = PM.svd(snp_array)"
   ]
  },
  {
   "cell_type": "code",
   "execution_count": 5,
   "metadata": {},
   "outputs": [
    {
     "name": "stdout",
     "output_type": "stream",
     "text": [
      "131.8253870010376\n",
      "12\n"
     ]
    }
   ],
   "source": [
    "print(PM.time)\n",
    "print(len(PM.tol_iterations))"
   ]
  },
  {
   "cell_type": "code",
   "execution_count": 6,
   "metadata": {},
   "outputs": [],
   "source": [
    "PM2 = PowerMethod(max_iter=200, k=10, buffer=10, tol=1e-4, p=1,\n",
    "                 sub_svd_start=False, scoring_method='q-vals')\n",
    "U2, S2, V2 = PM2.svd(snp_array)"
   ]
  },
  {
   "cell_type": "code",
   "execution_count": 7,
   "metadata": {},
   "outputs": [
    {
     "name": "stdout",
     "output_type": "stream",
     "text": [
      "120.61759519577026\n",
      "14\n"
     ]
    }
   ],
   "source": [
    "print(PM2.time)\n",
    "print(len(PM2.tol_iterations))"
   ]
  },
  {
   "cell_type": "code",
   "execution_count": 8,
   "metadata": {},
   "outputs": [
    {
     "data": {
      "image/png": "[encoded data removed]",
      "text/plain": [
       "<Figure size 432x288 with 1 Axes>"
      ]
     },
     "metadata": {
      "needs_background": "light"
     },
     "output_type": "display_data"
    }
   ],
   "source": [
    "plt.plot(PM.tol_iterations[2:], label = 'Warm Start')\n",
    "plt.plot(PM2.tol_iterations[2:], label='Random Start')\n",
    "plt.legend()\n",
    "plt.show()"
   ]
  },
  {
   "cell_type": "code",
   "execution_count": 25,
   "metadata": {},
   "outputs": [
    {
     "data": {
      "text/plain": [
       "[inf,\n",
       " 0.5366707221286605,\n",
       " 0.0031746699105527037,\n",
       " 0.0015487851749622812,\n",
       " 0.0008960331070809895]"
      ]
     },
     "execution_count": 25,
     "metadata": {},
     "output_type": "execute_result"
    }
   ],
   "source": []
  },
  {
   "cell_type": "code",
   "execution_count": 27,
   "metadata": {},
   "outputs": [],
   "source": [
    "m, n = 10000, 40000\n",
    "A = da.random.random((m, n)) - 1.00*da.random.uniform(size=(m,n))\n",
    "A = A.persist()\n",
    "#A = np.random.rand(m,n)\n",
    "# U, S, V = np.linalg.svd(A)\n",
    "# S = np.array(S)\n",
    "# A = A.T.dot(A)\n",
    "# snp_array = da.array(A)"
   ]
  },
  {
   "cell_type": "code",
   "execution_count": 28,
   "metadata": {},
   "outputs": [
    {
     "name": "stdout",
     "output_type": "stream",
     "text": [
      "Rows: 300\n"
     ]
    },
    {
     "name": "stderr",
     "output_type": "stream",
     "text": [
      "/Users/tnonet/Documents/GitHub/lamade/lamade/decomp/svd_init.py:162: RuntimeWarning: divide by zero encountered in log\n",
      "  return np.log(x) / np.log(b)\n"
     ]
    }
   ],
   "source": [
    "x, log = eigengap_svd_start(A, k=10, b_max=50, tol=1e-6, log=1, warm_start_row_factor=5)"
   ]
  },
  {
   "cell_type": "code",
   "execution_count": 29,
   "metadata": {},
   "outputs": [
    {
     "data": {
      "text/plain": [
       "{'S': array([113.40217574, 113.20217547, 113.12191214, 113.04053252,\n",
       "        112.83042171, 112.80833608, 112.65183897, 112.51766196,\n",
       "        112.43670425, 112.37920201, 112.31761619, 112.1896821 ,\n",
       "        112.14569639, 112.1311436 , 112.06796174, 111.99640684,\n",
       "        111.94074512, 111.77234237, 111.72482181, 111.69352086,\n",
       "        111.66081619, 111.55879674, 111.47707027, 111.42027734,\n",
       "        111.37435724, 111.30354342, 111.22839414, 111.20405022,\n",
       "        111.16406481, 111.01153344, 110.98994586, 110.88567076,\n",
       "        110.82850758, 110.81249797, 110.72454645, 110.66710815,\n",
       "        110.63922336, 110.61236586, 110.47771884, 110.45080704,\n",
       "        110.37164569, 110.26050904, 110.19668906, 110.09641139,\n",
       "        110.04739772, 109.96347952, 109.92072757, 109.87895847,\n",
       "        109.81282222, 109.68045912, 109.61158933, 109.52689044,\n",
       "        109.5168354 , 109.4383274 , 109.32843699, 109.31354079,\n",
       "        109.15072058, 108.95841412, 108.88384893, 108.83066361]),\n",
       " 'req_iter': array([          inf,           inf,           inf,           inf,\n",
       "                  inf,           inf,           inf,           inf,\n",
       "                  inf,           inf, 5381.29675273, 1747.69394922,\n",
       "        1418.2009747 , 1334.91307241, 1063.6256945 ,  864.52894352,\n",
       "         754.59027991,  544.78253904,  505.11356398,  481.98795519,\n",
       "         459.97806498,  402.5948102 ,  365.98873518,  344.22521794,\n",
       "         328.42697618,  306.70824438,  286.58315372,  280.61576621,\n",
       "         271.33309131,  240.90711672,  237.14065924,  220.48059409,\n",
       "         212.29841006,  210.11386322,  198.86669958,  192.14527457,\n",
       "         189.04220685,  186.14605645,  172.85974362,  170.4266903 ,\n",
       "         163.64797402,  154.98592448,  150.41049321,  143.73808532,\n",
       "         140.68554549,  135.74675949,  133.36033755,  131.10759357,\n",
       "         127.69061818,  121.35496301,           inf,           inf,\n",
       "                  inf,           inf,           inf,           inf,\n",
       "                  inf,           inf,           inf,           inf]),\n",
       " 'costs': [inf,\n",
       "  inf,\n",
       "  inf,\n",
       "  inf,\n",
       "  inf,\n",
       "  inf,\n",
       "  inf,\n",
       "  inf,\n",
       "  inf,\n",
       "  inf,\n",
       "  5610.853454936596,\n",
       "  1839.6492333780022,\n",
       "  1506.9408871808243,\n",
       "  1431.733156177466,\n",
       "  1151.3600192648414,\n",
       "  944.4486358683208,\n",
       "  831.8603321224164,\n",
       "  605.9926544337216,\n",
       "  566.895989082701,\n",
       "  545.7409309873024,\n",
       "  525.3997562149627,\n",
       "  463.86362489591494,\n",
       "  425.3307965062811,\n",
       "  403.46594077633466,\n",
       "  388.21897593897575,\n",
       "  365.60010716112515,\n",
       "  344.4642415143001,\n",
       "  340.08570303103465,\n",
       "  331.53743541910893,\n",
       "  296.7591407061423,\n",
       "  294.48066593069314,\n",
       "  275.98755596763465,\n",
       "  267.8593178019137,\n",
       "  267.19514554849576,\n",
       "  254.87259151647518,\n",
       "  248.17142605651475,\n",
       "  246.04584455939153,\n",
       "  244.1298400912668,\n",
       "  228.42604925673973,\n",
       "  226.90781507372267,\n",
       "  219.512000152796,\n",
       "  209.43620096697984,\n",
       "  204.75094209558654,\n",
       "  197.09911457453805,\n",
       "  194.3141565291656,\n",
       "  188.84435558973016,\n",
       "  186.85234384853663,\n",
       "  185.00143747747367,\n",
       "  181.45127083697443,\n",
       "  173.656487344588,\n",
       "  inf,\n",
       "  inf,\n",
       "  inf,\n",
       "  inf,\n",
       "  inf,\n",
       "  inf,\n",
       "  inf,\n",
       "  inf,\n",
       "  inf,\n",
       "  inf],\n",
       " 'start': 1580179639.654645,\n",
       " 'params': {'warm_start_row_factor': 5, 'tol': 1e-06, 'seed': 42, 'log': 1},\n",
       " 'end': 1580179647.8898098}"
      ]
     },
     "execution_count": 29,
     "metadata": {},
     "output_type": "execute_result"
    }
   ],
   "source": [
    "log"
   ]
  },
  {
   "cell_type": "code",
   "execution_count": 17,
   "metadata": {},
   "outputs": [],
   "source": [
    "def y_decrease(costs, k, y):\n",
    "    init_time = costs[k]\n",
    "    expon = list(range(0, len(costs)))\n",
    "    return init_time*np.power(y, expon)"
   ]
  },
  {
   "cell_type": "code",
   "execution_count": 18,
   "metadata": {},
   "outputs": [
    {
     "data": {
      "text/plain": [
       "<matplotlib.legend.Legend at 0x124719320>"
      ]
     },
     "execution_count": 18,
     "metadata": {},
     "output_type": "execute_result"
    },
    {
     "data": {
      "image/png": "[encoded data removed]",
      "text/plain": [
       "<Figure size 432x288 with 1 Axes>"
      ]
     },
     "metadata": {
      "needs_background": "light"
     },
     "output_type": "display_data"
    }
   ],
   "source": [
    "#plt.plot(S, label='Real')\n",
    "plt.plot(log['S'], label='Approx')\n",
    "plt.legend()"
   ]
  },
  {
   "cell_type": "code",
   "execution_count": null,
   "metadata": {},
   "outputs": [],
   "source": []
  },
  {
   "cell_type": "code",
   "execution_count": 19,
   "metadata": {},
   "outputs": [
    {
     "data": {
      "image/png": "[encoded data removed]",
      "text/plain": [
       "<Figure size 432x288 with 1 Axes>"
      ]
     },
     "metadata": {
      "needs_background": "light"
     },
     "output_type": "display_data"
    }
   ],
   "source": [
    "k = 10\n",
    "plt.plot(log['costs'], label ='Time')\n",
    "plt.plot(y_decrease(log['costs'], k, .95), label='Y Decrease')\n",
    "plt.plot(log['req_iter'], label='Iters')\n",
    "plt.plot(log['S'], label='Eigen Values')\n",
    "plt.yscale('log')\n",
    "plt.legend()\n",
    "plt.show()"
   ]
  },
  {
   "cell_type": "code",
   "execution_count": 20,
   "metadata": {},
   "outputs": [
    {
     "name": "stdout",
     "output_type": "stream",
     "text": [
      "Normal Start Method\n",
      "Normal Start Method\n",
      "Normal Start Method\n",
      "Normal Start Method\n",
      "Normal Start Method\n",
      "Normal Start Method\n",
      "Normal Start Method\n",
      "Normal Start Method\n",
      "Normal Start Method\n",
      "Normal Start Method\n",
      "Normal Start Method\n"
     ]
    }
   ],
   "source": [
    "b_range = [0,5,10,15,20,25,30,35,40,45,50]\n",
    "run_times = []\n",
    "iters = []\n",
    "for b in b_range:\n",
    "    PM = PowerMethod(max_iter=200, k=k, buffer=b, scoring_tol=1e-1, p=.1, sub_svd_start=False)\n",
    "    _, _, _ = PM.svd(A)\n",
    "    run_times.append(PM.logs['end'] - PM.logs['start'])\n",
    "    iters.append(PM.logs['tol'])"
   ]
  },
  {
   "cell_type": "code",
   "execution_count": 23,
   "metadata": {},
   "outputs": [
    {
     "data": {
      "text/plain": [
       "[<matplotlib.lines.Line2D at 0x122658da0>]"
      ]
     },
     "execution_count": 23,
     "metadata": {},
     "output_type": "execute_result"
    },
    {
     "data": {
      "image/png": "[encoded data removed]",
      "text/plain": [
       "<Figure size 432x288 with 1 Axes>"
      ]
     },
     "metadata": {
      "needs_background": "light"
     },
     "output_type": "display_data"
    }
   ],
   "source": [
    "plt.plot(b_range, run_times)\n",
    "plt.plot(b_range, [len(i) for i in iters])"
   ]
  },
  {
   "cell_type": "code",
   "execution_count": 26,
   "metadata": {},
   "outputs": [
    {
     "data": {
      "text/plain": [
       "[<matplotlib.lines.Line2D at 0x1230e4208>]"
      ]
     },
     "execution_count": 26,
     "metadata": {},
     "output_type": "execute_result"
    },
    {
     "data": {
      "image/png": "[encoded data removed]",
      "text/plain": [
       "<Figure size 432x288 with 1 Axes>"
      ]
     },
     "metadata": {
      "needs_background": "light"
     },
     "output_type": "display_data"
    }
   ],
   "source": [
    "plt.plot(PM.logs['S'][-1])\n",
    "plt.plot(log['S'])"
   ]
  },
  {
   "cell_type": "code",
   "execution_count": 14,
   "metadata": {},
   "outputs": [
    {
     "name": "stdout",
     "output_type": "stream",
     "text": [
      "Normal Start Method\n",
      "14.080413103103638\n"
     ]
    }
   ],
   "source": [
    "PM = PowerMethod(max_iter=200, k=k, buffer=10, scoring_tol=1e-1, p=.1, sub_svd_start=True)\n",
    "_, _, _ = PM.svd(A)\n",
    "print(PM.logs['end'] - PM.logs['start'])"
   ]
  },
  {
   "cell_type": "code",
   "execution_count": 15,
   "metadata": {},
   "outputs": [
    {
     "ename": "NameError",
     "evalue": "name 'SVD_m2' is not defined",
     "output_type": "error",
     "traceback": [
      "\u001b[0;31m---------------------------------------------------------------------------\u001b[0m",
      "\u001b[0;31mNameError\u001b[0m                                 Traceback (most recent call last)",
      "\u001b[0;32m<ipython-input-15-d9c99fe81b52>\u001b[0m in \u001b[0;36m<module>\u001b[0;34m\u001b[0m\n\u001b[0;32m----> 1\u001b[0;31m U, S, V, log = SVD_m2(snp_array,\n\u001b[0m\u001b[1;32m      2\u001b[0m                       \u001b[0mk\u001b[0m\u001b[0;34m=\u001b[0m\u001b[0;36m10\u001b[0m\u001b[0;34m,\u001b[0m\u001b[0;34m\u001b[0m\u001b[0;34m\u001b[0m\u001b[0m\n\u001b[1;32m      3\u001b[0m                       \u001b[0mover_sampling\u001b[0m\u001b[0;34m=\u001b[0m\u001b[0;36m1\u001b[0m\u001b[0;34m,\u001b[0m\u001b[0;34m\u001b[0m\u001b[0;34m\u001b[0m\u001b[0m\n\u001b[1;32m      4\u001b[0m                       \u001b[0mtsqr_period_threshold\u001b[0m\u001b[0;34m=\u001b[0m\u001b[0;36m0\u001b[0m\u001b[0;34m,\u001b[0m\u001b[0;34m\u001b[0m\u001b[0;34m\u001b[0m\u001b[0m\n\u001b[1;32m      5\u001b[0m                       \u001b[0merror_sample_period\u001b[0m\u001b[0;34m=\u001b[0m\u001b[0;36m0\u001b[0m\u001b[0;34m,\u001b[0m\u001b[0;34m\u001b[0m\u001b[0;34m\u001b[0m\u001b[0m\n",
      "\u001b[0;31mNameError\u001b[0m: name 'SVD_m2' is not defined"
     ]
    }
   ],
   "source": [
    "U, S, V, log = SVD_m2(snp_array,\n",
    "                      k=10,\n",
    "                      over_sampling=1,\n",
    "                      tsqr_period_threshold=0,\n",
    "                      error_sample_period=0,\n",
    "                      max_iter=20)\n",
    "\n",
    "print(len(log['tol']))\n",
    "print(log['end']-log['start'])"
   ]
  },
  {
   "cell_type": "code",
   "execution_count": null,
   "metadata": {},
   "outputs": [],
   "source": [
    "U, S, V, log = svdecomp.decomp.SVD_m2(snp_array,\n",
    "                                      k=10,\n",
    "                                      over_sampling=10,\n",
    "                                      tsqr_period_threshold=0,\n",
    "                                      error_sample_period=0,\n",
    "                                      max_iter=20)\n",
    "\n",
    "print(log['end']-log['start'])"
   ]
  },
  {
   "cell_type": "code",
   "execution_count": null,
   "metadata": {},
   "outputs": [],
   "source": [
    "U, S, V, log = svdecomp.decomp.SVD_m2(snp_array,\n",
    "                                      k=10,\n",
    "                                      over_sampling=30,\n",
    "                                      tsqr_period_threshold=0,\n",
    "                                      error_sample_period=0,\n",
    "                                      max_iter=20)\n",
    "\n",
    "print(log['end']-log['start'])"
   ]
  },
  {
   "cell_type": "code",
   "execution_count": null,
   "metadata": {},
   "outputs": [],
   "source": [
    "U, S, V, log = svdecomp.decomp.SVD_m2(snp_array,\n",
    "                                      k=10,\n",
    "                                      over_sampling=60,\n",
    "                                      tsqr_period_threshold=0,\n",
    "                                      error_sample_period=0,\n",
    "                                      max_iter=20)\n",
    "\n",
    "print(log['end']-log['start'])"
   ]
  },
  {
   "cell_type": "code",
   "execution_count": null,
   "metadata": {},
   "outputs": [],
   "source": [
    "U, S, V, log = svdecomp.decomp.SVD_m2(snp_array,\n",
    "                                      k=10,\n",
    "                                      over_sampling=100,\n",
    "                                      tsqr_period_threshold=0,\n",
    "                                      error_sample_period=0,\n",
    "                                      max_iter=20)\n",
    "\n",
    "print(log['end']-log['start'])"
   ]
  },
  {
   "cell_type": "code",
   "execution_count": null,
   "metadata": {},
   "outputs": [],
   "source": [
    "a = []\n",
    "b = 1"
   ]
  },
  {
   "cell_type": "code",
   "execution_count": null,
   "metadata": {},
   "outputs": [],
   "source": [
    "if b:"
   ]
  },
  {
   "cell_type": "code",
   "execution_count": null,
   "metadata": {},
   "outputs": [],
   "source": [
    "a = np.arange(10)"
   ]
  },
  {
   "cell_type": "code",
   "execution_count": null,
   "metadata": {},
   "outputs": [],
   "source": [
    "a"
   ]
  },
  {
   "cell_type": "code",
   "execution_count": null,
   "metadata": {},
   "outputs": [],
   "source": [
    "a[:None]"
   ]
  },
  {
   "cell_type": "code",
   "execution_count": null,
   "metadata": {},
   "outputs": [],
   "source": []
  }
 ],
 "metadata": {
  "kernelspec": {
   "display_name": "Python 3",
   "language": "python",
   "name": "python3"
  },
  "language_info": {
   "codemirror_mode": {
    "name": "ipython",
    "version": 3
   },
   "file_extension": ".py",
   "mimetype": "text/x-python",
   "name": "python",
   "nbconvert_exporter": "python",
   "pygments_lexer": "ipython3",
   "version": "3.7.3"
  }
 },
 "nbformat": 4,
 "nbformat_minor": 4
}
